{
 "cells": [
  {
   "cell_type": "code",
   "execution_count": 5,
   "metadata": {},
   "outputs": [],
   "source": [
    "import numpy as np\n",
    "import pandas as pd\n",
    "from sklearn.metrics.pairwise import cosine_similarity, cosine_distances\n",
    "from sklearn.feature_extraction.text import CountVectorizer\n",
    "\n",
    "# todo : https://www.doczamora.com/content-based-recommender-system-for-movies-with-tensorflow"
   ]
  },
  {
   "cell_type": "code",
   "execution_count": 109,
   "metadata": {},
   "outputs": [],
   "source": [
    "# df = pd.read_json('/Users/juliendefaut/Dev/Books-recommendations/output/list-books.json', lines=True)\n",
    "# df = df.drop_duplicates(subset = \"book_id\", keep = 'first')\n",
    "\n",
    "# df.to_json(\"/Users/juliendefaut/Dev/Books-recommendations/output/list-books-noduplicate.json\", orient='records', lines=True)\n"
   ]
  },
  {
   "cell_type": "code",
   "execution_count": 122,
   "metadata": {},
   "outputs": [],
   "source": [
    "df = pd.read_json('/Users/juliendefaut/Dev/Books-recommendations/output/books-julien.json', lines=True)"
   ]
  },
  {
   "cell_type": "code",
   "execution_count": 7,
   "metadata": {},
   "outputs": [
    {
     "data": {
      "text/html": [
       "<div>\n",
       "<style scoped>\n",
       "    .dataframe tbody tr th:only-of-type {\n",
       "        vertical-align: middle;\n",
       "    }\n",
       "\n",
       "    .dataframe tbody tr th {\n",
       "        vertical-align: top;\n",
       "    }\n",
       "\n",
       "    .dataframe thead th {\n",
       "        text-align: right;\n",
       "    }\n",
       "</style>\n",
       "<table border=\"1\" class=\"dataframe\">\n",
       "  <thead>\n",
       "    <tr style=\"text-align: right;\">\n",
       "      <th></th>\n",
       "      <th>book_id</th>\n",
       "      <th>book_nb_comm</th>\n",
       "      <th>title</th>\n",
       "      <th>name</th>\n",
       "      <th>surname</th>\n",
       "      <th>tags</th>\n",
       "      <th>img_url</th>\n",
       "      <th>comm_id</th>\n",
       "      <th>user_id</th>\n",
       "      <th>note</th>\n",
       "      <th>date</th>\n",
       "      <th>appreciations</th>\n",
       "      <th>commentaire</th>\n",
       "    </tr>\n",
       "  </thead>\n",
       "  <tbody>\n",
       "    <tr>\n",
       "      <th>0</th>\n",
       "      <td>905033</td>\n",
       "      <td>137</td>\n",
       "      <td>Le gang de la clef à molette (Ne meurs pas, ô ...</td>\n",
       "      <td>Edward</td>\n",
       "      <td>Abbey</td>\n",
       "      <td>roman,romans policiers et polars,thriller,colo...</td>\n",
       "      <td>/couv/CVT_cvt_Le-gang-de-la-clef-a-molette_345...</td>\n",
       "      <td>2080694</td>\n",
       "      <td>706958</td>\n",
       "      <td>4.0</td>\n",
       "      <td>30 novembre 2019</td>\n",
       "      <td>85</td>\n",
       "      <td>Roadtrip désertique dans l'Ouest Américain en ...</td>\n",
       "    </tr>\n",
       "    <tr>\n",
       "      <th>1</th>\n",
       "      <td>905033</td>\n",
       "      <td>137</td>\n",
       "      <td>Le gang de la clef à molette (Ne meurs pas, ô ...</td>\n",
       "      <td>Edward</td>\n",
       "      <td>Abbey</td>\n",
       "      <td>roman,romans policiers et polars,thriller,colo...</td>\n",
       "      <td>/couv/CVT_cvt_Le-gang-de-la-clef-a-molette_345...</td>\n",
       "      <td>1271915</td>\n",
       "      <td>319761</td>\n",
       "      <td>5.0</td>\n",
       "      <td>03 mars 2017</td>\n",
       "      <td>68</td>\n",
       "      <td>De temps en temps, j'aime bien revenir vers l'...</td>\n",
       "    </tr>\n",
       "    <tr>\n",
       "      <th>2</th>\n",
       "      <td>905033</td>\n",
       "      <td>137</td>\n",
       "      <td>Le gang de la clef à molette (Ne meurs pas, ô ...</td>\n",
       "      <td>Edward</td>\n",
       "      <td>Abbey</td>\n",
       "      <td>roman,romans policiers et polars,thriller,colo...</td>\n",
       "      <td>/couv/CVT_cvt_Le-gang-de-la-clef-a-molette_345...</td>\n",
       "      <td>1093854</td>\n",
       "      <td>128814</td>\n",
       "      <td>5.0</td>\n",
       "      <td>27 juin 2016</td>\n",
       "      <td>67</td>\n",
       "      <td>Depuis peu j'ai découvert grâce à \" Cardabelle...</td>\n",
       "    </tr>\n",
       "    <tr>\n",
       "      <th>3</th>\n",
       "      <td>905033</td>\n",
       "      <td>137</td>\n",
       "      <td>Le gang de la clef à molette (Ne meurs pas, ô ...</td>\n",
       "      <td>Edward</td>\n",
       "      <td>Abbey</td>\n",
       "      <td>roman,romans policiers et polars,thriller,colo...</td>\n",
       "      <td>/couv/CVT_cvt_Le-gang-de-la-clef-a-molette_345...</td>\n",
       "      <td>2711430</td>\n",
       "      <td>227017</td>\n",
       "      <td>4.5</td>\n",
       "      <td>22 juillet 2021</td>\n",
       "      <td>64</td>\n",
       "      <td>Ils sont quatre. \\nUne blonde , jeunette, venu...</td>\n",
       "    </tr>\n",
       "    <tr>\n",
       "      <th>4</th>\n",
       "      <td>905033</td>\n",
       "      <td>137</td>\n",
       "      <td>Le gang de la clef à molette (Ne meurs pas, ô ...</td>\n",
       "      <td>Edward</td>\n",
       "      <td>Abbey</td>\n",
       "      <td>roman,romans policiers et polars,thriller,colo...</td>\n",
       "      <td>/couv/CVT_cvt_Le-gang-de-la-clef-a-molette_345...</td>\n",
       "      <td>2685514</td>\n",
       "      <td>138438</td>\n",
       "      <td>4.5</td>\n",
       "      <td>26 juin 2021</td>\n",
       "      <td>64</td>\n",
       "      <td>Avez-vous entendu cette info effrayante ? « La...</td>\n",
       "    </tr>\n",
       "  </tbody>\n",
       "</table>\n",
       "</div>"
      ],
      "text/plain": [
       "   book_id  book_nb_comm                                              title  \\\n",
       "0   905033           137  Le gang de la clef à molette (Ne meurs pas, ô ...   \n",
       "1   905033           137  Le gang de la clef à molette (Ne meurs pas, ô ...   \n",
       "2   905033           137  Le gang de la clef à molette (Ne meurs pas, ô ...   \n",
       "3   905033           137  Le gang de la clef à molette (Ne meurs pas, ô ...   \n",
       "4   905033           137  Le gang de la clef à molette (Ne meurs pas, ô ...   \n",
       "\n",
       "     name surname                                               tags  \\\n",
       "0  Edward   Abbey  roman,romans policiers et polars,thriller,colo...   \n",
       "1  Edward   Abbey  roman,romans policiers et polars,thriller,colo...   \n",
       "2  Edward   Abbey  roman,romans policiers et polars,thriller,colo...   \n",
       "3  Edward   Abbey  roman,romans policiers et polars,thriller,colo...   \n",
       "4  Edward   Abbey  roman,romans policiers et polars,thriller,colo...   \n",
       "\n",
       "                                             img_url  comm_id  user_id note  \\\n",
       "0  /couv/CVT_cvt_Le-gang-de-la-clef-a-molette_345...  2080694   706958  4.0   \n",
       "1  /couv/CVT_cvt_Le-gang-de-la-clef-a-molette_345...  1271915   319761  5.0   \n",
       "2  /couv/CVT_cvt_Le-gang-de-la-clef-a-molette_345...  1093854   128814  5.0   \n",
       "3  /couv/CVT_cvt_Le-gang-de-la-clef-a-molette_345...  2711430   227017  4.5   \n",
       "4  /couv/CVT_cvt_Le-gang-de-la-clef-a-molette_345...  2685514   138438  4.5   \n",
       "\n",
       "               date  appreciations  \\\n",
       "0  30 novembre 2019             85   \n",
       "1      03 mars 2017             68   \n",
       "2      27 juin 2016             67   \n",
       "3   22 juillet 2021             64   \n",
       "4      26 juin 2021             64   \n",
       "\n",
       "                                         commentaire  \n",
       "0  Roadtrip désertique dans l'Ouest Américain en ...  \n",
       "1  De temps en temps, j'aime bien revenir vers l'...  \n",
       "2  Depuis peu j'ai découvert grâce à \" Cardabelle...  \n",
       "3  Ils sont quatre. \\nUne blonde , jeunette, venu...  \n",
       "4  Avez-vous entendu cette info effrayante ? « La...  "
      ]
     },
     "execution_count": 7,
     "metadata": {},
     "output_type": "execute_result"
    }
   ],
   "source": [
    "df.head()"
   ]
  },
  {
   "cell_type": "code",
   "execution_count": 123,
   "metadata": {},
   "outputs": [],
   "source": [
    "df = df.drop_duplicates(subset='book_id')"
   ]
  },
  {
   "cell_type": "code",
   "execution_count": 9,
   "metadata": {},
   "outputs": [
    {
     "data": {
      "text/html": [
       "<div>\n",
       "<style scoped>\n",
       "    .dataframe tbody tr th:only-of-type {\n",
       "        vertical-align: middle;\n",
       "    }\n",
       "\n",
       "    .dataframe tbody tr th {\n",
       "        vertical-align: top;\n",
       "    }\n",
       "\n",
       "    .dataframe thead th {\n",
       "        text-align: right;\n",
       "    }\n",
       "</style>\n",
       "<table border=\"1\" class=\"dataframe\">\n",
       "  <thead>\n",
       "    <tr style=\"text-align: right;\">\n",
       "      <th></th>\n",
       "      <th>book_id</th>\n",
       "      <th>book_nb_comm</th>\n",
       "      <th>title</th>\n",
       "      <th>name</th>\n",
       "      <th>surname</th>\n",
       "      <th>tags</th>\n",
       "      <th>img_url</th>\n",
       "      <th>comm_id</th>\n",
       "      <th>user_id</th>\n",
       "      <th>note</th>\n",
       "      <th>date</th>\n",
       "      <th>appreciations</th>\n",
       "      <th>commentaire</th>\n",
       "    </tr>\n",
       "  </thead>\n",
       "  <tbody>\n",
       "    <tr>\n",
       "      <th>0</th>\n",
       "      <td>905033</td>\n",
       "      <td>137</td>\n",
       "      <td>Le gang de la clef à molette (Ne meurs pas, ô ...</td>\n",
       "      <td>Edward</td>\n",
       "      <td>Abbey</td>\n",
       "      <td>roman,romans policiers et polars,thriller,colo...</td>\n",
       "      <td>/couv/CVT_cvt_Le-gang-de-la-clef-a-molette_345...</td>\n",
       "      <td>2080694</td>\n",
       "      <td>706958</td>\n",
       "      <td>4.0</td>\n",
       "      <td>30 novembre 2019</td>\n",
       "      <td>85</td>\n",
       "      <td>Roadtrip désertique dans l'Ouest Américain en ...</td>\n",
       "    </tr>\n",
       "    <tr>\n",
       "      <th>10</th>\n",
       "      <td>34397</td>\n",
       "      <td>37</td>\n",
       "      <td>Aucune bête aussi féroce</td>\n",
       "      <td>Edward</td>\n",
       "      <td>Bunker</td>\n",
       "      <td>roman,autobiographie,romans policiers et polar...</td>\n",
       "      <td>/couv/CVT_cvt_Aucune-bete-aussi-feroce_5042.jpg</td>\n",
       "      <td>637101</td>\n",
       "      <td>16287</td>\n",
       "      <td>4.0</td>\n",
       "      <td>02 septembre 2014</td>\n",
       "      <td>65</td>\n",
       "      <td>Le changement, c'est maintenant !\\nC'est certa...</td>\n",
       "    </tr>\n",
       "    <tr>\n",
       "      <th>107</th>\n",
       "      <td>927980</td>\n",
       "      <td>64</td>\n",
       "      <td>Celle qui voulait conduire le tram</td>\n",
       "      <td>Catherine</td>\n",
       "      <td>Cuenca</td>\n",
       "      <td>roman,roman historique,historique,littérature ...</td>\n",
       "      <td>https://images-eu.ssl-images-amazon.com/images...</td>\n",
       "      <td>2019582</td>\n",
       "      <td>574706</td>\n",
       "      <td>4.5</td>\n",
       "      <td>22 septembre 2019</td>\n",
       "      <td>42</td>\n",
       "      <td>Un bon petit livre sur la situation des femmes...</td>\n",
       "    </tr>\n",
       "    <tr>\n",
       "      <th>117</th>\n",
       "      <td>869119</td>\n",
       "      <td>75</td>\n",
       "      <td>Les belles vies</td>\n",
       "      <td>Benoît</td>\n",
       "      <td>Minville</td>\n",
       "      <td>roman d'apprentissage,roman,littérature jeunes...</td>\n",
       "      <td>/couv/CVT_Les-Belles-Vies_5033.jpg</td>\n",
       "      <td>1938765</td>\n",
       "      <td>5865</td>\n",
       "      <td>4.0</td>\n",
       "      <td>16 juin 2019</td>\n",
       "      <td>37</td>\n",
       "      <td>Vasco et Djib' habitent la banlieue parisienne...</td>\n",
       "    </tr>\n",
       "    <tr>\n",
       "      <th>241</th>\n",
       "      <td>1355375</td>\n",
       "      <td>38</td>\n",
       "      <td>Le Cercueil de Job</td>\n",
       "      <td>Lance</td>\n",
       "      <td>Weller</td>\n",
       "      <td>roman étranger,roman,roman historique,histoire...</td>\n",
       "      <td>/couv/CVT_Le-cercueil-de-Job_9332.jpg</td>\n",
       "      <td>2775696</td>\n",
       "      <td>489894</td>\n",
       "      <td>5.0</td>\n",
       "      <td>24 septembre 2021</td>\n",
       "      <td>129</td>\n",
       "      <td>Rentrée littéraire 2021 # 28\\nJe referme ce li...</td>\n",
       "    </tr>\n",
       "  </tbody>\n",
       "</table>\n",
       "</div>"
      ],
      "text/plain": [
       "     book_id  book_nb_comm                                              title  \\\n",
       "0     905033           137  Le gang de la clef à molette (Ne meurs pas, ô ...   \n",
       "10     34397            37                           Aucune bête aussi féroce   \n",
       "107   927980            64                 Celle qui voulait conduire le tram   \n",
       "117   869119            75                                    Les belles vies   \n",
       "241  1355375            38                                 Le Cercueil de Job   \n",
       "\n",
       "          name   surname                                               tags  \\\n",
       "0       Edward     Abbey  roman,romans policiers et polars,thriller,colo...   \n",
       "10      Edward    Bunker  roman,autobiographie,romans policiers et polar...   \n",
       "107  Catherine    Cuenca  roman,roman historique,historique,littérature ...   \n",
       "117     Benoît  Minville  roman d'apprentissage,roman,littérature jeunes...   \n",
       "241      Lance    Weller  roman étranger,roman,roman historique,histoire...   \n",
       "\n",
       "                                               img_url  comm_id  user_id note  \\\n",
       "0    /couv/CVT_cvt_Le-gang-de-la-clef-a-molette_345...  2080694   706958  4.0   \n",
       "10     /couv/CVT_cvt_Aucune-bete-aussi-feroce_5042.jpg   637101    16287  4.0   \n",
       "107  https://images-eu.ssl-images-amazon.com/images...  2019582   574706  4.5   \n",
       "117                 /couv/CVT_Les-Belles-Vies_5033.jpg  1938765     5865  4.0   \n",
       "241              /couv/CVT_Le-cercueil-de-Job_9332.jpg  2775696   489894  5.0   \n",
       "\n",
       "                  date  appreciations  \\\n",
       "0     30 novembre 2019             85   \n",
       "10   02 septembre 2014             65   \n",
       "107  22 septembre 2019             42   \n",
       "117       16 juin 2019             37   \n",
       "241  24 septembre 2021            129   \n",
       "\n",
       "                                           commentaire  \n",
       "0    Roadtrip désertique dans l'Ouest Américain en ...  \n",
       "10   Le changement, c'est maintenant !\\nC'est certa...  \n",
       "107  Un bon petit livre sur la situation des femmes...  \n",
       "117  Vasco et Djib' habitent la banlieue parisienne...  \n",
       "241  Rentrée littéraire 2021 # 28\\nJe referme ce li...  "
      ]
     },
     "execution_count": 9,
     "metadata": {},
     "output_type": "execute_result"
    }
   ],
   "source": [
    "df.head()"
   ]
  },
  {
   "cell_type": "code",
   "execution_count": 124,
   "metadata": {},
   "outputs": [],
   "source": [
    "df['combined'] = df['title'] + ' ' + df['name']+ ' ' + df['surname']\n",
    "df['tag2'] = df['tags'].str.replace(\",\",\" \")"
   ]
  },
  {
   "cell_type": "code",
   "execution_count": 125,
   "metadata": {},
   "outputs": [],
   "source": [
    "df = df.reset_index()"
   ]
  },
  {
   "cell_type": "code",
   "execution_count": 137,
   "metadata": {},
   "outputs": [
    {
     "data": {
      "text/html": [
       "<div>\n",
       "<style scoped>\n",
       "    .dataframe tbody tr th:only-of-type {\n",
       "        vertical-align: middle;\n",
       "    }\n",
       "\n",
       "    .dataframe tbody tr th {\n",
       "        vertical-align: top;\n",
       "    }\n",
       "\n",
       "    .dataframe thead th {\n",
       "        text-align: right;\n",
       "    }\n",
       "</style>\n",
       "<table border=\"1\" class=\"dataframe\">\n",
       "  <thead>\n",
       "    <tr style=\"text-align: right;\">\n",
       "      <th></th>\n",
       "      <th>index</th>\n",
       "      <th>book_id</th>\n",
       "      <th>book_nb_comm</th>\n",
       "      <th>title</th>\n",
       "      <th>name</th>\n",
       "      <th>surname</th>\n",
       "      <th>tags</th>\n",
       "      <th>img_url</th>\n",
       "      <th>comm_id</th>\n",
       "      <th>user_id</th>\n",
       "      <th>note</th>\n",
       "      <th>date</th>\n",
       "      <th>appreciations</th>\n",
       "      <th>commentaire</th>\n",
       "      <th>combined</th>\n",
       "      <th>tag2</th>\n",
       "    </tr>\n",
       "  </thead>\n",
       "  <tbody>\n",
       "    <tr>\n",
       "      <th>0</th>\n",
       "      <td>0</td>\n",
       "      <td>905033</td>\n",
       "      <td>137</td>\n",
       "      <td>Le gang de la clef à molette (Ne meurs pas, ô ...</td>\n",
       "      <td>Edward</td>\n",
       "      <td>Abbey</td>\n",
       "      <td>roman,romans policiers et polars,thriller,colo...</td>\n",
       "      <td>/couv/CVT_cvt_Le-gang-de-la-clef-a-molette_345...</td>\n",
       "      <td>2080694</td>\n",
       "      <td>706958</td>\n",
       "      <td>4.0</td>\n",
       "      <td>30 novembre 2019</td>\n",
       "      <td>85</td>\n",
       "      <td>Roadtrip désertique dans l'Ouest Américain en ...</td>\n",
       "      <td>Le gang de la clef à molette (Ne meurs pas, ô ...</td>\n",
       "      <td>roman romans policiers et polars thriller colo...</td>\n",
       "    </tr>\n",
       "    <tr>\n",
       "      <th>1</th>\n",
       "      <td>10</td>\n",
       "      <td>34397</td>\n",
       "      <td>37</td>\n",
       "      <td>Aucune bête aussi féroce</td>\n",
       "      <td>Edward</td>\n",
       "      <td>Bunker</td>\n",
       "      <td>roman,autobiographie,romans policiers et polar...</td>\n",
       "      <td>/couv/CVT_cvt_Aucune-bete-aussi-feroce_5042.jpg</td>\n",
       "      <td>637101</td>\n",
       "      <td>16287</td>\n",
       "      <td>4.0</td>\n",
       "      <td>02 septembre 2014</td>\n",
       "      <td>65</td>\n",
       "      <td>Le changement, c'est maintenant !\\nC'est certa...</td>\n",
       "      <td>Aucune bête aussi féroce Edward Bunker</td>\n",
       "      <td>roman autobiographie romans policiers et polar...</td>\n",
       "    </tr>\n",
       "    <tr>\n",
       "      <th>2</th>\n",
       "      <td>107</td>\n",
       "      <td>927980</td>\n",
       "      <td>64</td>\n",
       "      <td>Celle qui voulait conduire le tram</td>\n",
       "      <td>Catherine</td>\n",
       "      <td>Cuenca</td>\n",
       "      <td>roman,roman historique,historique,littérature ...</td>\n",
       "      <td>https://images-eu.ssl-images-amazon.com/images...</td>\n",
       "      <td>2019582</td>\n",
       "      <td>574706</td>\n",
       "      <td>4.5</td>\n",
       "      <td>22 septembre 2019</td>\n",
       "      <td>42</td>\n",
       "      <td>Un bon petit livre sur la situation des femmes...</td>\n",
       "      <td>Celle qui voulait conduire le tram Catherine C...</td>\n",
       "      <td>roman roman historique historique littérature ...</td>\n",
       "    </tr>\n",
       "    <tr>\n",
       "      <th>3</th>\n",
       "      <td>117</td>\n",
       "      <td>869119</td>\n",
       "      <td>75</td>\n",
       "      <td>Les belles vies</td>\n",
       "      <td>Benoît</td>\n",
       "      <td>Minville</td>\n",
       "      <td>roman d'apprentissage,roman,littérature jeunes...</td>\n",
       "      <td>/couv/CVT_Les-Belles-Vies_5033.jpg</td>\n",
       "      <td>1938765</td>\n",
       "      <td>5865</td>\n",
       "      <td>4.0</td>\n",
       "      <td>16 juin 2019</td>\n",
       "      <td>37</td>\n",
       "      <td>Vasco et Djib' habitent la banlieue parisienne...</td>\n",
       "      <td>Les belles vies Benoît Minville</td>\n",
       "      <td>roman d'apprentissage roman littérature jeunes...</td>\n",
       "    </tr>\n",
       "    <tr>\n",
       "      <th>4</th>\n",
       "      <td>241</td>\n",
       "      <td>1355375</td>\n",
       "      <td>38</td>\n",
       "      <td>Le Cercueil de Job</td>\n",
       "      <td>Lance</td>\n",
       "      <td>Weller</td>\n",
       "      <td>roman étranger,roman,roman historique,histoire...</td>\n",
       "      <td>/couv/CVT_Le-cercueil-de-Job_9332.jpg</td>\n",
       "      <td>2775696</td>\n",
       "      <td>489894</td>\n",
       "      <td>5.0</td>\n",
       "      <td>24 septembre 2021</td>\n",
       "      <td>129</td>\n",
       "      <td>Rentrée littéraire 2021 # 28\\nJe referme ce li...</td>\n",
       "      <td>Le Cercueil de Job Lance Weller</td>\n",
       "      <td>roman étranger roman roman historique histoire...</td>\n",
       "    </tr>\n",
       "  </tbody>\n",
       "</table>\n",
       "</div>"
      ],
      "text/plain": [
       "   index  book_id  book_nb_comm  \\\n",
       "0      0   905033           137   \n",
       "1     10    34397            37   \n",
       "2    107   927980            64   \n",
       "3    117   869119            75   \n",
       "4    241  1355375            38   \n",
       "\n",
       "                                               title       name   surname  \\\n",
       "0  Le gang de la clef à molette (Ne meurs pas, ô ...     Edward     Abbey   \n",
       "1                           Aucune bête aussi féroce     Edward    Bunker   \n",
       "2                 Celle qui voulait conduire le tram  Catherine    Cuenca   \n",
       "3                                    Les belles vies     Benoît  Minville   \n",
       "4                                 Le Cercueil de Job      Lance    Weller   \n",
       "\n",
       "                                                tags  \\\n",
       "0  roman,romans policiers et polars,thriller,colo...   \n",
       "1  roman,autobiographie,romans policiers et polar...   \n",
       "2  roman,roman historique,historique,littérature ...   \n",
       "3  roman d'apprentissage,roman,littérature jeunes...   \n",
       "4  roman étranger,roman,roman historique,histoire...   \n",
       "\n",
       "                                             img_url  comm_id  user_id  note  \\\n",
       "0  /couv/CVT_cvt_Le-gang-de-la-clef-a-molette_345...  2080694   706958   4.0   \n",
       "1    /couv/CVT_cvt_Aucune-bete-aussi-feroce_5042.jpg   637101    16287   4.0   \n",
       "2  https://images-eu.ssl-images-amazon.com/images...  2019582   574706   4.5   \n",
       "3                 /couv/CVT_Les-Belles-Vies_5033.jpg  1938765     5865   4.0   \n",
       "4              /couv/CVT_Le-cercueil-de-Job_9332.jpg  2775696   489894   5.0   \n",
       "\n",
       "                date  appreciations  \\\n",
       "0   30 novembre 2019             85   \n",
       "1  02 septembre 2014             65   \n",
       "2  22 septembre 2019             42   \n",
       "3       16 juin 2019             37   \n",
       "4  24 septembre 2021            129   \n",
       "\n",
       "                                         commentaire  \\\n",
       "0  Roadtrip désertique dans l'Ouest Américain en ...   \n",
       "1  Le changement, c'est maintenant !\\nC'est certa...   \n",
       "2  Un bon petit livre sur la situation des femmes...   \n",
       "3  Vasco et Djib' habitent la banlieue parisienne...   \n",
       "4  Rentrée littéraire 2021 # 28\\nJe referme ce li...   \n",
       "\n",
       "                                            combined  \\\n",
       "0  Le gang de la clef à molette (Ne meurs pas, ô ...   \n",
       "1             Aucune bête aussi féroce Edward Bunker   \n",
       "2  Celle qui voulait conduire le tram Catherine C...   \n",
       "3                    Les belles vies Benoît Minville   \n",
       "4                    Le Cercueil de Job Lance Weller   \n",
       "\n",
       "                                                tag2  \n",
       "0  roman romans policiers et polars thriller colo...  \n",
       "1  roman autobiographie romans policiers et polar...  \n",
       "2  roman roman historique historique littérature ...  \n",
       "3  roman d'apprentissage roman littérature jeunes...  \n",
       "4  roman étranger roman roman historique histoire...  "
      ]
     },
     "execution_count": 137,
     "metadata": {},
     "output_type": "execute_result"
    }
   ],
   "source": [
    "df.head()"
   ]
  },
  {
   "cell_type": "code",
   "execution_count": 13,
   "metadata": {},
   "outputs": [
    {
     "data": {
      "text/html": [
       "<div>\n",
       "<style scoped>\n",
       "    .dataframe tbody tr th:only-of-type {\n",
       "        vertical-align: middle;\n",
       "    }\n",
       "\n",
       "    .dataframe tbody tr th {\n",
       "        vertical-align: top;\n",
       "    }\n",
       "\n",
       "    .dataframe thead th {\n",
       "        text-align: right;\n",
       "    }\n",
       "</style>\n",
       "<table border=\"1\" class=\"dataframe\">\n",
       "  <thead>\n",
       "    <tr style=\"text-align: right;\">\n",
       "      <th></th>\n",
       "      <th>index</th>\n",
       "      <th>book_id</th>\n",
       "      <th>book_nb_comm</th>\n",
       "      <th>title</th>\n",
       "      <th>name</th>\n",
       "      <th>surname</th>\n",
       "      <th>tags</th>\n",
       "      <th>img_url</th>\n",
       "      <th>comm_id</th>\n",
       "      <th>user_id</th>\n",
       "      <th>note</th>\n",
       "      <th>date</th>\n",
       "      <th>appreciations</th>\n",
       "      <th>commentaire</th>\n",
       "      <th>combined</th>\n",
       "      <th>tag2</th>\n",
       "    </tr>\n",
       "  </thead>\n",
       "  <tbody>\n",
       "    <tr>\n",
       "      <th>759</th>\n",
       "      <td>42647</td>\n",
       "      <td>885171</td>\n",
       "      <td>57</td>\n",
       "      <td>La part des ombres, tome 1</td>\n",
       "      <td>Gabriel</td>\n",
       "      <td>Katz</td>\n",
       "      <td>saga,roman,fantastique,fantasy,littérature jeu...</td>\n",
       "      <td>https://images-eu.ssl-images-amazon.com/images...</td>\n",
       "      <td>1600968</td>\n",
       "      <td>445500</td>\n",
       "      <td>4.0</td>\n",
       "      <td>26 avril 2018</td>\n",
       "      <td>73</td>\n",
       "      <td>Le lecteur a plaisir à retrouver dans ce roman...</td>\n",
       "      <td>La part des ombres, tome 1 Gabriel Katz</td>\n",
       "      <td>saga roman fantastique fantasy littérature jeu...</td>\n",
       "    </tr>\n",
       "  </tbody>\n",
       "</table>\n",
       "</div>"
      ],
      "text/plain": [
       "     index  book_id  book_nb_comm                       title     name  \\\n",
       "759  42647   885171            57  La part des ombres, tome 1  Gabriel   \n",
       "\n",
       "    surname                                               tags  \\\n",
       "759    Katz  saga,roman,fantastique,fantasy,littérature jeu...   \n",
       "\n",
       "                                               img_url  comm_id  user_id note  \\\n",
       "759  https://images-eu.ssl-images-amazon.com/images...  1600968   445500  4.0   \n",
       "\n",
       "              date  appreciations  \\\n",
       "759  26 avril 2018             73   \n",
       "\n",
       "                                           commentaire  \\\n",
       "759  Le lecteur a plaisir à retrouver dans ce roman...   \n",
       "\n",
       "                                    combined  \\\n",
       "759  La part des ombres, tome 1 Gabriel Katz   \n",
       "\n",
       "                                                  tag2  \n",
       "759  saga roman fantastique fantasy littérature jeu...  "
      ]
     },
     "execution_count": 13,
     "metadata": {},
     "output_type": "execute_result"
    }
   ],
   "source": [
    "df.query('book_id == 885171')"
   ]
  },
  {
   "cell_type": "code",
   "execution_count": 136,
   "metadata": {},
   "outputs": [],
   "source": [
    "df['note'] = pd.to_numeric(df['note'])"
   ]
  },
  {
   "cell_type": "code",
   "execution_count": 138,
   "metadata": {},
   "outputs": [
    {
     "name": "stdout",
     "output_type": "stream",
     "text": [
      "<class 'pandas.core.frame.DataFrame'>\n",
      "RangeIndex: 2802 entries, 0 to 2801\n",
      "Data columns (total 16 columns):\n",
      " #   Column         Non-Null Count  Dtype  \n",
      "---  ------         --------------  -----  \n",
      " 0   index          2802 non-null   int64  \n",
      " 1   book_id        2802 non-null   int64  \n",
      " 2   book_nb_comm   2802 non-null   int64  \n",
      " 3   title          2802 non-null   object \n",
      " 4   name           2802 non-null   object \n",
      " 5   surname        2802 non-null   object \n",
      " 6   tags           2802 non-null   object \n",
      " 7   img_url        2802 non-null   object \n",
      " 8   comm_id        2802 non-null   int64  \n",
      " 9   user_id        2802 non-null   int64  \n",
      " 10  note           2759 non-null   float64\n",
      " 11  date           2802 non-null   object \n",
      " 12  appreciations  2802 non-null   int64  \n",
      " 13  commentaire    2802 non-null   object \n",
      " 14  combined       2802 non-null   object \n",
      " 15  tag2           2802 non-null   object \n",
      "dtypes: float64(1), int64(6), object(9)\n",
      "memory usage: 350.4+ KB\n"
     ]
    }
   ],
   "source": [
    "df.info()"
   ]
  },
  {
   "cell_type": "code",
   "execution_count": 157,
   "metadata": {},
   "outputs": [],
   "source": [
    "from sklearn.preprocessing import StandardScaler,MinMaxScaler\n",
    "\n",
    "class BookReco:\n",
    "\n",
    "    def __init__(self):\n",
    "        self.data = None\n",
    "        self.features = []\n",
    "        self.scalars = []\n",
    "\n",
    "    def add_feature(self, col_name, weight=1, separator=' '):\n",
    "        cv = CountVectorizer(tokenizer=lambda x: x.split(separator))\n",
    "        self.features.append({'col_name': col_name, 'weight': weight, 'vector': cv})\n",
    "\n",
    "    def add_scalar(self, col_name, weight=1):\n",
    "        self.scalars.append({'col_name': col_name, 'weight': weight})\n",
    "\n",
    "    def fit(self, data):\n",
    "        self.data = data\n",
    "\n",
    "        for i,feature in enumerate(self.features):\n",
    "            cm = feature['vector'].fit_transform(self.data[feature['col_name']])\n",
    "            cs = cosine_similarity(cm)\n",
    "            self.features[i] = {**feature, 'cosine_similar': cs}\n",
    "\n",
    "        for i,scalar in enumerate(self.scalars):\n",
    "            scaler = MinMaxScaler()\n",
    "            X = self.data.loc[:,[scalar['col_name']]]\n",
    "            X = scaler.fit_transform(X)\n",
    "            print(X)\n",
    "            self.scalars[i] = {**scalar, 'scaled': X}\n",
    "\n",
    "        # print(self.scalars)\n",
    "\n",
    "    def __get_feature_score(self, feature, index_book):\n",
    "        cs = feature['cosine_similar']\n",
    "\n",
    "        cs_book = cs[index_book]\n",
    "\n",
    "        scores = [(i,bi) for i,bi in enumerate(cs_book)]\n",
    "        sorted_scores = sorted(scores, key=lambda x:x[1], reverse=True)\n",
    "        sorted_scores = sorted_scores[1:5+1]\n",
    "        \n",
    "        return [(i, self.data.iloc[i,:]['book_id'],self.data.iloc[i,:]['title']) for i,s in sorted_scores]\n",
    "\n",
    "    def predict(self, book_id):\n",
    "        scores = []\n",
    "        index_book = self.data.query('book_id == @book_id').index.values.astype(int)[0]\n",
    "        \n",
    "        for feature in self.features:\n",
    "            score = self.__get_feature_score(feature, index_book)\n",
    "            scores.append(score)\n",
    "        \n",
    "        for scalar in self.scalars:\n",
    "            scores.append(np.array(scalar['scaled'])*scalar['weight'])\n",
    "\n",
    "        return scores"
   ]
  },
  {
   "cell_type": "code",
   "execution_count": 158,
   "metadata": {},
   "outputs": [
    {
     "name": "stdout",
     "output_type": "stream",
     "text": [
      "[[0. ]\n",
      " [0. ]\n",
      " [0.5]\n",
      " [0. ]\n",
      " [1. ]]\n",
      "[[0.52173913]\n",
      " [0.30434783]\n",
      " [0.05434783]\n",
      " [0.        ]\n",
      " [1.        ]]\n",
      "[[0.  ]\n",
      " [0.  ]\n",
      " [0.75]\n",
      " [0.  ]\n",
      " [1.5 ]]\n",
      "[[0.7826087 ]\n",
      " [0.45652174]\n",
      " [0.08152174]\n",
      " [0.        ]\n",
      " [1.5       ]]\n",
      "\n"
     ]
    }
   ],
   "source": [
    "br = BookReco()\n",
    "br.add_feature('tags', separator=',')\n",
    "br.add_scalar('note', weight=1.5)\n",
    "br.add_scalar('appreciations', weight=1.5)\n",
    "br.fit(df.iloc[:5,:])\n",
    "br.predict(927980)\n",
    "print(\"\")"
   ]
  },
  {
   "cell_type": "code",
   "execution_count": 108,
   "metadata": {},
   "outputs": [
    {
     "data": {
      "text/plain": [
       "[[(1366, 1201119, 'Wyld, tome 2 : Rose de Sang'),\n",
       "  (35, 23516, 'Tara Duncan, Tome 3 : Le Sceptre Maudit'),\n",
       "  (140, 243528, \"A comme Association, Tome 5 : Là où les mots n'existent pas\"),\n",
       "  (550, 761910, \"Aeternia, Tome 2 : L'envers du monde\"),\n",
       "  (1020, 7718, 'Le livre des étoiles, tome 1 : Qadehar le Sorcier')]]"
      ]
     },
     "execution_count": 108,
     "metadata": {},
     "output_type": "execute_result"
    }
   ],
   "source": [
    "br.predict(885171)"
   ]
  },
  {
   "cell_type": "code",
   "execution_count": 58,
   "metadata": {},
   "outputs": [],
   "source": [
    "cv = CountVectorizer(tokenizer=lambda x: x.split(','))\n",
    "cm = cv.fit_transform(df['note'])"
   ]
  },
  {
   "cell_type": "code",
   "execution_count": 59,
   "metadata": {},
   "outputs": [
    {
     "data": {
      "text/plain": [
       "<2802x11 sparse matrix of type '<class 'numpy.int64'>'\n",
       "\twith 2802 stored elements in Compressed Sparse Row format>"
      ]
     },
     "execution_count": 59,
     "metadata": {},
     "output_type": "execute_result"
    }
   ],
   "source": [
    "cm"
   ]
  },
  {
   "cell_type": "code",
   "execution_count": 60,
   "metadata": {},
   "outputs": [
    {
     "data": {
      "text/plain": [
       "{'4.0': 8,\n",
       " '4.5': 9,\n",
       " '5.0': 10,\n",
       " '3.5': 7,\n",
       " '3.0': 6,\n",
       " '': 0,\n",
       " '1.0': 2,\n",
       " '2.5': 5,\n",
       " '0.5': 1,\n",
       " '2.0': 4,\n",
       " '1.5': 3}"
      ]
     },
     "execution_count": 60,
     "metadata": {},
     "output_type": "execute_result"
    }
   ],
   "source": [
    "cv.vocabulary_"
   ]
  },
  {
   "cell_type": "code",
   "execution_count": 45,
   "metadata": {},
   "outputs": [
    {
     "data": {
      "text/plain": [
       "<2802x2800 sparse matrix of type '<class 'numpy.int64'>'\n",
       "\twith 2357 stored elements in Compressed Sparse Row format>"
      ]
     },
     "execution_count": 45,
     "metadata": {},
     "output_type": "execute_result"
    }
   ],
   "source": [
    "cm"
   ]
  },
  {
   "cell_type": "code",
   "execution_count": 61,
   "metadata": {},
   "outputs": [],
   "source": [
    "cs = cosine_similarity(cm)"
   ]
  },
  {
   "cell_type": "code",
   "execution_count": 62,
   "metadata": {},
   "outputs": [
    {
     "data": {
      "text/plain": [
       "array([[1., 1., 0., ..., 0., 0., 0.],\n",
       "       [1., 1., 0., ..., 0., 0., 0.],\n",
       "       [0., 0., 1., ..., 1., 0., 0.],\n",
       "       ...,\n",
       "       [0., 0., 1., ..., 1., 0., 0.],\n",
       "       [0., 0., 0., ..., 0., 1., 0.],\n",
       "       [0., 0., 0., ..., 0., 0., 1.]])"
      ]
     },
     "execution_count": 62,
     "metadata": {},
     "output_type": "execute_result"
    }
   ],
   "source": [
    "cs"
   ]
  },
  {
   "cell_type": "code",
   "execution_count": 63,
   "metadata": {},
   "outputs": [],
   "source": [
    "def reco_book(book_id, max_book=5):\n",
    "    index_book = df.query('book_id == @book_id').index.values.astype(int)[0]\n",
    "    cs_book = cs[index_book]\n",
    "    scores = [(i,bi) for i,bi in enumerate(cs_book)]\n",
    "    sorted_scores = sorted(scores, key=lambda x:x[1], reverse=True)\n",
    "    sorted_scores = sorted_scores[1:max_book+1]\n",
    "    reco = [(i, df.iloc[i,:]['book_id'],df.iloc[i,:]['title']) for i,s in sorted_scores]\n",
    "    return reco\n"
   ]
  },
  {
   "cell_type": "code",
   "execution_count": 107,
   "metadata": {},
   "outputs": [
    {
     "data": {
      "text/plain": [
       "[(10, 877839, 'Et tu trouveras le trésor qui dort en toi'),\n",
       " (16, 946624, 'Effroyable porcelaine'),\n",
       " (24, 1212813, 'Eleonor & Grey'),\n",
       " (63, 486263, 'Cruelles'),\n",
       " (64, 1193525, 'Aldobrando')]"
      ]
     },
     "execution_count": 107,
     "metadata": {},
     "output_type": "execute_result"
    }
   ],
   "source": [
    "reco_book(927980) # Celle qui voulait conduire le tram"
   ]
  },
  {
   "cell_type": "code",
   "execution_count": 105,
   "metadata": {},
   "outputs": [
    {
     "data": {
      "text/plain": [
       "[(1, 34397, 'Aucune bête aussi féroce'),\n",
       " (3, 869119, 'Les belles vies'),\n",
       " (8, 466046, 'Bacha posh'),\n",
       " (13, 1022159, 'Le jøurnal de ma disparitiøn'),\n",
       " (18, 614802, 'Les Grands')]"
      ]
     },
     "execution_count": 105,
     "metadata": {},
     "output_type": "execute_result"
    }
   ],
   "source": [
    "reco_book(885171) # La part des ombres, tome 1"
   ]
  },
  {
   "cell_type": "code",
   "execution_count": null,
   "metadata": {},
   "outputs": [],
   "source": []
  }
 ],
 "metadata": {
  "kernelspec": {
   "display_name": "Python 3.10.8 ('ml')",
   "language": "python",
   "name": "python3"
  },
  "language_info": {
   "codemirror_mode": {
    "name": "ipython",
    "version": 3
   },
   "file_extension": ".py",
   "mimetype": "text/x-python",
   "name": "python",
   "nbconvert_exporter": "python",
   "pygments_lexer": "ipython3",
   "version": "3.10.8"
  },
  "orig_nbformat": 4,
  "vscode": {
   "interpreter": {
    "hash": "1fe655022548373991488107ee87292a5acc65b103412eeef527175bfc11a68a"
   }
  }
 },
 "nbformat": 4,
 "nbformat_minor": 2
}
