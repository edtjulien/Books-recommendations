{
 "cells": [
  {
   "cell_type": "markdown",
   "id": "d4bf9fde",
   "metadata": {},
   "source": [
    "TRANSFORMERS"
   ]
  },
  {
   "cell_type": "markdown",
   "id": "ed8cd019",
   "metadata": {},
   "source": [
    "* **Tensorflow_hub** : Place where all TensorFlow pre-trained models are stored.\n",
    "* **Tensorflow** : For model creation\n",
    "* **Tensorflow_text**: Allows additional NLP text processing capabilities outside the scope of tensorflow"
   ]
  },
  {
   "cell_type": "code",
   "execution_count": 1,
   "id": "2c634c3e",
   "metadata": {},
   "outputs": [],
   "source": [
    "import tensorflow as tf\n",
    "# physical_devices = tf.config.list_physical_devices('GPU')\n",
    "# tf.config.experimental.set_memory_growth(physical_devices[0], enable=True)"
   ]
  },
  {
   "cell_type": "code",
   "execution_count": 2,
   "id": "0bf2ac91",
   "metadata": {},
   "outputs": [
    {
     "name": "stderr",
     "output_type": "stream",
     "text": [
      "PROJ: proj_create_from_database: SQLite error on SELECT name, type, coordinate_system_auth_name, coordinate_system_code, datum_auth_name, datum_code, area_of_use_auth_name, area_of_use_code, text_definition, deprecated FROM geodetic_crs WHERE auth_name = ? AND code = ?: no such column: area_of_use_auth_name\n"
     ]
    }
   ],
   "source": [
    "import io\n",
    "import re\n",
    "import os\n",
    "import tqdm\n",
    "import shutil\n",
    "import string\n",
    "import random\n",
    "import numpy as np \n",
    "\n",
    "import pandas as pd \n",
    "import matplotlib.pyplot as plt\n",
    "import seaborn as sns\n",
    "%matplotlib inline\n",
    "from plotly import graph_objs as go\n",
    "import plotly.express as px\n",
    "import plotly.figure_factory as ff\n",
    "from collections import Counter\n",
    "\n",
    "from PIL import Image\n",
    "from wordcloud import WordCloud, STOPWORDS, ImageColorGenerator\n",
    "\n",
    "\n",
    "import nltk\n",
    "from nltk.corpus import stopwords\n",
    "from nltk.tokenize import word_tokenize\n",
    "\n",
    "import spacy\n",
    "import fr_core_news_sm\n",
    "\n",
    "from tqdm import tqdm\n",
    "import os\n",
    "import nltk\n",
    "import spacy\n",
    "import random\n",
    "from spacy.util import compounding\n",
    "from spacy.util import minibatch\n",
    "\n",
    "from collections import defaultdict\n",
    "from collections import Counter\n",
    "\n",
    "import tensorflow as tf\n",
    "from tensorflow import keras\n",
    "from keras.models import Model, Sequential\n",
    "from keras.initializers import Constant\n",
    "from keras.layers import (Input,\n",
    "                          LSTM, \n",
    "                          Embedding, \n",
    "                          BatchNormalization,\n",
    "                          Dense, \n",
    "                          TimeDistributed, \n",
    "                          Dropout, \n",
    "                          Bidirectional,\n",
    "                          Flatten, \n",
    "                          GlobalMaxPool1D)\n",
    "\n",
    "from tensorflow.keras import Model\n",
    "from keras.preprocessing.text import Tokenizer\n",
    "from tensorflow.keras.preprocessing.sequence import pad_sequences\n",
    "from tensorflow.keras.layers import Embedding, SimpleRNN, Dense, GRU, LSTM, Flatten, Dot\n",
    "from keras.callbacks import ModelCheckpoint, ReduceLROnPlateau\n",
    "from keras.optimizers import Adam\n",
    "\n",
    "import transformers\n",
    "from tqdm.notebook import tqdm\n",
    "from tokenizers import BertWordPieceTokenizer\n",
    "\n",
    "from sklearn.metrics import (\n",
    "    precision_score, \n",
    "    recall_score, \n",
    "    f1_score, \n",
    "    classification_report,\n",
    "    accuracy_score\n",
    ")\n",
    "\n",
    "from sklearn.cluster import KMeans\n",
    "from sklearn.metrics import silhouette_score\n",
    "from sklearn.naive_bayes import MultinomialNB\n",
    "from sklearn.model_selection import train_test_split\n",
    "\n",
    "from sklearn.feature_extraction.text import CountVectorizer, TfidfTransformer\n",
    "from sklearn.pipeline import Pipeline\n",
    "\n",
    "import xgboost as xgb\n",
    "\n",
    "import warnings\n",
    "warnings.filterwarnings('ignore')"
   ]
  },
  {
   "cell_type": "code",
   "execution_count": 3,
   "id": "0187816d",
   "metadata": {},
   "outputs": [
    {
     "data": {
      "text/plain": [
       "('1.9.0+cu111', '2.9.1')"
      ]
     },
     "execution_count": 3,
     "metadata": {},
     "output_type": "execute_result"
    }
   ],
   "source": [
    "import os\n",
    "import torch\n",
    "import tensorflow\n",
    "import tensorflow as tf\n",
    "import tensorflow_hub as hub\n",
    "import tensorflow_text\n",
    "import warnings\n",
    "warnings.filterwarnings(\"ignore\")\n",
    "\n",
    "torch.__version__, tensorflow.__version__"
   ]
  },
  {
   "cell_type": "code",
   "execution_count": 4,
   "id": "053650c0",
   "metadata": {},
   "outputs": [],
   "source": [
    "import numpy as np\n",
    "import pandas as pd\n",
    "import matplotlib.pyplot as plt\n",
    "from sklearn.model_selection import train_test_split"
   ]
  },
  {
   "cell_type": "code",
   "execution_count": null,
   "id": "9276c708",
   "metadata": {},
   "outputs": [],
   "source": [
    "sentiment_vector = ['joie','colere','surprise','tristesse','peur','confiance','degout','reflexion']"
   ]
  },
  {
   "cell_type": "code",
   "execution_count": 5,
   "id": "2467b4da",
   "metadata": {},
   "outputs": [],
   "source": [
    "from collections import Counter"
   ]
  },
  {
   "cell_type": "code",
   "execution_count": 5,
   "id": "3ffbbba6",
   "metadata": {},
   "outputs": [
    {
     "data": {
      "text/plain": [
       "Counter({'joie': 5, 'peur': 1})"
      ]
     },
     "execution_count": 5,
     "metadata": {},
     "output_type": "execute_result"
    }
   ],
   "source": [
    "test = ['joie', 'joie', 'joie', 'joie', 'peur', 'joie']\n",
    "obj_count = Counter(test)\n",
    "obj_count"
   ]
  },
  {
   "cell_type": "code",
   "execution_count": 6,
   "id": "f3f30c11",
   "metadata": {},
   "outputs": [
    {
     "data": {
      "text/plain": [
       "(dict_keys(['joie', 'peur']), dict_values([5, 1]))"
      ]
     },
     "execution_count": 6,
     "metadata": {},
     "output_type": "execute_result"
    }
   ],
   "source": [
    "obj_count.keys(), obj_count.values()"
   ]
  },
  {
   "cell_type": "code",
   "execution_count": 7,
   "id": "ac51ac4c",
   "metadata": {},
   "outputs": [
    {
     "name": "stdout",
     "output_type": "stream",
     "text": [
      "0 : 5\n",
      "0 : 1\n"
     ]
    }
   ],
   "source": [
    "for k,v in obj_count.items():\n",
    "    print(obj_count[v], ':', obj_count[k] )"
   ]
  },
  {
   "cell_type": "code",
   "execution_count": 8,
   "id": "ed757a64",
   "metadata": {},
   "outputs": [
    {
     "name": "stdout",
     "output_type": "stream",
     "text": [
      "joie 5\n",
      "peur 1\n"
     ]
    }
   ],
   "source": [
    "for k,v in zip(obj_count.keys(), obj_count.values()):\n",
    "    print(k,v)"
   ]
  },
  {
   "cell_type": "markdown",
   "id": "918ef11d",
   "metadata": {},
   "source": [
    "### Creer les fonctions pour la vectozization "
   ]
  },
  {
   "cell_type": "code",
   "execution_count": 13,
   "id": "3dbafda7",
   "metadata": {},
   "outputs": [],
   "source": [
    "def mapping():\n",
    "    return {'joie' : 1,\n",
    "            'colere' : 2,\n",
    "            'surprise' : 3,\n",
    "            'tristesse' : 4,\n",
    "            'peur' : 5,\n",
    "            'confiance' : 6,\n",
    "            'degout' : 7,\n",
    "            'reflexion' : 8}"
   ]
  },
  {
   "cell_type": "code",
   "execution_count": 14,
   "id": "f420a310",
   "metadata": {},
   "outputs": [
    {
     "data": {
      "text/plain": [
       "{'joie': 1,\n",
       " 'colere': 2,\n",
       " 'surprise': 3,\n",
       " 'tristesse': 4,\n",
       " 'peur': 5,\n",
       " 'confiance': 6,\n",
       " 'degout': 7,\n",
       " 'reflexion': 8}"
      ]
     },
     "execution_count": 14,
     "metadata": {},
     "output_type": "execute_result"
    }
   ],
   "source": [
    "d= mapping()\n",
    "d"
   ]
  },
  {
   "cell_type": "markdown",
   "id": "30d76b4f",
   "metadata": {},
   "source": [
    "### Checkin Antoine"
   ]
  },
  {
   "cell_type": "code",
   "execution_count": 6,
   "id": "7a2f0504",
   "metadata": {},
   "outputs": [],
   "source": [
    "import os\n",
    "\n",
    "p = r'C:\\Users\\david\\JEDHA BOOTCAMP\\FULLSTACK\\10_PROJECT\\FINAL_PROJECT\\Dictionnaire_emotions'\n",
    "f = os.path.join(p, '', 'df_nlp_2_bis.csv')\n",
    "\n",
    "antoine_df = pd.read_csv(f)"
   ]
  },
  {
   "cell_type": "code",
   "execution_count": 7,
   "id": "587d0a57",
   "metadata": {},
   "outputs": [
    {
     "data": {
      "text/plain": [
       "Index(['Unnamed: 0', 'book_id', 'book_nb_comm', 'title', 'name', 'surname',\n",
       "       'tags', 'img_url', 'comm_id', 'user_id', 'note', 'date',\n",
       "       'appreciations', 'commentaire', 'note_p', 'com_process', 'tokenized',\n",
       "       'filtre_sentiments', 'sentimentest', 'sentiments_final', 'com_final',\n",
       "       'tokenized_doc'],\n",
       "      dtype='object')"
      ]
     },
     "execution_count": 7,
     "metadata": {},
     "output_type": "execute_result"
    }
   ],
   "source": [
    "antoine_df.columns"
   ]
  },
  {
   "cell_type": "markdown",
   "id": "9d67f55e",
   "metadata": {},
   "source": [
    "# data-comms.json"
   ]
  },
  {
   "cell_type": "markdown",
   "id": "00630e2b",
   "metadata": {},
   "source": [
    "### Checkin Julien"
   ]
  },
  {
   "cell_type": "code",
   "execution_count": 5,
   "id": "3a3244af",
   "metadata": {},
   "outputs": [],
   "source": [
    "p2 = r'C:\\Users\\david\\JEDHA BOOTCAMP\\FULLSTACK\\10_PROJECT\\FINAL_PROJECT\\csv_files'\n",
    "f2 = os.path.join(p2, '', 'data-comm.json')\n",
    "\n",
    "julien1_df = pd.read_json(f2, lines=True)"
   ]
  },
  {
   "cell_type": "code",
   "execution_count": 6,
   "id": "b4507e07",
   "metadata": {},
   "outputs": [
    {
     "name": "stdout",
     "output_type": "stream",
     "text": [
      "(314009, 28)\n"
     ]
    },
    {
     "data": {
      "text/plain": [
       "Index(['book_id', 'book_nb_comm', 'title', 'name', 'surname', 'img_url',\n",
       "       'comm_id', 'user_id', 'note', 'date', 'appreciations', 'commentaire',\n",
       "       'gender', 'book_url', 'tags', 'book_rating_count', 'book_rating_value',\n",
       "       'book_author_url', 'book_editor', 'book_pages', 'sen_colère',\n",
       "       'sen_confiance', 'sen_honte', 'sen_joie', 'sen_peur', 'sen_réflexion',\n",
       "       'sen_surprise', 'sen_tristesse'],\n",
       "      dtype='object')"
      ]
     },
     "execution_count": 6,
     "metadata": {},
     "output_type": "execute_result"
    }
   ],
   "source": [
    "print(julien1_df.shape)\n",
    "julien1_df.columns"
   ]
  },
  {
   "cell_type": "code",
   "execution_count": 65,
   "id": "8049625a",
   "metadata": {},
   "outputs": [
    {
     "data": {
      "text/html": [
       "<div>\n",
       "<style scoped>\n",
       "    .dataframe tbody tr th:only-of-type {\n",
       "        vertical-align: middle;\n",
       "    }\n",
       "\n",
       "    .dataframe tbody tr th {\n",
       "        vertical-align: top;\n",
       "    }\n",
       "\n",
       "    .dataframe thead th {\n",
       "        text-align: right;\n",
       "    }\n",
       "</style>\n",
       "<table border=\"1\" class=\"dataframe\">\n",
       "  <thead>\n",
       "    <tr style=\"text-align: right;\">\n",
       "      <th></th>\n",
       "      <th>book_id</th>\n",
       "      <th>book_nb_comm</th>\n",
       "      <th>title</th>\n",
       "      <th>name</th>\n",
       "      <th>surname</th>\n",
       "      <th>img_url</th>\n",
       "      <th>comm_id</th>\n",
       "      <th>user_id</th>\n",
       "      <th>note</th>\n",
       "      <th>date</th>\n",
       "      <th>...</th>\n",
       "      <th>book_editor</th>\n",
       "      <th>book_pages</th>\n",
       "      <th>sen_colère</th>\n",
       "      <th>sen_confiance</th>\n",
       "      <th>sen_honte</th>\n",
       "      <th>sen_joie</th>\n",
       "      <th>sen_peur</th>\n",
       "      <th>sen_réflexion</th>\n",
       "      <th>sen_surprise</th>\n",
       "      <th>sen_tristesse</th>\n",
       "    </tr>\n",
       "  </thead>\n",
       "  <tbody>\n",
       "    <tr>\n",
       "      <th>0</th>\n",
       "      <td>905033</td>\n",
       "      <td>137</td>\n",
       "      <td>Le gang de la clef à molette (Ne meurs pas, ô ...</td>\n",
       "      <td>Edward</td>\n",
       "      <td>Abbey</td>\n",
       "      <td>/couv/CVT_cvt_Le-gang-de-la-clef-a-molette_345...</td>\n",
       "      <td>2080694</td>\n",
       "      <td>706958</td>\n",
       "      <td>4.0</td>\n",
       "      <td>30 novembre 2019</td>\n",
       "      <td>...</td>\n",
       "      <td>Gallmeister</td>\n",
       "      <td>491</td>\n",
       "      <td>0.292288</td>\n",
       "      <td>0.18784</td>\n",
       "      <td>0.0</td>\n",
       "      <td>0.334643</td>\n",
       "      <td>0.098929</td>\n",
       "      <td>0.137829</td>\n",
       "      <td>0.092294</td>\n",
       "      <td>0.14299</td>\n",
       "    </tr>\n",
       "    <tr>\n",
       "      <th>1</th>\n",
       "      <td>905033</td>\n",
       "      <td>137</td>\n",
       "      <td>Le gang de la clef à molette (Ne meurs pas, ô ...</td>\n",
       "      <td>Edward</td>\n",
       "      <td>Abbey</td>\n",
       "      <td>/couv/CVT_cvt_Le-gang-de-la-clef-a-molette_345...</td>\n",
       "      <td>1271915</td>\n",
       "      <td>319761</td>\n",
       "      <td>5.0</td>\n",
       "      <td>03 mars 2017</td>\n",
       "      <td>...</td>\n",
       "      <td>Gallmeister</td>\n",
       "      <td>491</td>\n",
       "      <td>0.292288</td>\n",
       "      <td>0.18784</td>\n",
       "      <td>0.0</td>\n",
       "      <td>0.334643</td>\n",
       "      <td>0.098929</td>\n",
       "      <td>0.137829</td>\n",
       "      <td>0.092294</td>\n",
       "      <td>0.14299</td>\n",
       "    </tr>\n",
       "    <tr>\n",
       "      <th>2</th>\n",
       "      <td>905033</td>\n",
       "      <td>137</td>\n",
       "      <td>Le gang de la clef à molette (Ne meurs pas, ô ...</td>\n",
       "      <td>Edward</td>\n",
       "      <td>Abbey</td>\n",
       "      <td>/couv/CVT_cvt_Le-gang-de-la-clef-a-molette_345...</td>\n",
       "      <td>1093854</td>\n",
       "      <td>128814</td>\n",
       "      <td>5.0</td>\n",
       "      <td>27 juin 2016</td>\n",
       "      <td>...</td>\n",
       "      <td>Gallmeister</td>\n",
       "      <td>491</td>\n",
       "      <td>0.292288</td>\n",
       "      <td>0.18784</td>\n",
       "      <td>0.0</td>\n",
       "      <td>0.334643</td>\n",
       "      <td>0.098929</td>\n",
       "      <td>0.137829</td>\n",
       "      <td>0.092294</td>\n",
       "      <td>0.14299</td>\n",
       "    </tr>\n",
       "    <tr>\n",
       "      <th>3</th>\n",
       "      <td>905033</td>\n",
       "      <td>137</td>\n",
       "      <td>Le gang de la clef à molette (Ne meurs pas, ô ...</td>\n",
       "      <td>Edward</td>\n",
       "      <td>Abbey</td>\n",
       "      <td>/couv/CVT_cvt_Le-gang-de-la-clef-a-molette_345...</td>\n",
       "      <td>2711430</td>\n",
       "      <td>227017</td>\n",
       "      <td>4.5</td>\n",
       "      <td>22 juillet 2021</td>\n",
       "      <td>...</td>\n",
       "      <td>Gallmeister</td>\n",
       "      <td>491</td>\n",
       "      <td>0.292288</td>\n",
       "      <td>0.18784</td>\n",
       "      <td>0.0</td>\n",
       "      <td>0.334643</td>\n",
       "      <td>0.098929</td>\n",
       "      <td>0.137829</td>\n",
       "      <td>0.092294</td>\n",
       "      <td>0.14299</td>\n",
       "    </tr>\n",
       "    <tr>\n",
       "      <th>4</th>\n",
       "      <td>905033</td>\n",
       "      <td>137</td>\n",
       "      <td>Le gang de la clef à molette (Ne meurs pas, ô ...</td>\n",
       "      <td>Edward</td>\n",
       "      <td>Abbey</td>\n",
       "      <td>/couv/CVT_cvt_Le-gang-de-la-clef-a-molette_345...</td>\n",
       "      <td>2685514</td>\n",
       "      <td>138438</td>\n",
       "      <td>4.5</td>\n",
       "      <td>26 juin 2021</td>\n",
       "      <td>...</td>\n",
       "      <td>Gallmeister</td>\n",
       "      <td>491</td>\n",
       "      <td>0.292288</td>\n",
       "      <td>0.18784</td>\n",
       "      <td>0.0</td>\n",
       "      <td>0.334643</td>\n",
       "      <td>0.098929</td>\n",
       "      <td>0.137829</td>\n",
       "      <td>0.092294</td>\n",
       "      <td>0.14299</td>\n",
       "    </tr>\n",
       "    <tr>\n",
       "      <th>...</th>\n",
       "      <td>...</td>\n",
       "      <td>...</td>\n",
       "      <td>...</td>\n",
       "      <td>...</td>\n",
       "      <td>...</td>\n",
       "      <td>...</td>\n",
       "      <td>...</td>\n",
       "      <td>...</td>\n",
       "      <td>...</td>\n",
       "      <td>...</td>\n",
       "      <td>...</td>\n",
       "      <td>...</td>\n",
       "      <td>...</td>\n",
       "      <td>...</td>\n",
       "      <td>...</td>\n",
       "      <td>...</td>\n",
       "      <td>...</td>\n",
       "      <td>...</td>\n",
       "      <td>...</td>\n",
       "      <td>...</td>\n",
       "      <td>...</td>\n",
       "    </tr>\n",
       "    <tr>\n",
       "      <th>314004</th>\n",
       "      <td>609937</td>\n",
       "      <td>59</td>\n",
       "      <td>Seuls les vautours</td>\n",
       "      <td>Nicolas</td>\n",
       "      <td>Zeimet</td>\n",
       "      <td>/couv/CVT_CVT_Seuls-les-vautours_5777.jpg</td>\n",
       "      <td>1057334</td>\n",
       "      <td>166603</td>\n",
       "      <td>5.0</td>\n",
       "      <td>09 mai 2016</td>\n",
       "      <td>...</td>\n",
       "      <td>10-18</td>\n",
       "      <td>552</td>\n",
       "      <td>0.000000</td>\n",
       "      <td>0.00000</td>\n",
       "      <td>0.0</td>\n",
       "      <td>0.000000</td>\n",
       "      <td>0.000000</td>\n",
       "      <td>0.000000</td>\n",
       "      <td>0.000000</td>\n",
       "      <td>0.00000</td>\n",
       "    </tr>\n",
       "    <tr>\n",
       "      <th>314005</th>\n",
       "      <td>609937</td>\n",
       "      <td>59</td>\n",
       "      <td>Seuls les vautours</td>\n",
       "      <td>Nicolas</td>\n",
       "      <td>Zeimet</td>\n",
       "      <td>/couv/CVT_CVT_Seuls-les-vautours_5777.jpg</td>\n",
       "      <td>939776</td>\n",
       "      <td>262506</td>\n",
       "      <td>5.0</td>\n",
       "      <td>07 décembre 2015</td>\n",
       "      <td>...</td>\n",
       "      <td>10-18</td>\n",
       "      <td>552</td>\n",
       "      <td>0.000000</td>\n",
       "      <td>0.00000</td>\n",
       "      <td>0.0</td>\n",
       "      <td>0.000000</td>\n",
       "      <td>0.000000</td>\n",
       "      <td>0.000000</td>\n",
       "      <td>0.000000</td>\n",
       "      <td>0.00000</td>\n",
       "    </tr>\n",
       "    <tr>\n",
       "      <th>314006</th>\n",
       "      <td>609937</td>\n",
       "      <td>59</td>\n",
       "      <td>Seuls les vautours</td>\n",
       "      <td>Nicolas</td>\n",
       "      <td>Zeimet</td>\n",
       "      <td>/couv/CVT_CVT_Seuls-les-vautours_5777.jpg</td>\n",
       "      <td>3027068</td>\n",
       "      <td>306182</td>\n",
       "      <td>2.5</td>\n",
       "      <td>05 mai 2022</td>\n",
       "      <td>...</td>\n",
       "      <td>10-18</td>\n",
       "      <td>552</td>\n",
       "      <td>0.000000</td>\n",
       "      <td>0.00000</td>\n",
       "      <td>0.0</td>\n",
       "      <td>0.000000</td>\n",
       "      <td>0.000000</td>\n",
       "      <td>0.000000</td>\n",
       "      <td>0.000000</td>\n",
       "      <td>0.00000</td>\n",
       "    </tr>\n",
       "    <tr>\n",
       "      <th>314007</th>\n",
       "      <td>609937</td>\n",
       "      <td>59</td>\n",
       "      <td>Seuls les vautours</td>\n",
       "      <td>Nicolas</td>\n",
       "      <td>Zeimet</td>\n",
       "      <td>/couv/CVT_CVT_Seuls-les-vautours_5777.jpg</td>\n",
       "      <td>2027517</td>\n",
       "      <td>14577</td>\n",
       "      <td></td>\n",
       "      <td>02 octobre 2019</td>\n",
       "      <td>...</td>\n",
       "      <td>10-18</td>\n",
       "      <td>552</td>\n",
       "      <td>0.000000</td>\n",
       "      <td>0.00000</td>\n",
       "      <td>0.0</td>\n",
       "      <td>0.000000</td>\n",
       "      <td>0.000000</td>\n",
       "      <td>0.000000</td>\n",
       "      <td>0.000000</td>\n",
       "      <td>0.00000</td>\n",
       "    </tr>\n",
       "    <tr>\n",
       "      <th>314008</th>\n",
       "      <td>609937</td>\n",
       "      <td>59</td>\n",
       "      <td>Seuls les vautours</td>\n",
       "      <td>Nicolas</td>\n",
       "      <td>Zeimet</td>\n",
       "      <td>/couv/CVT_CVT_Seuls-les-vautours_5777.jpg</td>\n",
       "      <td>584227</td>\n",
       "      <td>98712</td>\n",
       "      <td>5.0</td>\n",
       "      <td>22 mai 2014</td>\n",
       "      <td>...</td>\n",
       "      <td>10-18</td>\n",
       "      <td>552</td>\n",
       "      <td>0.000000</td>\n",
       "      <td>0.00000</td>\n",
       "      <td>0.0</td>\n",
       "      <td>0.000000</td>\n",
       "      <td>0.000000</td>\n",
       "      <td>0.000000</td>\n",
       "      <td>0.000000</td>\n",
       "      <td>0.00000</td>\n",
       "    </tr>\n",
       "  </tbody>\n",
       "</table>\n",
       "<p>314009 rows × 28 columns</p>\n",
       "</div>"
      ],
      "text/plain": [
       "        book_id  book_nb_comm  \\\n",
       "0        905033           137   \n",
       "1        905033           137   \n",
       "2        905033           137   \n",
       "3        905033           137   \n",
       "4        905033           137   \n",
       "...         ...           ...   \n",
       "314004   609937            59   \n",
       "314005   609937            59   \n",
       "314006   609937            59   \n",
       "314007   609937            59   \n",
       "314008   609937            59   \n",
       "\n",
       "                                                    title     name surname  \\\n",
       "0       Le gang de la clef à molette (Ne meurs pas, ô ...   Edward   Abbey   \n",
       "1       Le gang de la clef à molette (Ne meurs pas, ô ...   Edward   Abbey   \n",
       "2       Le gang de la clef à molette (Ne meurs pas, ô ...   Edward   Abbey   \n",
       "3       Le gang de la clef à molette (Ne meurs pas, ô ...   Edward   Abbey   \n",
       "4       Le gang de la clef à molette (Ne meurs pas, ô ...   Edward   Abbey   \n",
       "...                                                   ...      ...     ...   \n",
       "314004                                 Seuls les vautours  Nicolas  Zeimet   \n",
       "314005                                 Seuls les vautours  Nicolas  Zeimet   \n",
       "314006                                 Seuls les vautours  Nicolas  Zeimet   \n",
       "314007                                 Seuls les vautours  Nicolas  Zeimet   \n",
       "314008                                 Seuls les vautours  Nicolas  Zeimet   \n",
       "\n",
       "                                                  img_url  comm_id  user_id  \\\n",
       "0       /couv/CVT_cvt_Le-gang-de-la-clef-a-molette_345...  2080694   706958   \n",
       "1       /couv/CVT_cvt_Le-gang-de-la-clef-a-molette_345...  1271915   319761   \n",
       "2       /couv/CVT_cvt_Le-gang-de-la-clef-a-molette_345...  1093854   128814   \n",
       "3       /couv/CVT_cvt_Le-gang-de-la-clef-a-molette_345...  2711430   227017   \n",
       "4       /couv/CVT_cvt_Le-gang-de-la-clef-a-molette_345...  2685514   138438   \n",
       "...                                                   ...      ...      ...   \n",
       "314004          /couv/CVT_CVT_Seuls-les-vautours_5777.jpg  1057334   166603   \n",
       "314005          /couv/CVT_CVT_Seuls-les-vautours_5777.jpg   939776   262506   \n",
       "314006          /couv/CVT_CVT_Seuls-les-vautours_5777.jpg  3027068   306182   \n",
       "314007          /couv/CVT_CVT_Seuls-les-vautours_5777.jpg  2027517    14577   \n",
       "314008          /couv/CVT_CVT_Seuls-les-vautours_5777.jpg   584227    98712   \n",
       "\n",
       "       note              date  ...  book_editor book_pages sen_colère  \\\n",
       "0       4.0  30 novembre 2019  ...  Gallmeister        491   0.292288   \n",
       "1       5.0      03 mars 2017  ...  Gallmeister        491   0.292288   \n",
       "2       5.0      27 juin 2016  ...  Gallmeister        491   0.292288   \n",
       "3       4.5   22 juillet 2021  ...  Gallmeister        491   0.292288   \n",
       "4       4.5      26 juin 2021  ...  Gallmeister        491   0.292288   \n",
       "...     ...               ...  ...          ...        ...        ...   \n",
       "314004  5.0       09 mai 2016  ...        10-18        552   0.000000   \n",
       "314005  5.0  07 décembre 2015  ...        10-18        552   0.000000   \n",
       "314006  2.5       05 mai 2022  ...        10-18        552   0.000000   \n",
       "314007        02 octobre 2019  ...        10-18        552   0.000000   \n",
       "314008  5.0       22 mai 2014  ...        10-18        552   0.000000   \n",
       "\n",
       "       sen_confiance sen_honte  sen_joie  sen_peur sen_réflexion sen_surprise  \\\n",
       "0            0.18784       0.0  0.334643  0.098929      0.137829     0.092294   \n",
       "1            0.18784       0.0  0.334643  0.098929      0.137829     0.092294   \n",
       "2            0.18784       0.0  0.334643  0.098929      0.137829     0.092294   \n",
       "3            0.18784       0.0  0.334643  0.098929      0.137829     0.092294   \n",
       "4            0.18784       0.0  0.334643  0.098929      0.137829     0.092294   \n",
       "...              ...       ...       ...       ...           ...          ...   \n",
       "314004       0.00000       0.0  0.000000  0.000000      0.000000     0.000000   \n",
       "314005       0.00000       0.0  0.000000  0.000000      0.000000     0.000000   \n",
       "314006       0.00000       0.0  0.000000  0.000000      0.000000     0.000000   \n",
       "314007       0.00000       0.0  0.000000  0.000000      0.000000     0.000000   \n",
       "314008       0.00000       0.0  0.000000  0.000000      0.000000     0.000000   \n",
       "\n",
       "        sen_tristesse  \n",
       "0             0.14299  \n",
       "1             0.14299  \n",
       "2             0.14299  \n",
       "3             0.14299  \n",
       "4             0.14299  \n",
       "...               ...  \n",
       "314004        0.00000  \n",
       "314005        0.00000  \n",
       "314006        0.00000  \n",
       "314007        0.00000  \n",
       "314008        0.00000  \n",
       "\n",
       "[314009 rows x 28 columns]"
      ]
     },
     "execution_count": 65,
     "metadata": {},
     "output_type": "execute_result"
    }
   ],
   "source": [
    "julien1_df"
   ]
  },
  {
   "cell_type": "code",
   "execution_count": 66,
   "id": "5a5f48b4",
   "metadata": {},
   "outputs": [],
   "source": [
    "df_sent = julien1_df.iloc[:61610, -8:]"
   ]
  },
  {
   "cell_type": "code",
   "execution_count": 67,
   "id": "79691a76",
   "metadata": {},
   "outputs": [
    {
     "data": {
      "text/html": [
       "<div>\n",
       "<style scoped>\n",
       "    .dataframe tbody tr th:only-of-type {\n",
       "        vertical-align: middle;\n",
       "    }\n",
       "\n",
       "    .dataframe tbody tr th {\n",
       "        vertical-align: top;\n",
       "    }\n",
       "\n",
       "    .dataframe thead th {\n",
       "        text-align: right;\n",
       "    }\n",
       "</style>\n",
       "<table border=\"1\" class=\"dataframe\">\n",
       "  <thead>\n",
       "    <tr style=\"text-align: right;\">\n",
       "      <th></th>\n",
       "      <th>sen_colère</th>\n",
       "      <th>sen_confiance</th>\n",
       "      <th>sen_honte</th>\n",
       "      <th>sen_joie</th>\n",
       "      <th>sen_peur</th>\n",
       "      <th>sen_réflexion</th>\n",
       "      <th>sen_surprise</th>\n",
       "      <th>sen_tristesse</th>\n",
       "    </tr>\n",
       "  </thead>\n",
       "  <tbody>\n",
       "    <tr>\n",
       "      <th>0</th>\n",
       "      <td>0.292288</td>\n",
       "      <td>0.187840</td>\n",
       "      <td>0.0</td>\n",
       "      <td>0.334643</td>\n",
       "      <td>0.098929</td>\n",
       "      <td>0.137829</td>\n",
       "      <td>0.092294</td>\n",
       "      <td>0.142990</td>\n",
       "    </tr>\n",
       "    <tr>\n",
       "      <th>1</th>\n",
       "      <td>0.292288</td>\n",
       "      <td>0.187840</td>\n",
       "      <td>0.0</td>\n",
       "      <td>0.334643</td>\n",
       "      <td>0.098929</td>\n",
       "      <td>0.137829</td>\n",
       "      <td>0.092294</td>\n",
       "      <td>0.142990</td>\n",
       "    </tr>\n",
       "    <tr>\n",
       "      <th>2</th>\n",
       "      <td>0.292288</td>\n",
       "      <td>0.187840</td>\n",
       "      <td>0.0</td>\n",
       "      <td>0.334643</td>\n",
       "      <td>0.098929</td>\n",
       "      <td>0.137829</td>\n",
       "      <td>0.092294</td>\n",
       "      <td>0.142990</td>\n",
       "    </tr>\n",
       "    <tr>\n",
       "      <th>3</th>\n",
       "      <td>0.292288</td>\n",
       "      <td>0.187840</td>\n",
       "      <td>0.0</td>\n",
       "      <td>0.334643</td>\n",
       "      <td>0.098929</td>\n",
       "      <td>0.137829</td>\n",
       "      <td>0.092294</td>\n",
       "      <td>0.142990</td>\n",
       "    </tr>\n",
       "    <tr>\n",
       "      <th>4</th>\n",
       "      <td>0.292288</td>\n",
       "      <td>0.187840</td>\n",
       "      <td>0.0</td>\n",
       "      <td>0.334643</td>\n",
       "      <td>0.098929</td>\n",
       "      <td>0.137829</td>\n",
       "      <td>0.092294</td>\n",
       "      <td>0.142990</td>\n",
       "    </tr>\n",
       "    <tr>\n",
       "      <th>...</th>\n",
       "      <td>...</td>\n",
       "      <td>...</td>\n",
       "      <td>...</td>\n",
       "      <td>...</td>\n",
       "      <td>...</td>\n",
       "      <td>...</td>\n",
       "      <td>...</td>\n",
       "      <td>...</td>\n",
       "    </tr>\n",
       "    <tr>\n",
       "      <th>61605</th>\n",
       "      <td>0.078178</td>\n",
       "      <td>0.182298</td>\n",
       "      <td>0.0</td>\n",
       "      <td>0.290264</td>\n",
       "      <td>0.119810</td>\n",
       "      <td>0.147222</td>\n",
       "      <td>0.109318</td>\n",
       "      <td>0.110916</td>\n",
       "    </tr>\n",
       "    <tr>\n",
       "      <th>61606</th>\n",
       "      <td>0.078178</td>\n",
       "      <td>0.182298</td>\n",
       "      <td>0.0</td>\n",
       "      <td>0.290264</td>\n",
       "      <td>0.119810</td>\n",
       "      <td>0.147222</td>\n",
       "      <td>0.109318</td>\n",
       "      <td>0.110916</td>\n",
       "    </tr>\n",
       "    <tr>\n",
       "      <th>61607</th>\n",
       "      <td>0.078178</td>\n",
       "      <td>0.182298</td>\n",
       "      <td>0.0</td>\n",
       "      <td>0.290264</td>\n",
       "      <td>0.119810</td>\n",
       "      <td>0.147222</td>\n",
       "      <td>0.109318</td>\n",
       "      <td>0.110916</td>\n",
       "    </tr>\n",
       "    <tr>\n",
       "      <th>61608</th>\n",
       "      <td>0.078178</td>\n",
       "      <td>0.182298</td>\n",
       "      <td>0.0</td>\n",
       "      <td>0.290264</td>\n",
       "      <td>0.119810</td>\n",
       "      <td>0.147222</td>\n",
       "      <td>0.109318</td>\n",
       "      <td>0.110916</td>\n",
       "    </tr>\n",
       "    <tr>\n",
       "      <th>61609</th>\n",
       "      <td>0.078178</td>\n",
       "      <td>0.182298</td>\n",
       "      <td>0.0</td>\n",
       "      <td>0.290264</td>\n",
       "      <td>0.119810</td>\n",
       "      <td>0.147222</td>\n",
       "      <td>0.109318</td>\n",
       "      <td>0.110916</td>\n",
       "    </tr>\n",
       "  </tbody>\n",
       "</table>\n",
       "<p>61610 rows × 8 columns</p>\n",
       "</div>"
      ],
      "text/plain": [
       "       sen_colère  sen_confiance  sen_honte  sen_joie  sen_peur  \\\n",
       "0        0.292288       0.187840        0.0  0.334643  0.098929   \n",
       "1        0.292288       0.187840        0.0  0.334643  0.098929   \n",
       "2        0.292288       0.187840        0.0  0.334643  0.098929   \n",
       "3        0.292288       0.187840        0.0  0.334643  0.098929   \n",
       "4        0.292288       0.187840        0.0  0.334643  0.098929   \n",
       "...           ...            ...        ...       ...       ...   \n",
       "61605    0.078178       0.182298        0.0  0.290264  0.119810   \n",
       "61606    0.078178       0.182298        0.0  0.290264  0.119810   \n",
       "61607    0.078178       0.182298        0.0  0.290264  0.119810   \n",
       "61608    0.078178       0.182298        0.0  0.290264  0.119810   \n",
       "61609    0.078178       0.182298        0.0  0.290264  0.119810   \n",
       "\n",
       "       sen_réflexion  sen_surprise  sen_tristesse  \n",
       "0           0.137829      0.092294       0.142990  \n",
       "1           0.137829      0.092294       0.142990  \n",
       "2           0.137829      0.092294       0.142990  \n",
       "3           0.137829      0.092294       0.142990  \n",
       "4           0.137829      0.092294       0.142990  \n",
       "...              ...           ...            ...  \n",
       "61605       0.147222      0.109318       0.110916  \n",
       "61606       0.147222      0.109318       0.110916  \n",
       "61607       0.147222      0.109318       0.110916  \n",
       "61608       0.147222      0.109318       0.110916  \n",
       "61609       0.147222      0.109318       0.110916  \n",
       "\n",
       "[61610 rows x 8 columns]"
      ]
     },
     "execution_count": 67,
     "metadata": {},
     "output_type": "execute_result"
    }
   ],
   "source": [
    "df_sent"
   ]
  },
  {
   "cell_type": "code",
   "execution_count": 68,
   "id": "840b51ad",
   "metadata": {},
   "outputs": [],
   "source": [
    "import polars as pl\n",
    "\n",
    "df = pl.DataFrame({\n",
    "    \"a\": [1, 2, 3],\n",
    "    \"b\": [4, 5, 6]\n",
    "})\n",
    "\n",
    "liste = df.select([\n",
    "    pl.concat_list([\n",
    "        pl.col(\"a\").reshape((-1, 1)), \n",
    "        pl.col(\"b\").reshape((-1, 1))\n",
    "    ])\n",
    "])"
   ]
  },
  {
   "cell_type": "code",
   "execution_count": 69,
   "id": "74f449da",
   "metadata": {},
   "outputs": [
    {
     "name": "stdout",
     "output_type": "stream",
     "text": [
      "<class 'polars.internals.dataframe.frame.DataFrame'>\n"
     ]
    },
    {
     "data": {
      "text/html": [
       "<div>\n",
       "<style scoped>\n",
       "    .dataframe tbody tr th:only-of-type {\n",
       "        vertical-align: middle;\n",
       "    }\n",
       "\n",
       "    .dataframe tbody tr th {\n",
       "        vertical-align: top;\n",
       "    }\n",
       "\n",
       "    .dataframe thead th {\n",
       "        text-align: right;\n",
       "    }\n",
       "\n",
       "    .dataframe td {\n",
       "        white-space: pre;\n",
       "    }\n",
       "\n",
       "    .dataframe td {\n",
       "        padding-top: 0;\n",
       "    }\n",
       "\n",
       "    .dataframe td {\n",
       "        padding-bottom: 0;\n",
       "    }\n",
       "\n",
       "    .dataframe td {\n",
       "        line-height: 95%;\n",
       "    }\n",
       "</style>\n",
       "<table border=\"1\" class=\"dataframe\" >\n",
       "<small>shape: (3, 1)</small>\n",
       "<thead>\n",
       "<tr>\n",
       "<th>\n",
       "a\n",
       "</th>\n",
       "</tr>\n",
       "<tr>\n",
       "<td>\n",
       "list[i64]\n",
       "</td>\n",
       "</tr>\n",
       "</thead>\n",
       "<tbody>\n",
       "<tr>\n",
       "<td>\n",
       "[1, 4]\n",
       "</td>\n",
       "</tr>\n",
       "<tr>\n",
       "<td>\n",
       "[2, 5]\n",
       "</td>\n",
       "</tr>\n",
       "<tr>\n",
       "<td>\n",
       "[3, 6]\n",
       "</td>\n",
       "</tr>\n",
       "</tbody>\n",
       "</table>\n",
       "</div>"
      ],
      "text/plain": [
       "shape: (3, 1)\n",
       "┌───────────┐\n",
       "│ a         │\n",
       "│ ---       │\n",
       "│ list[i64] │\n",
       "╞═══════════╡\n",
       "│ [1, 4]    │\n",
       "├╌╌╌╌╌╌╌╌╌╌╌┤\n",
       "│ [2, 5]    │\n",
       "├╌╌╌╌╌╌╌╌╌╌╌┤\n",
       "│ [3, 6]    │\n",
       "└───────────┘"
      ]
     },
     "execution_count": 69,
     "metadata": {},
     "output_type": "execute_result"
    }
   ],
   "source": [
    "print(type(liste))\n",
    "liste"
   ]
  },
  {
   "cell_type": "code",
   "execution_count": 70,
   "id": "98302b42",
   "metadata": {},
   "outputs": [],
   "source": [
    "df_sent_sample = df_sent.iloc[:10000,-8:]\n",
    "df_sent_sample = df_sent_sample.sample(10).reset_index(drop=True)"
   ]
  },
  {
   "cell_type": "code",
   "execution_count": 71,
   "id": "eb6bb247",
   "metadata": {},
   "outputs": [
    {
     "data": {
      "text/html": [
       "<div>\n",
       "<style scoped>\n",
       "    .dataframe tbody tr th:only-of-type {\n",
       "        vertical-align: middle;\n",
       "    }\n",
       "\n",
       "    .dataframe tbody tr th {\n",
       "        vertical-align: top;\n",
       "    }\n",
       "\n",
       "    .dataframe thead th {\n",
       "        text-align: right;\n",
       "    }\n",
       "</style>\n",
       "<table border=\"1\" class=\"dataframe\">\n",
       "  <thead>\n",
       "    <tr style=\"text-align: right;\">\n",
       "      <th></th>\n",
       "      <th>sen_colère</th>\n",
       "      <th>sen_confiance</th>\n",
       "      <th>sen_honte</th>\n",
       "      <th>sen_joie</th>\n",
       "      <th>sen_peur</th>\n",
       "      <th>sen_réflexion</th>\n",
       "      <th>sen_surprise</th>\n",
       "      <th>sen_tristesse</th>\n",
       "    </tr>\n",
       "  </thead>\n",
       "  <tbody>\n",
       "    <tr>\n",
       "      <th>0</th>\n",
       "      <td>0.037392</td>\n",
       "      <td>0.108213</td>\n",
       "      <td>0.028506</td>\n",
       "      <td>0.164438</td>\n",
       "      <td>0.000000</td>\n",
       "      <td>0.112622</td>\n",
       "      <td>0.136444</td>\n",
       "      <td>0.193053</td>\n",
       "    </tr>\n",
       "    <tr>\n",
       "      <th>1</th>\n",
       "      <td>0.185743</td>\n",
       "      <td>0.153563</td>\n",
       "      <td>0.033504</td>\n",
       "      <td>0.282413</td>\n",
       "      <td>0.020836</td>\n",
       "      <td>0.167631</td>\n",
       "      <td>0.179570</td>\n",
       "      <td>0.153805</td>\n",
       "    </tr>\n",
       "    <tr>\n",
       "      <th>2</th>\n",
       "      <td>0.054358</td>\n",
       "      <td>0.356334</td>\n",
       "      <td>0.000000</td>\n",
       "      <td>0.139989</td>\n",
       "      <td>0.025937</td>\n",
       "      <td>0.212976</td>\n",
       "      <td>0.068542</td>\n",
       "      <td>0.222353</td>\n",
       "    </tr>\n",
       "    <tr>\n",
       "      <th>3</th>\n",
       "      <td>0.113962</td>\n",
       "      <td>0.115022</td>\n",
       "      <td>0.028331</td>\n",
       "      <td>0.205788</td>\n",
       "      <td>0.112182</td>\n",
       "      <td>0.174169</td>\n",
       "      <td>0.272420</td>\n",
       "      <td>0.214076</td>\n",
       "    </tr>\n",
       "    <tr>\n",
       "      <th>4</th>\n",
       "      <td>0.028710</td>\n",
       "      <td>0.142630</td>\n",
       "      <td>0.000000</td>\n",
       "      <td>0.291135</td>\n",
       "      <td>0.045954</td>\n",
       "      <td>0.085019</td>\n",
       "      <td>0.252787</td>\n",
       "      <td>0.255985</td>\n",
       "    </tr>\n",
       "    <tr>\n",
       "      <th>5</th>\n",
       "      <td>0.138177</td>\n",
       "      <td>0.153345</td>\n",
       "      <td>0.033038</td>\n",
       "      <td>0.233701</td>\n",
       "      <td>0.069467</td>\n",
       "      <td>0.195713</td>\n",
       "      <td>0.151178</td>\n",
       "      <td>0.129434</td>\n",
       "    </tr>\n",
       "    <tr>\n",
       "      <th>6</th>\n",
       "      <td>0.093624</td>\n",
       "      <td>0.147728</td>\n",
       "      <td>0.000000</td>\n",
       "      <td>0.314495</td>\n",
       "      <td>0.025396</td>\n",
       "      <td>0.175255</td>\n",
       "      <td>0.260523</td>\n",
       "      <td>0.172373</td>\n",
       "    </tr>\n",
       "    <tr>\n",
       "      <th>7</th>\n",
       "      <td>0.043336</td>\n",
       "      <td>0.185769</td>\n",
       "      <td>0.000000</td>\n",
       "      <td>0.130431</td>\n",
       "      <td>0.098586</td>\n",
       "      <td>0.223468</td>\n",
       "      <td>0.188123</td>\n",
       "      <td>0.191822</td>\n",
       "    </tr>\n",
       "    <tr>\n",
       "      <th>8</th>\n",
       "      <td>0.112849</td>\n",
       "      <td>0.299754</td>\n",
       "      <td>0.044137</td>\n",
       "      <td>0.212701</td>\n",
       "      <td>0.083650</td>\n",
       "      <td>0.168463</td>\n",
       "      <td>0.172430</td>\n",
       "      <td>0.236006</td>\n",
       "    </tr>\n",
       "    <tr>\n",
       "      <th>9</th>\n",
       "      <td>0.166261</td>\n",
       "      <td>0.205637</td>\n",
       "      <td>0.000000</td>\n",
       "      <td>0.172845</td>\n",
       "      <td>0.153985</td>\n",
       "      <td>0.094324</td>\n",
       "      <td>0.371064</td>\n",
       "      <td>0.168033</td>\n",
       "    </tr>\n",
       "  </tbody>\n",
       "</table>\n",
       "</div>"
      ],
      "text/plain": [
       "   sen_colère  sen_confiance  sen_honte  sen_joie  sen_peur  sen_réflexion  \\\n",
       "0    0.037392       0.108213   0.028506  0.164438  0.000000       0.112622   \n",
       "1    0.185743       0.153563   0.033504  0.282413  0.020836       0.167631   \n",
       "2    0.054358       0.356334   0.000000  0.139989  0.025937       0.212976   \n",
       "3    0.113962       0.115022   0.028331  0.205788  0.112182       0.174169   \n",
       "4    0.028710       0.142630   0.000000  0.291135  0.045954       0.085019   \n",
       "5    0.138177       0.153345   0.033038  0.233701  0.069467       0.195713   \n",
       "6    0.093624       0.147728   0.000000  0.314495  0.025396       0.175255   \n",
       "7    0.043336       0.185769   0.000000  0.130431  0.098586       0.223468   \n",
       "8    0.112849       0.299754   0.044137  0.212701  0.083650       0.168463   \n",
       "9    0.166261       0.205637   0.000000  0.172845  0.153985       0.094324   \n",
       "\n",
       "   sen_surprise  sen_tristesse  \n",
       "0      0.136444       0.193053  \n",
       "1      0.179570       0.153805  \n",
       "2      0.068542       0.222353  \n",
       "3      0.272420       0.214076  \n",
       "4      0.252787       0.255985  \n",
       "5      0.151178       0.129434  \n",
       "6      0.260523       0.172373  \n",
       "7      0.188123       0.191822  \n",
       "8      0.172430       0.236006  \n",
       "9      0.371064       0.168033  "
      ]
     },
     "execution_count": 71,
     "metadata": {},
     "output_type": "execute_result"
    }
   ],
   "source": [
    "df_sent_sample"
   ]
  },
  {
   "cell_type": "code",
   "execution_count": 72,
   "id": "11505c1e",
   "metadata": {},
   "outputs": [],
   "source": [
    "def create_target(df, columns, print_=False):\n",
    "    i,j = 0, len(df)\n",
    "    df['target'] =  [[] for i in range(df.shape[0])]\n",
    "    while i<j:\n",
    "        s = []\n",
    "        for ind,col in enumerate(columns):\n",
    "            el = df.iloc[i][col]\n",
    "            s.append(el)\n",
    "        if print_:\n",
    "            print(s)\n",
    "        df.loc[i, 'target'].append(s)\n",
    "        i+=1\n",
    "    df['target'] = df['target'].apply(lambda row: [elem for el in row for elem in el])\n",
    "    return df"
   ]
  },
  {
   "cell_type": "code",
   "execution_count": 75,
   "id": "b7ac0557",
   "metadata": {},
   "outputs": [
    {
     "data": {
      "text/html": [
       "<div>\n",
       "<style scoped>\n",
       "    .dataframe tbody tr th:only-of-type {\n",
       "        vertical-align: middle;\n",
       "    }\n",
       "\n",
       "    .dataframe tbody tr th {\n",
       "        vertical-align: top;\n",
       "    }\n",
       "\n",
       "    .dataframe thead th {\n",
       "        text-align: right;\n",
       "    }\n",
       "</style>\n",
       "<table border=\"1\" class=\"dataframe\">\n",
       "  <thead>\n",
       "    <tr style=\"text-align: right;\">\n",
       "      <th></th>\n",
       "      <th>sen_colère</th>\n",
       "      <th>sen_confiance</th>\n",
       "      <th>sen_honte</th>\n",
       "      <th>sen_joie</th>\n",
       "      <th>sen_peur</th>\n",
       "      <th>sen_réflexion</th>\n",
       "      <th>sen_surprise</th>\n",
       "      <th>sen_tristesse</th>\n",
       "      <th>target</th>\n",
       "    </tr>\n",
       "  </thead>\n",
       "  <tbody>\n",
       "    <tr>\n",
       "      <th>0</th>\n",
       "      <td>0.292288</td>\n",
       "      <td>0.187840</td>\n",
       "      <td>0.0</td>\n",
       "      <td>0.334643</td>\n",
       "      <td>0.098929</td>\n",
       "      <td>0.137829</td>\n",
       "      <td>0.092294</td>\n",
       "      <td>0.142990</td>\n",
       "      <td>[0.2922881035, 0.1878402959, 0.0, 0.3346425303...</td>\n",
       "    </tr>\n",
       "    <tr>\n",
       "      <th>1</th>\n",
       "      <td>0.292288</td>\n",
       "      <td>0.187840</td>\n",
       "      <td>0.0</td>\n",
       "      <td>0.334643</td>\n",
       "      <td>0.098929</td>\n",
       "      <td>0.137829</td>\n",
       "      <td>0.092294</td>\n",
       "      <td>0.142990</td>\n",
       "      <td>[0.2922881035, 0.1878402959, 0.0, 0.3346425303...</td>\n",
       "    </tr>\n",
       "    <tr>\n",
       "      <th>2</th>\n",
       "      <td>0.292288</td>\n",
       "      <td>0.187840</td>\n",
       "      <td>0.0</td>\n",
       "      <td>0.334643</td>\n",
       "      <td>0.098929</td>\n",
       "      <td>0.137829</td>\n",
       "      <td>0.092294</td>\n",
       "      <td>0.142990</td>\n",
       "      <td>[0.2922881035, 0.1878402959, 0.0, 0.3346425303...</td>\n",
       "    </tr>\n",
       "    <tr>\n",
       "      <th>3</th>\n",
       "      <td>0.292288</td>\n",
       "      <td>0.187840</td>\n",
       "      <td>0.0</td>\n",
       "      <td>0.334643</td>\n",
       "      <td>0.098929</td>\n",
       "      <td>0.137829</td>\n",
       "      <td>0.092294</td>\n",
       "      <td>0.142990</td>\n",
       "      <td>[0.2922881035, 0.1878402959, 0.0, 0.3346425303...</td>\n",
       "    </tr>\n",
       "    <tr>\n",
       "      <th>4</th>\n",
       "      <td>0.292288</td>\n",
       "      <td>0.187840</td>\n",
       "      <td>0.0</td>\n",
       "      <td>0.334643</td>\n",
       "      <td>0.098929</td>\n",
       "      <td>0.137829</td>\n",
       "      <td>0.092294</td>\n",
       "      <td>0.142990</td>\n",
       "      <td>[0.2922881035, 0.1878402959, 0.0, 0.3346425303...</td>\n",
       "    </tr>\n",
       "    <tr>\n",
       "      <th>...</th>\n",
       "      <td>...</td>\n",
       "      <td>...</td>\n",
       "      <td>...</td>\n",
       "      <td>...</td>\n",
       "      <td>...</td>\n",
       "      <td>...</td>\n",
       "      <td>...</td>\n",
       "      <td>...</td>\n",
       "      <td>...</td>\n",
       "    </tr>\n",
       "    <tr>\n",
       "      <th>61605</th>\n",
       "      <td>0.078178</td>\n",
       "      <td>0.182298</td>\n",
       "      <td>0.0</td>\n",
       "      <td>0.290264</td>\n",
       "      <td>0.119810</td>\n",
       "      <td>0.147222</td>\n",
       "      <td>0.109318</td>\n",
       "      <td>0.110916</td>\n",
       "      <td>[0.07817766200000001, 0.1822976926, 0.0, 0.290...</td>\n",
       "    </tr>\n",
       "    <tr>\n",
       "      <th>61606</th>\n",
       "      <td>0.078178</td>\n",
       "      <td>0.182298</td>\n",
       "      <td>0.0</td>\n",
       "      <td>0.290264</td>\n",
       "      <td>0.119810</td>\n",
       "      <td>0.147222</td>\n",
       "      <td>0.109318</td>\n",
       "      <td>0.110916</td>\n",
       "      <td>[0.07817766200000001, 0.1822976926, 0.0, 0.290...</td>\n",
       "    </tr>\n",
       "    <tr>\n",
       "      <th>61607</th>\n",
       "      <td>0.078178</td>\n",
       "      <td>0.182298</td>\n",
       "      <td>0.0</td>\n",
       "      <td>0.290264</td>\n",
       "      <td>0.119810</td>\n",
       "      <td>0.147222</td>\n",
       "      <td>0.109318</td>\n",
       "      <td>0.110916</td>\n",
       "      <td>[0.07817766200000001, 0.1822976926, 0.0, 0.290...</td>\n",
       "    </tr>\n",
       "    <tr>\n",
       "      <th>61608</th>\n",
       "      <td>0.078178</td>\n",
       "      <td>0.182298</td>\n",
       "      <td>0.0</td>\n",
       "      <td>0.290264</td>\n",
       "      <td>0.119810</td>\n",
       "      <td>0.147222</td>\n",
       "      <td>0.109318</td>\n",
       "      <td>0.110916</td>\n",
       "      <td>[0.07817766200000001, 0.1822976926, 0.0, 0.290...</td>\n",
       "    </tr>\n",
       "    <tr>\n",
       "      <th>61609</th>\n",
       "      <td>0.078178</td>\n",
       "      <td>0.182298</td>\n",
       "      <td>0.0</td>\n",
       "      <td>0.290264</td>\n",
       "      <td>0.119810</td>\n",
       "      <td>0.147222</td>\n",
       "      <td>0.109318</td>\n",
       "      <td>0.110916</td>\n",
       "      <td>[0.07817766200000001, 0.1822976926, 0.0, 0.290...</td>\n",
       "    </tr>\n",
       "  </tbody>\n",
       "</table>\n",
       "<p>61610 rows × 9 columns</p>\n",
       "</div>"
      ],
      "text/plain": [
       "       sen_colère  sen_confiance  sen_honte  sen_joie  sen_peur  \\\n",
       "0        0.292288       0.187840        0.0  0.334643  0.098929   \n",
       "1        0.292288       0.187840        0.0  0.334643  0.098929   \n",
       "2        0.292288       0.187840        0.0  0.334643  0.098929   \n",
       "3        0.292288       0.187840        0.0  0.334643  0.098929   \n",
       "4        0.292288       0.187840        0.0  0.334643  0.098929   \n",
       "...           ...            ...        ...       ...       ...   \n",
       "61605    0.078178       0.182298        0.0  0.290264  0.119810   \n",
       "61606    0.078178       0.182298        0.0  0.290264  0.119810   \n",
       "61607    0.078178       0.182298        0.0  0.290264  0.119810   \n",
       "61608    0.078178       0.182298        0.0  0.290264  0.119810   \n",
       "61609    0.078178       0.182298        0.0  0.290264  0.119810   \n",
       "\n",
       "       sen_réflexion  sen_surprise  sen_tristesse  \\\n",
       "0           0.137829      0.092294       0.142990   \n",
       "1           0.137829      0.092294       0.142990   \n",
       "2           0.137829      0.092294       0.142990   \n",
       "3           0.137829      0.092294       0.142990   \n",
       "4           0.137829      0.092294       0.142990   \n",
       "...              ...           ...            ...   \n",
       "61605       0.147222      0.109318       0.110916   \n",
       "61606       0.147222      0.109318       0.110916   \n",
       "61607       0.147222      0.109318       0.110916   \n",
       "61608       0.147222      0.109318       0.110916   \n",
       "61609       0.147222      0.109318       0.110916   \n",
       "\n",
       "                                                  target  \n",
       "0      [0.2922881035, 0.1878402959, 0.0, 0.3346425303...  \n",
       "1      [0.2922881035, 0.1878402959, 0.0, 0.3346425303...  \n",
       "2      [0.2922881035, 0.1878402959, 0.0, 0.3346425303...  \n",
       "3      [0.2922881035, 0.1878402959, 0.0, 0.3346425303...  \n",
       "4      [0.2922881035, 0.1878402959, 0.0, 0.3346425303...  \n",
       "...                                                  ...  \n",
       "61605  [0.07817766200000001, 0.1822976926, 0.0, 0.290...  \n",
       "61606  [0.07817766200000001, 0.1822976926, 0.0, 0.290...  \n",
       "61607  [0.07817766200000001, 0.1822976926, 0.0, 0.290...  \n",
       "61608  [0.07817766200000001, 0.1822976926, 0.0, 0.290...  \n",
       "61609  [0.07817766200000001, 0.1822976926, 0.0, 0.290...  \n",
       "\n",
       "[61610 rows x 9 columns]"
      ]
     },
     "execution_count": 75,
     "metadata": {},
     "output_type": "execute_result"
    }
   ],
   "source": [
    "df_sent = create_target(df_sent, columns=df_sent.columns)\n",
    "df_sent"
   ]
  },
  {
   "cell_type": "markdown",
   "id": "ebe064ce",
   "metadata": {},
   "source": [
    "### Creation de la target pour le grand dataset"
   ]
  },
  {
   "cell_type": "code",
   "execution_count": 9,
   "id": "4e794b4c",
   "metadata": {},
   "outputs": [],
   "source": [
    "df_sent_test = julien1_df.iloc[:61610, :]"
   ]
  },
  {
   "cell_type": "code",
   "execution_count": 10,
   "id": "2066f7d4",
   "metadata": {},
   "outputs": [],
   "source": [
    "columns_ = df_sent_test.columns[-8:]"
   ]
  },
  {
   "cell_type": "code",
   "execution_count": 11,
   "id": "ea5e21cc",
   "metadata": {},
   "outputs": [
    {
     "data": {
      "text/html": [
       "<div>\n",
       "<style scoped>\n",
       "    .dataframe tbody tr th:only-of-type {\n",
       "        vertical-align: middle;\n",
       "    }\n",
       "\n",
       "    .dataframe tbody tr th {\n",
       "        vertical-align: top;\n",
       "    }\n",
       "\n",
       "    .dataframe thead th {\n",
       "        text-align: right;\n",
       "    }\n",
       "</style>\n",
       "<table border=\"1\" class=\"dataframe\">\n",
       "  <thead>\n",
       "    <tr style=\"text-align: right;\">\n",
       "      <th></th>\n",
       "      <th>book_id</th>\n",
       "      <th>book_nb_comm</th>\n",
       "      <th>title</th>\n",
       "      <th>name</th>\n",
       "      <th>surname</th>\n",
       "      <th>img_url</th>\n",
       "      <th>comm_id</th>\n",
       "      <th>user_id</th>\n",
       "      <th>note</th>\n",
       "      <th>date</th>\n",
       "      <th>...</th>\n",
       "      <th>book_pages</th>\n",
       "      <th>sen_colère</th>\n",
       "      <th>sen_confiance</th>\n",
       "      <th>sen_honte</th>\n",
       "      <th>sen_joie</th>\n",
       "      <th>sen_peur</th>\n",
       "      <th>sen_réflexion</th>\n",
       "      <th>sen_surprise</th>\n",
       "      <th>sen_tristesse</th>\n",
       "      <th>target</th>\n",
       "    </tr>\n",
       "  </thead>\n",
       "  <tbody>\n",
       "    <tr>\n",
       "      <th>0</th>\n",
       "      <td>905033</td>\n",
       "      <td>137</td>\n",
       "      <td>Le gang de la clef à molette (Ne meurs pas, ô ...</td>\n",
       "      <td>Edward</td>\n",
       "      <td>Abbey</td>\n",
       "      <td>/couv/CVT_cvt_Le-gang-de-la-clef-a-molette_345...</td>\n",
       "      <td>2080694</td>\n",
       "      <td>706958</td>\n",
       "      <td>4.0</td>\n",
       "      <td>30 novembre 2019</td>\n",
       "      <td>...</td>\n",
       "      <td>491</td>\n",
       "      <td>0.292288</td>\n",
       "      <td>0.187840</td>\n",
       "      <td>0.0</td>\n",
       "      <td>0.334643</td>\n",
       "      <td>0.098929</td>\n",
       "      <td>0.137829</td>\n",
       "      <td>0.092294</td>\n",
       "      <td>0.142990</td>\n",
       "      <td>[0.2922881035, 0.1878402959, 0.0, 0.3346425303...</td>\n",
       "    </tr>\n",
       "    <tr>\n",
       "      <th>1</th>\n",
       "      <td>905033</td>\n",
       "      <td>137</td>\n",
       "      <td>Le gang de la clef à molette (Ne meurs pas, ô ...</td>\n",
       "      <td>Edward</td>\n",
       "      <td>Abbey</td>\n",
       "      <td>/couv/CVT_cvt_Le-gang-de-la-clef-a-molette_345...</td>\n",
       "      <td>1271915</td>\n",
       "      <td>319761</td>\n",
       "      <td>5.0</td>\n",
       "      <td>03 mars 2017</td>\n",
       "      <td>...</td>\n",
       "      <td>491</td>\n",
       "      <td>0.292288</td>\n",
       "      <td>0.187840</td>\n",
       "      <td>0.0</td>\n",
       "      <td>0.334643</td>\n",
       "      <td>0.098929</td>\n",
       "      <td>0.137829</td>\n",
       "      <td>0.092294</td>\n",
       "      <td>0.142990</td>\n",
       "      <td>[0.2922881035, 0.1878402959, 0.0, 0.3346425303...</td>\n",
       "    </tr>\n",
       "    <tr>\n",
       "      <th>2</th>\n",
       "      <td>905033</td>\n",
       "      <td>137</td>\n",
       "      <td>Le gang de la clef à molette (Ne meurs pas, ô ...</td>\n",
       "      <td>Edward</td>\n",
       "      <td>Abbey</td>\n",
       "      <td>/couv/CVT_cvt_Le-gang-de-la-clef-a-molette_345...</td>\n",
       "      <td>1093854</td>\n",
       "      <td>128814</td>\n",
       "      <td>5.0</td>\n",
       "      <td>27 juin 2016</td>\n",
       "      <td>...</td>\n",
       "      <td>491</td>\n",
       "      <td>0.292288</td>\n",
       "      <td>0.187840</td>\n",
       "      <td>0.0</td>\n",
       "      <td>0.334643</td>\n",
       "      <td>0.098929</td>\n",
       "      <td>0.137829</td>\n",
       "      <td>0.092294</td>\n",
       "      <td>0.142990</td>\n",
       "      <td>[0.2922881035, 0.1878402959, 0.0, 0.3346425303...</td>\n",
       "    </tr>\n",
       "    <tr>\n",
       "      <th>3</th>\n",
       "      <td>905033</td>\n",
       "      <td>137</td>\n",
       "      <td>Le gang de la clef à molette (Ne meurs pas, ô ...</td>\n",
       "      <td>Edward</td>\n",
       "      <td>Abbey</td>\n",
       "      <td>/couv/CVT_cvt_Le-gang-de-la-clef-a-molette_345...</td>\n",
       "      <td>2711430</td>\n",
       "      <td>227017</td>\n",
       "      <td>4.5</td>\n",
       "      <td>22 juillet 2021</td>\n",
       "      <td>...</td>\n",
       "      <td>491</td>\n",
       "      <td>0.292288</td>\n",
       "      <td>0.187840</td>\n",
       "      <td>0.0</td>\n",
       "      <td>0.334643</td>\n",
       "      <td>0.098929</td>\n",
       "      <td>0.137829</td>\n",
       "      <td>0.092294</td>\n",
       "      <td>0.142990</td>\n",
       "      <td>[0.2922881035, 0.1878402959, 0.0, 0.3346425303...</td>\n",
       "    </tr>\n",
       "    <tr>\n",
       "      <th>4</th>\n",
       "      <td>905033</td>\n",
       "      <td>137</td>\n",
       "      <td>Le gang de la clef à molette (Ne meurs pas, ô ...</td>\n",
       "      <td>Edward</td>\n",
       "      <td>Abbey</td>\n",
       "      <td>/couv/CVT_cvt_Le-gang-de-la-clef-a-molette_345...</td>\n",
       "      <td>2685514</td>\n",
       "      <td>138438</td>\n",
       "      <td>4.5</td>\n",
       "      <td>26 juin 2021</td>\n",
       "      <td>...</td>\n",
       "      <td>491</td>\n",
       "      <td>0.292288</td>\n",
       "      <td>0.187840</td>\n",
       "      <td>0.0</td>\n",
       "      <td>0.334643</td>\n",
       "      <td>0.098929</td>\n",
       "      <td>0.137829</td>\n",
       "      <td>0.092294</td>\n",
       "      <td>0.142990</td>\n",
       "      <td>[0.2922881035, 0.1878402959, 0.0, 0.3346425303...</td>\n",
       "    </tr>\n",
       "    <tr>\n",
       "      <th>...</th>\n",
       "      <td>...</td>\n",
       "      <td>...</td>\n",
       "      <td>...</td>\n",
       "      <td>...</td>\n",
       "      <td>...</td>\n",
       "      <td>...</td>\n",
       "      <td>...</td>\n",
       "      <td>...</td>\n",
       "      <td>...</td>\n",
       "      <td>...</td>\n",
       "      <td>...</td>\n",
       "      <td>...</td>\n",
       "      <td>...</td>\n",
       "      <td>...</td>\n",
       "      <td>...</td>\n",
       "      <td>...</td>\n",
       "      <td>...</td>\n",
       "      <td>...</td>\n",
       "      <td>...</td>\n",
       "      <td>...</td>\n",
       "      <td>...</td>\n",
       "    </tr>\n",
       "    <tr>\n",
       "      <th>61605</th>\n",
       "      <td>1303453</td>\n",
       "      <td>44</td>\n",
       "      <td>Une enquête de William Wisting, tome 5 : Le co...</td>\n",
       "      <td>Jørn Lier</td>\n",
       "      <td>Horst</td>\n",
       "      <td>/couv/CVT_Le-code-de-Katharina_640.jpg</td>\n",
       "      <td>2672567</td>\n",
       "      <td>786180</td>\n",
       "      <td>3.5</td>\n",
       "      <td>13 juin 2021</td>\n",
       "      <td>...</td>\n",
       "      <td>0</td>\n",
       "      <td>0.078178</td>\n",
       "      <td>0.182298</td>\n",
       "      <td>0.0</td>\n",
       "      <td>0.290264</td>\n",
       "      <td>0.119810</td>\n",
       "      <td>0.147222</td>\n",
       "      <td>0.109318</td>\n",
       "      <td>0.110916</td>\n",
       "      <td>[0.07817766200000001, 0.1822976926, 0.0, 0.290...</td>\n",
       "    </tr>\n",
       "    <tr>\n",
       "      <th>61606</th>\n",
       "      <td>1303453</td>\n",
       "      <td>44</td>\n",
       "      <td>Une enquête de William Wisting, tome 5 : Le co...</td>\n",
       "      <td>Jørn Lier</td>\n",
       "      <td>Horst</td>\n",
       "      <td>/couv/CVT_Le-code-de-Katharina_640.jpg</td>\n",
       "      <td>2672567</td>\n",
       "      <td>786180</td>\n",
       "      <td>3.5</td>\n",
       "      <td>13 juin 2021</td>\n",
       "      <td>...</td>\n",
       "      <td>0</td>\n",
       "      <td>0.078178</td>\n",
       "      <td>0.182298</td>\n",
       "      <td>0.0</td>\n",
       "      <td>0.290264</td>\n",
       "      <td>0.119810</td>\n",
       "      <td>0.147222</td>\n",
       "      <td>0.109318</td>\n",
       "      <td>0.110916</td>\n",
       "      <td>[0.07817766200000001, 0.1822976926, 0.0, 0.290...</td>\n",
       "    </tr>\n",
       "    <tr>\n",
       "      <th>61607</th>\n",
       "      <td>1303453</td>\n",
       "      <td>44</td>\n",
       "      <td>Une enquête de William Wisting, tome 5 : Le co...</td>\n",
       "      <td>Jørn Lier</td>\n",
       "      <td>Horst</td>\n",
       "      <td>/couv/CVT_Le-code-de-Katharina_640.jpg</td>\n",
       "      <td>2672567</td>\n",
       "      <td>786180</td>\n",
       "      <td>3.5</td>\n",
       "      <td>13 juin 2021</td>\n",
       "      <td>...</td>\n",
       "      <td>0</td>\n",
       "      <td>0.078178</td>\n",
       "      <td>0.182298</td>\n",
       "      <td>0.0</td>\n",
       "      <td>0.290264</td>\n",
       "      <td>0.119810</td>\n",
       "      <td>0.147222</td>\n",
       "      <td>0.109318</td>\n",
       "      <td>0.110916</td>\n",
       "      <td>[0.07817766200000001, 0.1822976926, 0.0, 0.290...</td>\n",
       "    </tr>\n",
       "    <tr>\n",
       "      <th>61608</th>\n",
       "      <td>1303453</td>\n",
       "      <td>44</td>\n",
       "      <td>Une enquête de William Wisting, tome 5 : Le co...</td>\n",
       "      <td>Jørn Lier</td>\n",
       "      <td>Horst</td>\n",
       "      <td>/couv/CVT_Le-code-de-Katharina_640.jpg</td>\n",
       "      <td>2672567</td>\n",
       "      <td>786180</td>\n",
       "      <td>3.5</td>\n",
       "      <td>13 juin 2021</td>\n",
       "      <td>...</td>\n",
       "      <td>0</td>\n",
       "      <td>0.078178</td>\n",
       "      <td>0.182298</td>\n",
       "      <td>0.0</td>\n",
       "      <td>0.290264</td>\n",
       "      <td>0.119810</td>\n",
       "      <td>0.147222</td>\n",
       "      <td>0.109318</td>\n",
       "      <td>0.110916</td>\n",
       "      <td>[0.07817766200000001, 0.1822976926, 0.0, 0.290...</td>\n",
       "    </tr>\n",
       "    <tr>\n",
       "      <th>61609</th>\n",
       "      <td>1303453</td>\n",
       "      <td>44</td>\n",
       "      <td>Une enquête de William Wisting, tome 5 : Le co...</td>\n",
       "      <td>Jørn Lier</td>\n",
       "      <td>Horst</td>\n",
       "      <td>/couv/CVT_Le-code-de-Katharina_640.jpg</td>\n",
       "      <td>2672567</td>\n",
       "      <td>786180</td>\n",
       "      <td>3.5</td>\n",
       "      <td>13 juin 2021</td>\n",
       "      <td>...</td>\n",
       "      <td>0</td>\n",
       "      <td>0.078178</td>\n",
       "      <td>0.182298</td>\n",
       "      <td>0.0</td>\n",
       "      <td>0.290264</td>\n",
       "      <td>0.119810</td>\n",
       "      <td>0.147222</td>\n",
       "      <td>0.109318</td>\n",
       "      <td>0.110916</td>\n",
       "      <td>[0.07817766200000001, 0.1822976926, 0.0, 0.290...</td>\n",
       "    </tr>\n",
       "  </tbody>\n",
       "</table>\n",
       "<p>61610 rows × 29 columns</p>\n",
       "</div>"
      ],
      "text/plain": [
       "       book_id  book_nb_comm  \\\n",
       "0       905033           137   \n",
       "1       905033           137   \n",
       "2       905033           137   \n",
       "3       905033           137   \n",
       "4       905033           137   \n",
       "...        ...           ...   \n",
       "61605  1303453            44   \n",
       "61606  1303453            44   \n",
       "61607  1303453            44   \n",
       "61608  1303453            44   \n",
       "61609  1303453            44   \n",
       "\n",
       "                                                   title       name surname  \\\n",
       "0      Le gang de la clef à molette (Ne meurs pas, ô ...     Edward   Abbey   \n",
       "1      Le gang de la clef à molette (Ne meurs pas, ô ...     Edward   Abbey   \n",
       "2      Le gang de la clef à molette (Ne meurs pas, ô ...     Edward   Abbey   \n",
       "3      Le gang de la clef à molette (Ne meurs pas, ô ...     Edward   Abbey   \n",
       "4      Le gang de la clef à molette (Ne meurs pas, ô ...     Edward   Abbey   \n",
       "...                                                  ...        ...     ...   \n",
       "61605  Une enquête de William Wisting, tome 5 : Le co...  Jørn Lier   Horst   \n",
       "61606  Une enquête de William Wisting, tome 5 : Le co...  Jørn Lier   Horst   \n",
       "61607  Une enquête de William Wisting, tome 5 : Le co...  Jørn Lier   Horst   \n",
       "61608  Une enquête de William Wisting, tome 5 : Le co...  Jørn Lier   Horst   \n",
       "61609  Une enquête de William Wisting, tome 5 : Le co...  Jørn Lier   Horst   \n",
       "\n",
       "                                                 img_url  comm_id  user_id  \\\n",
       "0      /couv/CVT_cvt_Le-gang-de-la-clef-a-molette_345...  2080694   706958   \n",
       "1      /couv/CVT_cvt_Le-gang-de-la-clef-a-molette_345...  1271915   319761   \n",
       "2      /couv/CVT_cvt_Le-gang-de-la-clef-a-molette_345...  1093854   128814   \n",
       "3      /couv/CVT_cvt_Le-gang-de-la-clef-a-molette_345...  2711430   227017   \n",
       "4      /couv/CVT_cvt_Le-gang-de-la-clef-a-molette_345...  2685514   138438   \n",
       "...                                                  ...      ...      ...   \n",
       "61605             /couv/CVT_Le-code-de-Katharina_640.jpg  2672567   786180   \n",
       "61606             /couv/CVT_Le-code-de-Katharina_640.jpg  2672567   786180   \n",
       "61607             /couv/CVT_Le-code-de-Katharina_640.jpg  2672567   786180   \n",
       "61608             /couv/CVT_Le-code-de-Katharina_640.jpg  2672567   786180   \n",
       "61609             /couv/CVT_Le-code-de-Katharina_640.jpg  2672567   786180   \n",
       "\n",
       "      note              date  ...  book_pages sen_colère sen_confiance  \\\n",
       "0      4.0  30 novembre 2019  ...         491   0.292288      0.187840   \n",
       "1      5.0      03 mars 2017  ...         491   0.292288      0.187840   \n",
       "2      5.0      27 juin 2016  ...         491   0.292288      0.187840   \n",
       "3      4.5   22 juillet 2021  ...         491   0.292288      0.187840   \n",
       "4      4.5      26 juin 2021  ...         491   0.292288      0.187840   \n",
       "...    ...               ...  ...         ...        ...           ...   \n",
       "61605  3.5      13 juin 2021  ...           0   0.078178      0.182298   \n",
       "61606  3.5      13 juin 2021  ...           0   0.078178      0.182298   \n",
       "61607  3.5      13 juin 2021  ...           0   0.078178      0.182298   \n",
       "61608  3.5      13 juin 2021  ...           0   0.078178      0.182298   \n",
       "61609  3.5      13 juin 2021  ...           0   0.078178      0.182298   \n",
       "\n",
       "      sen_honte  sen_joie  sen_peur  sen_réflexion sen_surprise sen_tristesse  \\\n",
       "0           0.0  0.334643  0.098929       0.137829     0.092294      0.142990   \n",
       "1           0.0  0.334643  0.098929       0.137829     0.092294      0.142990   \n",
       "2           0.0  0.334643  0.098929       0.137829     0.092294      0.142990   \n",
       "3           0.0  0.334643  0.098929       0.137829     0.092294      0.142990   \n",
       "4           0.0  0.334643  0.098929       0.137829     0.092294      0.142990   \n",
       "...         ...       ...       ...            ...          ...           ...   \n",
       "61605       0.0  0.290264  0.119810       0.147222     0.109318      0.110916   \n",
       "61606       0.0  0.290264  0.119810       0.147222     0.109318      0.110916   \n",
       "61607       0.0  0.290264  0.119810       0.147222     0.109318      0.110916   \n",
       "61608       0.0  0.290264  0.119810       0.147222     0.109318      0.110916   \n",
       "61609       0.0  0.290264  0.119810       0.147222     0.109318      0.110916   \n",
       "\n",
       "                                                  target  \n",
       "0      [0.2922881035, 0.1878402959, 0.0, 0.3346425303...  \n",
       "1      [0.2922881035, 0.1878402959, 0.0, 0.3346425303...  \n",
       "2      [0.2922881035, 0.1878402959, 0.0, 0.3346425303...  \n",
       "3      [0.2922881035, 0.1878402959, 0.0, 0.3346425303...  \n",
       "4      [0.2922881035, 0.1878402959, 0.0, 0.3346425303...  \n",
       "...                                                  ...  \n",
       "61605  [0.07817766200000001, 0.1822976926, 0.0, 0.290...  \n",
       "61606  [0.07817766200000001, 0.1822976926, 0.0, 0.290...  \n",
       "61607  [0.07817766200000001, 0.1822976926, 0.0, 0.290...  \n",
       "61608  [0.07817766200000001, 0.1822976926, 0.0, 0.290...  \n",
       "61609  [0.07817766200000001, 0.1822976926, 0.0, 0.290...  \n",
       "\n",
       "[61610 rows x 29 columns]"
      ]
     },
     "execution_count": 11,
     "metadata": {},
     "output_type": "execute_result"
    }
   ],
   "source": [
    "df_sent_test = create_target(df_sent_test, columns=columns_)\n",
    "df_sent_test"
   ]
  },
  {
   "cell_type": "code",
   "execution_count": 12,
   "id": "784f7b08",
   "metadata": {},
   "outputs": [
    {
     "data": {
      "text/plain": [
       "Index(['book_id', 'book_nb_comm', 'title', 'name', 'surname', 'img_url',\n",
       "       'comm_id', 'user_id', 'note', 'date', 'appreciations', 'commentaire',\n",
       "       'gender', 'book_url', 'tags', 'book_rating_count', 'book_rating_value',\n",
       "       'book_author_url', 'book_editor', 'book_pages', 'sen_colère',\n",
       "       'sen_confiance', 'sen_honte', 'sen_joie', 'sen_peur', 'sen_réflexion',\n",
       "       'sen_surprise', 'sen_tristesse', 'target'],\n",
       "      dtype='object')"
      ]
     },
     "execution_count": 12,
     "metadata": {},
     "output_type": "execute_result"
    }
   ],
   "source": [
    "df_sent_test.columns"
   ]
  },
  {
   "cell_type": "markdown",
   "id": "14e9d1ff",
   "metadata": {},
   "source": [
    "## Preprocessing"
   ]
  },
  {
   "cell_type": "code",
   "execution_count": null,
   "id": "ec2c6c14",
   "metadata": {},
   "outputs": [],
   "source": [
    "def clean_text(text):\n",
    "    text = text.lower()\n",
    "    text = re.sub(r\"qu'il\", \"qu il\", text)\n",
    "    text = re.sub(r\"d\", \"\", text)\n",
    "    text = re.sub(r\"l\", \"\", text)\n",
    "    text = re.sub(r\"n\", \"\", text)\n",
    "    text = re.sub(r\"livre\", \"\", text)\n",
    "    text = re.sub(r\"roman\", \"\", text)\n",
    "    text = re.sub(r\"auteur\", \"\", text)\n",
    "    text = re.sub(r\"personnage\", \"\", text)\n",
    "    text = re.sub(r\"personnages\", \"\", text)\n",
    "    text = re.sub(r\"\\'scuse\", \" excuse \", text)\n",
    "    text = re.sub('\\W', ' ', text)\n",
    "    text = re.sub('\\s+', ' ', text)\n",
    "    text = text.strip(' ')\n",
    "    return text"
   ]
  },
  {
   "cell_type": "markdown",
   "id": "6f1a5285",
   "metadata": {},
   "source": [
    "### Remove punctuation"
   ]
  },
  {
   "cell_type": "code",
   "execution_count": 19,
   "id": "9199f23b",
   "metadata": {},
   "outputs": [],
   "source": [
    "def remove_punctuations(df, col, lemma=None):\n",
    "    import string\n",
    "    corpus = df[col].tolist()\n",
    "    nlp = fr_core_news_sm.load()\n",
    "    comms = []\n",
    "    for el in corpus:\n",
    "        el = el.replace(\"'\", ' ')\n",
    "        el = el.replace(\".\", ' ')\n",
    "        el = el.replace('é','e').replace('è','e').replace('û','u').replace('î','i').replace('ô','o').replace('ï','i').replace('ö','o').replace('ù','u').replace('á','a'). replace('â','a').replace('à','a')\n",
    "        el = el.translate(str.maketrans(' ',' ',string.punctuation))\n",
    "        el = el.replace(':', '').replace('\\n', ' ').strip()\n",
    "        el = ' '.join([elem for elem in el.split() if len(elem)>1]) # pour la lettre J ou j : and (elem =! 'J' or elem != 'j')\n",
    "        if lemma:\n",
    "#            out = [token.lemma_ for token in nlp(el) if (token.lemma_ not in stopwords) and (len(token) > 1) and (token.text not in stopwords) or (token.text=='x' or token.text=='y' or token.text=='i')]\n",
    "            el = [token.lemma_ for token in nlp(el) if  (len(token) > 1)]\n",
    "            el = ' '.join(el)\n",
    "        comms.append(el)\n",
    "    df[\"commentaire_clean\"] = comms\n",
    "    return df"
   ]
  },
  {
   "cell_type": "code",
   "execution_count": 20,
   "id": "2a7648e1",
   "metadata": {},
   "outputs": [],
   "source": [
    "df_sent_test = remove_punctuations(df_sent_test, 'commentaire', lemma=None)"
   ]
  },
  {
   "cell_type": "code",
   "execution_count": 21,
   "id": "35b19184",
   "metadata": {},
   "outputs": [
    {
     "data": {
      "text/plain": [
       "Index(['book_id', 'book_nb_comm', 'title', 'name', 'surname', 'img_url',\n",
       "       'comm_id', 'user_id', 'note', 'date', 'appreciations', 'commentaire',\n",
       "       'gender', 'book_url', 'tags', 'book_rating_count', 'book_rating_value',\n",
       "       'book_author_url', 'book_editor', 'book_pages', 'sen_colère',\n",
       "       'sen_confiance', 'sen_honte', 'sen_joie', 'sen_peur', 'sen_réflexion',\n",
       "       'sen_surprise', 'sen_tristesse', 'commentaire_clean'],\n",
       "      dtype='object')"
      ]
     },
     "execution_count": 21,
     "metadata": {},
     "output_type": "execute_result"
    }
   ],
   "source": [
    "df_sent_test.columns"
   ]
  },
  {
   "cell_type": "code",
   "execution_count": null,
   "id": "73d0a00a",
   "metadata": {},
   "outputs": [],
   "source": [
    "y = df_sent_test[df_sent_test.columns[-10:-2]]"
   ]
  },
  {
   "cell_type": "markdown",
   "id": "290ee13c",
   "metadata": {},
   "source": [
    "## Deep Learning"
   ]
  },
  {
   "cell_type": "code",
   "execution_count": null,
   "id": "8831f032",
   "metadata": {},
   "outputs": [],
   "source": [
    "from sklearn.preprocessing import MultiLabelBinarizer\n",
    "\n",
    "# Create MultiLabelBinarizer object\n",
    "mlb = MultiLabelBinarizer() # se renseigner sur cette classe\n",
    "\n",
    "# One-hot encode data\n",
    "mlb.fit_transform(y)"
   ]
  },
  {
   "cell_type": "markdown",
   "id": "c78130a5",
   "metadata": {},
   "source": [
    "### Test avec BERT classic"
   ]
  },
  {
   "cell_type": "code",
   "execution_count": 204,
   "id": "9484d612",
   "metadata": {},
   "outputs": [],
   "source": [
    "import tensorflow as tf\n",
    "import tensorflow_hub as hub\n",
    "import tensorflow_text\n",
    "\n",
    "bert_preprocessor = hub.KerasLayer('https://tfhub.dev/tensorflow/bert_en_uncased_preprocess/3')  # bert_en_uncased_preprocess\n",
    "bert_encoder = hub.KerasLayer('https://tfhub.dev/tensorflow/bert_en_uncased_L-12_H-768_A-12/4')  # bert_en_uncased_L-12_H-768_A-12"
   ]
  },
  {
   "cell_type": "code",
   "execution_count": 226,
   "id": "8061f6e6",
   "metadata": {},
   "outputs": [],
   "source": [
    "from sklearn.model_selection import train_test_split\n",
    "\n",
    "X_train, X_test , y_train, y_test = train_test_split(df_sent_test['commentaire_clean'], y,\n",
    "                                                    stratify = y)"
   ]
  },
  {
   "cell_type": "code",
   "execution_count": 227,
   "id": "ab0e2934",
   "metadata": {},
   "outputs": [
    {
     "data": {
      "text/plain": [
       "((46207,), (15403,))"
      ]
     },
     "execution_count": 227,
     "metadata": {},
     "output_type": "execute_result"
    }
   ],
   "source": [
    "X_train.shape, X_test.shape"
   ]
  },
  {
   "cell_type": "markdown",
   "id": "2c00bd7f",
   "metadata": {},
   "source": [
    "### Creating the model"
   ]
  },
  {
   "cell_type": "code",
   "execution_count": 234,
   "id": "04bd7d76",
   "metadata": {},
   "outputs": [],
   "source": [
    "text_input = tf.keras.layers.Input(shape = (), dtype = tf.string, name = 'Inputs')\n",
    "preprocessed_text = bert_preprocessor(text_input)\n",
    "embeed = bert_encoder(preprocessed_text)\n",
    "dropout = tf.keras.layers.Dropout(0.1, name = 'Dropout')(embeed['pooled_output'])\n",
    "outputs = tf.keras.layers.Dense(8, activation = 'sigmoid', name = 'Dense')(dropout)"
   ]
  },
  {
   "cell_type": "code",
   "execution_count": 235,
   "id": "4725686d",
   "metadata": {},
   "outputs": [],
   "source": [
    "model = tf.keras.Model(inputs = [text_input], outputs = [outputs])"
   ]
  },
  {
   "cell_type": "code",
   "execution_count": 236,
   "id": "03c41de5",
   "metadata": {},
   "outputs": [
    {
     "name": "stdout",
     "output_type": "stream",
     "text": [
      "Model: \"model_2\"\n",
      "__________________________________________________________________________________________________\n",
      " Layer (type)                   Output Shape         Param #     Connected to                     \n",
      "==================================================================================================\n",
      " Inputs (InputLayer)            [(None,)]            0           []                               \n",
      "                                                                                                  \n",
      " keras_layer (KerasLayer)       {'input_mask': (Non  0           ['Inputs[0][0]']                 \n",
      "                                e, 128),                                                          \n",
      "                                 'input_type_ids':                                                \n",
      "                                (None, 128),                                                      \n",
      "                                 'input_word_ids':                                                \n",
      "                                (None, 128)}                                                      \n",
      "                                                                                                  \n",
      " keras_layer_1 (KerasLayer)     {'default': (None,   109482241   ['keras_layer[2][0]',            \n",
      "                                768),                             'keras_layer[2][1]',            \n",
      "                                 'pooled_output': (               'keras_layer[2][2]']            \n",
      "                                None, 768),                                                       \n",
      "                                 'sequence_output':                                               \n",
      "                                 (None, 128, 768),                                                \n",
      "                                 'encoder_outputs':                                               \n",
      "                                 [(None, 128, 768),                                               \n",
      "                                 (None, 128, 768),                                                \n",
      "                                 (None, 128, 768),                                                \n",
      "                                 (None, 128, 768),                                                \n",
      "                                 (None, 128, 768),                                                \n",
      "                                 (None, 128, 768),                                                \n",
      "                                 (None, 128, 768),                                                \n",
      "                                 (None, 128, 768),                                                \n",
      "                                 (None, 128, 768),                                                \n",
      "                                 (None, 128, 768),                                                \n",
      "                                 (None, 128, 768),                                                \n",
      "                                 (None, 128, 768)]}                                               \n",
      "                                                                                                  \n",
      " Dropout (Dropout)              (None, 768)          0           ['keras_layer_1[2][13]']         \n",
      "                                                                                                  \n",
      " Dense (Dense)                  (None, 8)            6152        ['Dropout[0][0]']                \n",
      "                                                                                                  \n",
      "==================================================================================================\n",
      "Total params: 109,488,393\n",
      "Trainable params: 6,152\n",
      "Non-trainable params: 109,482,241\n",
      "__________________________________________________________________________________________________\n"
     ]
    }
   ],
   "source": [
    "model.summary()"
   ]
  },
  {
   "cell_type": "markdown",
   "id": "4534cc26",
   "metadata": {},
   "source": [
    "* **text_input**: comme la data shape de notre modèle peut être n'importe quoi, nous transmettrons les paramètres de shape en tant que shape(), son type de données en tant que tf. string et name comme Inputs.\n",
    "\n",
    "\n",
    "* **dropout**: Pour la dropout layer, nous avons défini un taux d'abandon de 0.1 – 10 % des neurones qui s'éteindront de manière aléatoire et transmettront le dictionnaire d'embedding pooled_output comme input à cette layer, c'est-à-dire en passant simplement des training data embeddings entières à la dropout layer.\n",
    "\n",
    "\n",
    "* **outputs**: Sigmod comme activation car le problème est un problème de nature binaire, cependant, relu peut également être utilisé\n",
    "\n",
    "\n",
    "* **model**: les entrées de notre modèle seront un tableau, donc utilisé [] dans les inputs et outputs.\n",
    "\n",
    "    \n",
    "Le print du model summary renvoie l'architecture du modèle et le nombre de paramètres pouvant être entraînés et non entraînés (pondérations) :"
   ]
  },
  {
   "cell_type": "code",
   "execution_count": 237,
   "id": "c8a5e93f",
   "metadata": {},
   "outputs": [],
   "source": [
    "Metrics = [tf.keras.metrics.BinaryAccuracy(name = 'accuracy'),\n",
    "           tf.keras.metrics.Precision(name = 'precision'),\n",
    "           tf.keras.metrics.Recall(name = 'recall')\n",
    "           ]"
   ]
  },
  {
   "cell_type": "code",
   "execution_count": 238,
   "id": "00203123",
   "metadata": {},
   "outputs": [],
   "source": [
    "# compiling our model\n",
    "model.compile(optimizer ='adam',\n",
    "               loss = 'binary_crossentropy', # categorical_crossentropy\n",
    "               metrics = Metrics)"
   ]
  },
  {
   "cell_type": "code",
   "execution_count": 239,
   "id": "ecb317f6",
   "metadata": {},
   "outputs": [
    {
     "name": "stdout",
     "output_type": "stream",
     "text": [
      "Epoch 1/10\n",
      "1444/1444 [==============================] - 496s 336ms/step - loss: 0.3734 - accuracy: 0.0942 - precision: 0.9895 - recall: 5.6449e-04\n",
      "Epoch 2/10\n",
      "1444/1444 [==============================] - 480s 332ms/step - loss: 0.3709 - accuracy: 0.0943 - precision: 0.0000e+00 - recall: 0.0000e+00\n",
      "Epoch 3/10\n",
      "1444/1444 [==============================] - 481s 333ms/step - loss: 0.3705 - accuracy: 0.0943 - precision: 0.0000e+00 - recall: 0.0000e+00\n",
      "Epoch 4/10\n",
      "1444/1444 [==============================] - 499s 346ms/step - loss: 0.3702 - accuracy: 0.0943 - precision: 0.0000e+00 - recall: 0.0000e+00\n",
      "Epoch 5/10\n",
      "1444/1444 [==============================] - 490s 340ms/step - loss: 0.3702 - accuracy: 0.0943 - precision: 0.0000e+00 - recall: 0.0000e+00\n",
      "Epoch 6/10\n",
      "1444/1444 [==============================] - 492s 340ms/step - loss: 0.3702 - accuracy: 0.0943 - precision: 0.0000e+00 - recall: 0.0000e+00\n",
      "Epoch 7/10\n",
      "1444/1444 [==============================] - 486s 336ms/step - loss: 0.3702 - accuracy: 0.0943 - precision: 0.0000e+00 - recall: 0.0000e+00\n",
      "Epoch 8/10\n",
      "1444/1444 [==============================] - 486s 336ms/step - loss: 0.3701 - accuracy: 0.0943 - precision: 0.0000e+00 - recall: 0.0000e+00\n",
      "Epoch 9/10\n",
      "1444/1444 [==============================] - 493s 341ms/step - loss: 0.3701 - accuracy: 0.0943 - precision: 0.0000e+00 - recall: 0.0000e+00\n",
      "Epoch 10/10\n",
      "1444/1444 [==============================] - 498s 345ms/step - loss: 0.3701 - accuracy: 0.0943 - precision: 0.0000e+00 - recall: 0.0000e+00\n"
     ]
    }
   ],
   "source": [
    "history = model.fit(X_train, y_train, epochs = 10)"
   ]
  },
  {
   "cell_type": "markdown",
   "id": "31d1cf72",
   "metadata": {},
   "source": [
    "### Test avec BERT uncased Multilingual"
   ]
  },
  {
   "cell_type": "code",
   "execution_count": 241,
   "id": "535f6acf",
   "metadata": {},
   "outputs": [],
   "source": [
    "bert_preprocessor = hub.KerasLayer('https://tfhub.dev/tensorflow/bert_multi_cased_preprocess/3') # bert_multi_cased_preprocess\n",
    "bert_encoder = hub.KerasLayer('https://tfhub.dev/tensorflow/bert_multi_cased_L-12_H-768_A-12/4') # bert_multi_cased_L12_H768_A12"
   ]
  },
  {
   "cell_type": "code",
   "execution_count": 242,
   "id": "4da23850",
   "metadata": {},
   "outputs": [],
   "source": [
    "text_input = tf.keras.layers.Input(shape = (), dtype = tf.string, name = 'Inputs')\n",
    "preprocessed_text = bert_preprocessor(text_input)\n",
    "embeed = bert_encoder(preprocessed_text)\n",
    "dropout = tf.keras.layers.Dropout(0.1, name = 'Dropout')(embeed['pooled_output'])\n",
    "outputs = tf.keras.layers.Dense(8, activation = 'sigmoid', name = 'Dense')(dropout)"
   ]
  },
  {
   "cell_type": "code",
   "execution_count": 243,
   "id": "d923865b",
   "metadata": {},
   "outputs": [],
   "source": [
    "bert_uncased_multi= tf.keras.Model(inputs = [text_input], outputs = [outputs])"
   ]
  },
  {
   "cell_type": "code",
   "execution_count": 244,
   "id": "0b5f08c0",
   "metadata": {},
   "outputs": [],
   "source": [
    "# bert_uncased_multi.summary()"
   ]
  },
  {
   "cell_type": "code",
   "execution_count": 245,
   "id": "bb928649",
   "metadata": {},
   "outputs": [],
   "source": [
    "Metrics = [tf.keras.metrics.BinaryAccuracy(name = 'accuracy'),\n",
    "           tf.keras.metrics.Precision(name = 'precision'),\n",
    "           tf.keras.metrics.Recall(name = 'recall')\n",
    "           ]"
   ]
  },
  {
   "cell_type": "markdown",
   "id": "84e4ef84",
   "metadata": {},
   "source": [
    "#### categorical_crossentropy"
   ]
  },
  {
   "cell_type": "code",
   "execution_count": 248,
   "id": "2d10e2cb",
   "metadata": {},
   "outputs": [],
   "source": [
    "# compiling our model\n",
    "bert_uncased_multi.compile(optimizer ='adam',\n",
    "               loss = 'categorical_crossentropy',\n",
    "               metrics = Metrics)"
   ]
  },
  {
   "cell_type": "code",
   "execution_count": 249,
   "id": "0f0228eb",
   "metadata": {},
   "outputs": [
    {
     "name": "stdout",
     "output_type": "stream",
     "text": [
      "Epoch 1/10\n",
      "1444/1444 [==============================] - 598s 411ms/step - loss: 2.0591 - accuracy: 0.0351 - precision: 0.9078 - recall: 0.6409\n",
      "Epoch 2/10\n",
      "1444/1444 [==============================] - 585s 405ms/step - loss: 2.0576 - accuracy: 2.7052e-05 - precision: 0.9057 - recall: 0.9997\n",
      "Epoch 3/10\n",
      "1444/1444 [==============================] - 484s 335ms/step - loss: 2.0572 - accuracy: 3.2463e-05 - precision: 0.9057 - recall: 0.9997\n",
      "Epoch 4/10\n",
      "1444/1444 [==============================] - 537s 372ms/step - loss: 2.0569 - accuracy: 2.4347e-05 - precision: 0.9057 - recall: 0.9997\n",
      "Epoch 5/10\n",
      "1444/1444 [==============================] - 465s 322ms/step - loss: 2.0567 - accuracy: 2.4347e-05 - precision: 0.9057 - recall: 0.9997\n",
      "Epoch 6/10\n",
      "1444/1444 [==============================] - 478s 331ms/step - loss: 2.0564 - accuracy: 2.4347e-05 - precision: 0.9057 - recall: 0.9997\n",
      "Epoch 7/10\n",
      "1444/1444 [==============================] - 462s 320ms/step - loss: 2.0565 - accuracy: 2.1642e-05 - precision: 0.9057 - recall: 0.9997\n",
      "Epoch 8/10\n",
      "1444/1444 [==============================] - 480s 333ms/step - loss: 2.0566 - accuracy: 2.1642e-05 - precision: 0.9057 - recall: 0.9997\n",
      "Epoch 9/10\n",
      "1444/1444 [==============================] - 468s 324ms/step - loss: 2.0566 - accuracy: 2.4347e-05 - precision: 0.9057 - recall: 0.9997\n",
      "Epoch 10/10\n",
      "1444/1444 [==============================] - 468s 324ms/step - loss: 2.0563 - accuracy: 2.1642e-05 - precision: 0.9057 - recall: 0.9997\n"
     ]
    }
   ],
   "source": [
    "history = bert_uncased_multi.fit(X_train, y_train, epochs = 10)"
   ]
  },
  {
   "cell_type": "markdown",
   "id": "23adea61",
   "metadata": {},
   "source": [
    "#### binary_crossentropy"
   ]
  },
  {
   "cell_type": "code",
   "execution_count": 250,
   "id": "2ad0837d",
   "metadata": {},
   "outputs": [],
   "source": [
    "# compiling our model\n",
    "bert_uncased_multi.compile(optimizer ='adam',\n",
    "               loss = 'binary_crossentropy',\n",
    "               metrics = Metrics)"
   ]
  },
  {
   "cell_type": "code",
   "execution_count": 251,
   "id": "68e9691a",
   "metadata": {},
   "outputs": [
    {
     "name": "stdout",
     "output_type": "stream",
     "text": [
      "Epoch 1/10\n",
      "1444/1444 [==============================] - 467s 321ms/step - loss: 570.0646 - accuracy: 2.2994e-05 - precision: 0.9057 - recall: 0.9997\n",
      "Epoch 2/10\n",
      "1444/1444 [==============================] - 465s 322ms/step - loss: 399.1085 - accuracy: 3.2463e-05 - precision: 0.9057 - recall: 0.9996\n",
      "Epoch 3/10\n",
      "1444/1444 [==============================] - 474s 328ms/step - loss: 232.4738 - accuracy: 0.0090 - precision: 0.9069 - recall: 0.9170\n",
      "Epoch 4/10\n",
      "1444/1444 [==============================] - 459s 318ms/step - loss: 115.5940 - accuracy: 0.0436 - precision: 0.9154 - recall: 0.6051\n",
      "Epoch 5/10\n",
      "1444/1444 [==============================] - 462s 320ms/step - loss: 22.0017 - accuracy: 0.0679 - precision: 0.9286 - recall: 0.3787\n",
      "Epoch 6/10\n",
      "1444/1444 [==============================] - 1516s 1s/step - loss: 0.7402 - accuracy: 0.0917 - precision: 0.9778 - recall: 0.1264\n",
      "Epoch 7/10\n",
      "1444/1444 [==============================] - 461s 319ms/step - loss: 0.6577 - accuracy: 0.0920 - precision: 0.9768 - recall: 0.1049\n",
      "Epoch 8/10\n",
      "1444/1444 [==============================] - 466s 323ms/step - loss: 0.6072 - accuracy: 0.0925 - precision: 0.9789 - recall: 0.0916\n",
      "Epoch 9/10\n",
      "1444/1444 [==============================] - 464s 321ms/step - loss: 0.5612 - accuracy: 0.0928 - precision: 0.9799 - recall: 0.0785\n",
      "Epoch 10/10\n",
      "1444/1444 [==============================] - 463s 320ms/step - loss: 0.5259 - accuracy: 0.0930 - precision: 0.9802 - recall: 0.0673\n"
     ]
    }
   ],
   "source": [
    "history = bert_uncased_multi.fit(X_train, y_train, epochs = 10)"
   ]
  },
  {
   "cell_type": "markdown",
   "id": "244822ab",
   "metadata": {},
   "source": [
    "### Test LSTM"
   ]
  },
  {
   "cell_type": "code",
   "execution_count": 37,
   "id": "816b17a9",
   "metadata": {},
   "outputs": [],
   "source": [
    "X_train, X_test , y_train, y_test = train_test_split(df_sent_test['commentaire_clean'], y,\n",
    "                                                    stratify = y)"
   ]
  },
  {
   "cell_type": "code",
   "execution_count": 38,
   "id": "a2c7c913",
   "metadata": {},
   "outputs": [
    {
     "data": {
      "text/plain": [
       "((46207,), (46207, 8))"
      ]
     },
     "execution_count": 38,
     "metadata": {},
     "output_type": "execute_result"
    }
   ],
   "source": [
    "X_train.shape, y_train.shape "
   ]
  },
  {
   "cell_type": "markdown",
   "id": "ddd44970",
   "metadata": {},
   "source": [
    "### Tokenization"
   ]
  },
  {
   "cell_type": "code",
   "execution_count": 39,
   "id": "836e2b65",
   "metadata": {},
   "outputs": [],
   "source": [
    "max_features = 5000\n",
    "tokenizer = Tokenizer(num_words=max_features)\n",
    "tokenizer.fit_on_texts(list(X_train))\n",
    "list_tokenized_train = tokenizer.texts_to_sequences(X_train)\n",
    "list_tokenized_test = tokenizer.texts_to_sequences(X_test)"
   ]
  },
  {
   "cell_type": "code",
   "execution_count": 41,
   "id": "f6c20e45",
   "metadata": {},
   "outputs": [
    {
     "data": {
      "text/plain": [
       "46207"
      ]
     },
     "execution_count": 41,
     "metadata": {},
     "output_type": "execute_result"
    }
   ],
   "source": [
    "len(list_tokenized_train)"
   ]
  },
  {
   "cell_type": "markdown",
   "id": "5c1c4509",
   "metadata": {},
   "source": [
    "### Padding"
   ]
  },
  {
   "cell_type": "code",
   "execution_count": 42,
   "id": "e8982288",
   "metadata": {},
   "outputs": [],
   "source": [
    "maxlen = 400\n",
    "X_t = pad_sequences(list_tokenized_train, maxlen=maxlen)\n",
    "X_te = pad_sequences(list_tokenized_test, maxlen=maxlen)"
   ]
  },
  {
   "cell_type": "code",
   "execution_count": 43,
   "id": "70f14b48",
   "metadata": {},
   "outputs": [],
   "source": [
    "totalNumWords = [len(one_comment) for one_comment in list_tokenized_train]"
   ]
  },
  {
   "cell_type": "code",
   "execution_count": 44,
   "id": "59c6b01c",
   "metadata": {},
   "outputs": [
    {
     "data": {
      "image/png": "[encoded data removed]",
      "text/plain": [
       "<Figure size 640x480 with 1 Axes>"
      ]
     },
     "metadata": {},
     "output_type": "display_data"
    }
   ],
   "source": [
    "plt.hist(totalNumWords,bins = np.arange(0,410,5))#[0,50,100,150,200,250,300,350,400])#,450,500,550,600,650,700,750,800,850,900])\n",
    "plt.show()"
   ]
  },
  {
   "attachments": {
    "image.png": {
     "image/png": "[encoded data removed]"
    }
   },
   "cell_type": "markdown",
   "id": "ab686fdb",
   "metadata": {},
   "source": [
    "![image.png](attachment:image.png)"
   ]
  },
  {
   "cell_type": "markdown",
   "id": "5afe1a38",
   "metadata": {},
   "source": [
    "### First model"
   ]
  },
  {
   "cell_type": "code",
   "execution_count": 48,
   "id": "cc71b6fb",
   "metadata": {},
   "outputs": [],
   "source": [
    "inp = Input(shape=(maxlen, )) #maxlen=200 comme définit précédemment\n",
    "embed_size = 128\n",
    "\n",
    "x = Embedding(max_features, embed_size)(inp)\n",
    "x = LSTM(60, return_sequences=True,name='lstm_layer')(x)\n",
    "x = GlobalMaxPool1D()(x)\n",
    "x = Dropout(0.1)(x)\n",
    "x = Dense(50, activation=\"relu\")(x)\n",
    "x = Dropout(0.1)(x)\n",
    "x = Dense(8, activation=\"sigmoid\")(x)"
   ]
  },
  {
   "cell_type": "code",
   "execution_count": 49,
   "id": "20f78867",
   "metadata": {},
   "outputs": [],
   "source": [
    "model = Model(inputs=inp, outputs=x)\n",
    "model.compile(loss='binary_crossentropy',\n",
    "                  optimizer='adam',  # declarer en objet\n",
    "                  metrics=['accuracy'])"
   ]
  },
  {
   "cell_type": "code",
   "execution_count": 56,
   "id": "c1934b60",
   "metadata": {},
   "outputs": [
    {
     "name": "stdout",
     "output_type": "stream",
     "text": [
      "Epoch 1/2\n",
      "2600/2600 [==============================] - 260s 100ms/step - loss: -3535599.5000 - accuracy: 0.8565 - val_loss: -4108121.2500 - val_accuracy: 0.8078\n",
      "Epoch 2/2\n",
      "2600/2600 [==============================] - 254s 98ms/step - loss: -6301815.5000 - accuracy: 0.8565 - val_loss: -6771390.0000 - val_accuracy: 0.8078\n"
     ]
    }
   ],
   "source": [
    "batch_size = 16\n",
    "epochs = 2\n",
    "with tf.device('/cpu:0'):\n",
    "    model.fit(X_t, y, batch_size=batch_size, epochs=epochs, validation_split=0.1)"
   ]
  },
  {
   "cell_type": "markdown",
   "id": "a99f8f2c",
   "metadata": {},
   "source": [
    "### Autre test"
   ]
  },
  {
   "cell_type": "code",
   "execution_count": 60,
   "id": "e5f2959e",
   "metadata": {},
   "outputs": [
    {
     "data": {
      "text/plain": [
       "20121    Un thriller vraiment haletant Je suis contente...\n",
       "2917     Une analyse tres pointilleuse de la haine raci...\n",
       "42677    avais ete emballe par ma premiere incursion da...\n",
       "15657    Le cycle est termine Robin Hobb nous emmene tr...\n",
       "28019    Fantastique est du Emma comme aime est sans do...\n",
       "                               ...                        \n",
       "29788    Une grande frustration voici ce qu apporte ce ...\n",
       "6552     attendais beaucoup de ce livre au soustitre ev...\n",
       "58921    Blankets est une autobiographie tres attachant...\n",
       "35890    Michael un jeune garçon partait faire le toute...\n",
       "11563    Le commissaire Leon Markowicz est responsable ...\n",
       "Name: commentaire_clean, Length: 46207, dtype: object"
      ]
     },
     "execution_count": 60,
     "metadata": {},
     "output_type": "execute_result"
    }
   ],
   "source": [
    "X_train"
   ]
  },
  {
   "cell_type": "markdown",
   "id": "d4b5a0bd",
   "metadata": {},
   "source": [
    "https://www.kaggle.com/code/sbongo/for-beginners-tackling-toxic-using-keras"
   ]
  },
  {
   "cell_type": "code",
   "execution_count": 64,
   "id": "8ab80c06",
   "metadata": {},
   "outputs": [
    {
     "name": "stdout",
     "output_type": "stream",
     "text": [
      "Epoch 1/10\n",
      "1444/1444 [==============================] - 9s 6ms/step - loss: -10783250432.0000 - accuracy: 0.8481\n",
      "Epoch 2/10\n",
      "1444/1444 [==============================] - 8s 6ms/step - loss: -134078685184.0000 - accuracy: 0.8546\n",
      "Epoch 3/10\n",
      "1444/1444 [==============================] - 8s 6ms/step - loss: -474899611648.0000 - accuracy: 0.8546\n",
      "Epoch 4/10\n",
      "1444/1444 [==============================] - 8s 6ms/step - loss: -1078027485184.0000 - accuracy: 0.8546\n",
      "Epoch 5/10\n",
      "1444/1444 [==============================] - 8s 6ms/step - loss: -1981547544576.0000 - accuracy: 0.8546\n",
      "Epoch 6/10\n",
      "1444/1444 [==============================] - 9s 6ms/step - loss: -3224317460480.0000 - accuracy: 0.8546\n",
      "Epoch 7/10\n",
      "1444/1444 [==============================] - 9s 6ms/step - loss: -4849297522688.0000 - accuracy: 0.8546\n",
      "Epoch 8/10\n",
      "1444/1444 [==============================] - 9s 6ms/step - loss: -6896661561344.0000 - accuracy: 0.8546\n",
      "Epoch 9/10\n",
      "1444/1444 [==============================] - 9s 6ms/step - loss: -9407170609152.0000 - accuracy: 0.8546\n",
      "Epoch 10/10\n",
      "1444/1444 [==============================] - 8s 6ms/step - loss: -12420065001472.0000 - accuracy: 0.8546\n"
     ]
    }
   ],
   "source": [
    "model = Sequential()\n",
    "#model.add(Dense(128, activation='relu', input_shape=(X_train.shape[1],)))\n",
    "model.add(Dense(32, activation='relu', input_shape=(X_t.shape[1],)))\n",
    "model.add(Dropout(0.1))\n",
    "model.add(Dense(64, activation='relu'))\n",
    "model.add(Dropout(0.1))\n",
    "model.add(Dense(y_train.shape[1], activation='sigmoid')) # <-- Notice activation in final layer.\n",
    "\n",
    "model.compile(loss='binary_crossentropy',               # <-- Notice loss function. \n",
    "              optimizer='adam',\n",
    "              metrics=['accuracy'])\n",
    "              \n",
    "history = model.fit(X_t, y_train, epochs = 10)"
   ]
  },
  {
   "cell_type": "markdown",
   "id": "f90f4ce2",
   "metadata": {},
   "source": [
    "### Test Simple"
   ]
  },
  {
   "cell_type": "code",
   "execution_count": 66,
   "id": "8607abda",
   "metadata": {},
   "outputs": [],
   "source": [
    "max_words = 1000\n",
    "max_len = 200\n",
    "\n",
    "tokenizer = tf.keras.preprocessing.text.Tokenizer(num_words=max_words)\n",
    "tokenizer.fit_on_texts(X_train)\n",
    "X_encoded = tokenizer.texts_to_sequences(X_train)\n",
    "\n",
    "sequences_padded = tf.keras.preprocessing.sequence.pad_sequences(X_encoded, maxlen=max_len)"
   ]
  },
  {
   "cell_type": "code",
   "execution_count": 72,
   "id": "43a11508",
   "metadata": {},
   "outputs": [],
   "source": [
    "model0 = tf.keras.Sequential([\n",
    "    keras.layers.Embedding(max_words, 32, input_length=max_len),\n",
    "    keras.layers.LSTM(64),\n",
    "    keras.layers.Flatten(),\n",
    "    keras.layers.Dense(250, activation='relu'),\n",
    "    keras.layers.Dropout(0.4),\n",
    "    keras.layers.Dense(120, activation='relu'),\n",
    "    keras.layers.Dense(8, activation='sigmoid')\n",
    "])"
   ]
  },
  {
   "cell_type": "code",
   "execution_count": 73,
   "id": "a45dec6f",
   "metadata": {},
   "outputs": [],
   "source": [
    "model0.compile(loss='binary_crossentropy',\n",
    "              optimizer='RMSprop',\n",
    "              metrics=['accuracy'])"
   ]
  },
  {
   "cell_type": "code",
   "execution_count": 74,
   "id": "bc8d6504",
   "metadata": {},
   "outputs": [
    {
     "name": "stdout",
     "output_type": "stream",
     "text": [
      "Model: \"sequential_5\"\n",
      "_________________________________________________________________\n",
      " Layer (type)                Output Shape              Param #   \n",
      "=================================================================\n",
      " embedding_4 (Embedding)     (None, 200, 32)           32000     \n",
      "                                                                 \n",
      " lstm_1 (LSTM)               (None, 64)                24832     \n",
      "                                                                 \n",
      " flatten_1 (Flatten)         (None, 64)                0         \n",
      "                                                                 \n",
      " dense_15 (Dense)            (None, 250)               16250     \n",
      "                                                                 \n",
      " dropout_11 (Dropout)        (None, 250)               0         \n",
      "                                                                 \n",
      " dense_16 (Dense)            (None, 120)               30120     \n",
      "                                                                 \n",
      " dense_17 (Dense)            (None, 8)                 968       \n",
      "                                                                 \n",
      "=================================================================\n",
      "Total params: 104,170\n",
      "Trainable params: 104,170\n",
      "Non-trainable params: 0\n",
      "_________________________________________________________________\n"
     ]
    }
   ],
   "source": [
    "model0.summary()"
   ]
  },
  {
   "cell_type": "code",
   "execution_count": 76,
   "id": "62e6b30c",
   "metadata": {},
   "outputs": [
    {
     "name": "stdout",
     "output_type": "stream",
     "text": [
      "Epoch 1/10\n",
      "289/289 [==============================] - 39s 126ms/step - loss: -381773.0312 - accuracy: 0.8517 - val_loss: -1287600.5000 - val_accuracy: 0.8535\n",
      "Epoch 2/10\n",
      "289/289 [==============================] - 37s 129ms/step - loss: -3755391.5000 - accuracy: 0.8549 - val_loss: -7416817.0000 - val_accuracy: 0.8535\n"
     ]
    }
   ],
   "source": [
    "from keras.callbacks import EarlyStopping\n",
    "\n",
    "with tf.device('/cpu:0'):\n",
    "    history = model0.fit(sequences_padded,\n",
    "                         y_train,\n",
    "                         batch_size=128,\n",
    "                         epochs=10,\n",
    "                         validation_split=0.2,\n",
    "                         callbacks=[EarlyStopping(monitor='val_loss', min_delta=0.0001)])"
   ]
  },
  {
   "cell_type": "code",
   "execution_count": 80,
   "id": "135852cc",
   "metadata": {},
   "outputs": [],
   "source": [
    "max_len = 400\n",
    "test_sequences = tokenizer.texts_to_sequences(X_test)\n",
    "test_sequences_padded = tf.keras.preprocessing.sequence.pad_sequences(test_sequences, maxlen=max_len)"
   ]
  },
  {
   "cell_type": "code",
   "execution_count": 81,
   "id": "23635228",
   "metadata": {},
   "outputs": [],
   "source": [
    "test_sequences = tokenizer.texts_to_sequences(X_test)\n",
    "test_sequences_padded = tf.keras.preprocessing.sequence.pad_sequences(test_sequences, maxlen=max_len)"
   ]
  },
  {
   "cell_type": "code",
   "execution_count": 82,
   "id": "d00f6b20",
   "metadata": {},
   "outputs": [
    {
     "data": {
      "text/plain": [
       "[-3471567749120.0, 0.8548983931541443]"
      ]
     },
     "execution_count": 82,
     "metadata": {},
     "output_type": "execute_result"
    }
   ],
   "source": [
    "scores = model0.evaluate(test_sequences_padded, y_test, verbose=0)\n",
    "scores"
   ]
  },
  {
   "cell_type": "code",
   "execution_count": 83,
   "id": "11478391",
   "metadata": {},
   "outputs": [
    {
     "name": "stdout",
     "output_type": "stream",
     "text": [
      "Accuracy : 85.489839%\n"
     ]
    }
   ],
   "source": [
    "print(\"Accuracy : %2f%%\" %(scores[1]*100))"
   ]
  },
  {
   "cell_type": "markdown",
   "id": "d388c58b",
   "metadata": {},
   "source": [
    "### Test 2 : TextVectorization"
   ]
  },
  {
   "cell_type": "code",
   "execution_count": 84,
   "id": "653c9cfd",
   "metadata": {},
   "outputs": [],
   "source": [
    "max_words = 1000\n",
    "max_len = 400\n",
    "\n",
    "text_vectorized = tf.keras.layers.TextVectorization(\n",
    "    max_tokens=max_words,\n",
    "    standardize='lower_and_strip_punctuation',\n",
    "    output_mode='int',\n",
    "    output_sequence_length=max_len\n",
    ")\n",
    "\n",
    "text_vectorized.adapt(X_train)"
   ]
  },
  {
   "cell_type": "code",
   "execution_count": 85,
   "id": "f7d16cd6",
   "metadata": {},
   "outputs": [],
   "source": [
    "embedding_layer = tf.keras.layers.Embedding(\n",
    "    input_dim=max_words,\n",
    "    output_dim=128,\n",
    "    embeddings_initializer='uniform',\n",
    "    input_length=max_len\n",
    ")"
   ]
  },
  {
   "cell_type": "code",
   "execution_count": 89,
   "id": "d2f99545",
   "metadata": {},
   "outputs": [],
   "source": [
    "input_layer = tf.keras.layers.Input(shape=(1,), dtype=tf.string)\n",
    "vector_layer = text_vectorized(input_layer)\n",
    "embedding_layer_model = embedding_layer(vector_layer)\n",
    "\n",
    "x = tf.keras.layers.GlobalAveragePooling1D()\n",
    "x = x(embedding_layer_model)\n",
    "x = tf.keras.layers.Flatten()(x)\n",
    "x = tf.keras.layers.Dense(32, activation='relu')(x)\n",
    "\n",
    "output_layer = tf.keras.layers.Dense(8, activation='sigmoid')(x)\n",
    "\n",
    "model_2 = keras.Model(input_layer, output_layer)"
   ]
  },
  {
   "cell_type": "code",
   "execution_count": 90,
   "id": "244890c0",
   "metadata": {},
   "outputs": [
    {
     "name": "stdout",
     "output_type": "stream",
     "text": [
      "Model: \"model_5\"\n",
      "_________________________________________________________________\n",
      " Layer (type)                Output Shape              Param #   \n",
      "=================================================================\n",
      " input_7 (InputLayer)        [(None, 1)]               0         \n",
      "                                                                 \n",
      " text_vectorization (TextVec  (None, 400)              0         \n",
      " torization)                                                     \n",
      "                                                                 \n",
      " embedding_5 (Embedding)     (None, 400, 128)          128000    \n",
      "                                                                 \n",
      " global_average_pooling1d_2   (None, 128)              0         \n",
      " (GlobalAveragePooling1D)                                        \n",
      "                                                                 \n",
      " flatten_4 (Flatten)         (None, 128)               0         \n",
      "                                                                 \n",
      " dense_22 (Dense)            (None, 32)                4128      \n",
      "                                                                 \n",
      " dense_23 (Dense)            (None, 8)                 264       \n",
      "                                                                 \n",
      "=================================================================\n",
      "Total params: 132,392\n",
      "Trainable params: 132,392\n",
      "Non-trainable params: 0\n",
      "_________________________________________________________________\n"
     ]
    }
   ],
   "source": [
    "model_2.summary()"
   ]
  },
  {
   "cell_type": "code",
   "execution_count": 91,
   "id": "13de5e53",
   "metadata": {},
   "outputs": [],
   "source": [
    "model_2.compile(optimizer=keras.optimizers.Adam(),\n",
    "                loss=keras.losses.BinaryCrossentropy(label_smoothing=0.5),\n",
    "                metrics=['accuracy'])"
   ]
  },
  {
   "cell_type": "code",
   "execution_count": 92,
   "id": "4e4c88f9",
   "metadata": {},
   "outputs": [
    {
     "name": "stdout",
     "output_type": "stream",
     "text": [
      "Epoch 1/10\n",
      "1439/1444 [============================>.] - ETA: 0s - loss: -194821.6250 - accuracy: 0.8534WARNING:tensorflow:Your input ran out of data; interrupting training. Make sure that your dataset or generator can generate at least `steps_per_epoch * epochs` batches (in this case, 3080 batches). You may need to use the repeat() function when building your dataset.\n",
      "1444/1444 [==============================] - 27s 17ms/step - loss: -196611.6094 - accuracy: 0.8534 - val_loss: -747482.5000 - val_accuracy: 0.8549\n",
      "Epoch 2/10\n",
      "1444/1444 [==============================] - 13s 9ms/step - loss: -2371295.7500 - accuracy: 0.8546\n",
      "Epoch 3/10\n",
      "1444/1444 [==============================] - 13s 9ms/step - loss: -8333824.0000 - accuracy: 0.8546\n",
      "Epoch 4/10\n",
      "1444/1444 [==============================] - 13s 9ms/step - loss: -18887420.0000 - accuracy: 0.8546\n",
      "Epoch 5/10\n",
      "1444/1444 [==============================] - 13s 9ms/step - loss: -34731072.0000 - accuracy: 0.8546\n",
      "Epoch 6/10\n",
      "1444/1444 [==============================] - 13s 9ms/step - loss: -56502184.0000 - accuracy: 0.8546\n",
      "Epoch 7/10\n",
      "1444/1444 [==============================] - 13s 9ms/step - loss: -84899064.0000 - accuracy: 0.8546\n",
      "Epoch 8/10\n",
      "1444/1444 [==============================] - 13s 9ms/step - loss: -120629336.0000 - accuracy: 0.8546\n",
      "Epoch 9/10\n",
      "1444/1444 [==============================] - 13s 9ms/step - loss: -164520560.0000 - accuracy: 0.8546\n",
      "Epoch 10/10\n",
      "1444/1444 [==============================] - 13s 9ms/step - loss: -217065712.0000 - accuracy: 0.8546\n"
     ]
    }
   ],
   "source": [
    "history_2 = model_2.fit(X_train,\n",
    "                        y_train,\n",
    "                        epochs=10,\n",
    "                        validation_data=(X_test, y_test),\n",
    "                        validation_steps=int(0.2 * len(X_test)))"
   ]
  },
  {
   "cell_type": "markdown",
   "id": "90f969e4",
   "metadata": {},
   "source": [
    "### Bi-LSTM (simple BERT)"
   ]
  },
  {
   "cell_type": "code",
   "execution_count": 97,
   "id": "dd0f457a",
   "metadata": {},
   "outputs": [],
   "source": [
    "input_layer = tf.keras.layers.Input(shape=(1,), dtype=tf.string) \n",
    "\n",
    "vector_layer = text_vectorized(input_layer) \n",
    "embedding_layer_model = embedding_layer(vector_layer) \n",
    "\n",
    "bi_lstm = tf.keras.layers.Bidirectional(tf.keras.layers.LSTM(128, activation='tanh', return_sequences=True))(embedding_layer_model) \n",
    "lstm = tf.keras.layers.Bidirectional(tf.keras.layers.LSTM(128))(bi_lstm)\n",
    "\n",
    "flatten = tf.keras.layers.Flatten()(lstm) \n",
    "\n",
    "dropout = tf.keras.layers.Dropout(.2)(flatten) \n",
    "\n",
    "x = tf.keras.layers.Dense(32, activation='relu')(dropout) \n",
    "\n",
    "output_layer = tf.keras.layers.Dense(8, activation='sigmoid')(x) "
   ]
  },
  {
   "cell_type": "code",
   "execution_count": 98,
   "id": "414aaafa",
   "metadata": {},
   "outputs": [],
   "source": [
    "model_3 = tf.keras.Model(input_layer, output_layer) "
   ]
  },
  {
   "cell_type": "code",
   "execution_count": 99,
   "id": "0393b70d",
   "metadata": {},
   "outputs": [],
   "source": [
    "model_3.compile(optimizer=keras.optimizers.Adam(),\n",
    "                loss=keras.losses.BinaryCrossentropy(label_smoothing=0.5),\n",
    "                metrics=['accuracy'])"
   ]
  },
  {
   "cell_type": "code",
   "execution_count": 102,
   "id": "fa0d38ec",
   "metadata": {},
   "outputs": [
    {
     "name": "stdout",
     "output_type": "stream",
     "text": [
      "1444/1444 [==============================] - ETA: 0s - loss: -139856.9688 - accuracy: 0.8546WARNING:tensorflow:Your input ran out of data; interrupting training. Make sure that your dataset or generator can generate at least `steps_per_epoch * epochs` batches (in this case, 3080 batches). You may need to use the repeat() function when building your dataset.\n",
      "1444/1444 [==============================] - 3362s 2s/step - loss: -139856.9688 - accuracy: 0.8546 - val_loss: -392818.8750 - val_accuracy: 0.8549\n"
     ]
    }
   ],
   "source": [
    "with tf.device('/cpu:0'):    \n",
    "    history_3 = model_3.fit(X_train,\n",
    "                        y_train,\n",
    "                        epochs=1,\n",
    "                        validation_data=(X_test, y_test),\n",
    "                        validation_steps=int(0.2*len(X_test)))"
   ]
  },
  {
   "cell_type": "code",
   "execution_count": 105,
   "id": "393943be",
   "metadata": {},
   "outputs": [
    {
     "name": "stdout",
     "output_type": "stream",
     "text": [
      "482/482 [==============================] - 535s 1s/step\n"
     ]
    },
    {
     "ename": "ValueError",
     "evalue": "Classification metrics can't handle a mix of continuous-multioutput and binary targets",
     "output_type": "error",
     "traceback": [
      "\u001b[1;31m---------------------------------------------------------------------------\u001b[0m",
      "\u001b[1;31mValueError\u001b[0m                                Traceback (most recent call last)",
      "\u001b[1;32m~\\AppData\\Local\\Temp\\ipykernel_16416\\2611798233.py\u001b[0m in \u001b[0;36m<module>\u001b[1;34m\u001b[0m\n\u001b[0;32m      1\u001b[0m \u001b[1;32mwith\u001b[0m \u001b[0mtf\u001b[0m\u001b[1;33m.\u001b[0m\u001b[0mdevice\u001b[0m\u001b[1;33m(\u001b[0m\u001b[1;34m'/cpu:0'\u001b[0m\u001b[1;33m)\u001b[0m\u001b[1;33m:\u001b[0m\u001b[1;33m\u001b[0m\u001b[1;33m\u001b[0m\u001b[0m\n\u001b[0;32m      2\u001b[0m     \u001b[0my_preds\u001b[0m \u001b[1;33m=\u001b[0m \u001b[0mnp\u001b[0m\u001b[1;33m.\u001b[0m\u001b[0mround\u001b[0m\u001b[1;33m(\u001b[0m\u001b[0mmodel_3\u001b[0m\u001b[1;33m.\u001b[0m\u001b[0mpredict\u001b[0m\u001b[1;33m(\u001b[0m\u001b[0mX_test\u001b[0m\u001b[1;33m)\u001b[0m\u001b[1;33m)\u001b[0m\u001b[1;33m\u001b[0m\u001b[1;33m\u001b[0m\u001b[0m\n\u001b[1;32m----> 3\u001b[1;33m     \u001b[0maccuracy\u001b[0m \u001b[1;33m=\u001b[0m \u001b[0maccuracy_score\u001b[0m\u001b[1;33m(\u001b[0m\u001b[0my_test\u001b[0m\u001b[1;33m,\u001b[0m \u001b[0mnp\u001b[0m\u001b[1;33m.\u001b[0m\u001b[0margmax\u001b[0m\u001b[1;33m(\u001b[0m\u001b[0my_preds\u001b[0m\u001b[1;33m,\u001b[0m \u001b[0maxis\u001b[0m\u001b[1;33m=\u001b[0m\u001b[1;36m1\u001b[0m\u001b[1;33m)\u001b[0m\u001b[1;33m)\u001b[0m\u001b[1;33m\u001b[0m\u001b[1;33m\u001b[0m\u001b[0m\n\u001b[0m\u001b[0;32m      4\u001b[0m     \u001b[0mprecision\u001b[0m \u001b[1;33m=\u001b[0m \u001b[0mprecision_score\u001b[0m\u001b[1;33m(\u001b[0m\u001b[0my_test\u001b[0m\u001b[1;33m,\u001b[0m \u001b[0my_preds\u001b[0m\u001b[1;33m)\u001b[0m\u001b[1;33m\u001b[0m\u001b[1;33m\u001b[0m\u001b[0m\n\u001b[0;32m      5\u001b[0m     \u001b[0mrecall\u001b[0m \u001b[1;33m=\u001b[0m \u001b[0mrecall_score\u001b[0m\u001b[1;33m(\u001b[0m\u001b[0my_test\u001b[0m\u001b[1;33m,\u001b[0m \u001b[0my_preds\u001b[0m\u001b[1;33m)\u001b[0m\u001b[1;33m\u001b[0m\u001b[1;33m\u001b[0m\u001b[0m\n",
      "\u001b[1;32m~\\anaconda3\\lib\\site-packages\\sklearn\\metrics\\_classification.py\u001b[0m in \u001b[0;36maccuracy_score\u001b[1;34m(y_true, y_pred, normalize, sample_weight)\u001b[0m\n\u001b[0;32m    209\u001b[0m \u001b[1;33m\u001b[0m\u001b[0m\n\u001b[0;32m    210\u001b[0m     \u001b[1;31m# Compute accuracy for each possible representation\u001b[0m\u001b[1;33m\u001b[0m\u001b[1;33m\u001b[0m\u001b[1;33m\u001b[0m\u001b[0m\n\u001b[1;32m--> 211\u001b[1;33m     \u001b[0my_type\u001b[0m\u001b[1;33m,\u001b[0m \u001b[0my_true\u001b[0m\u001b[1;33m,\u001b[0m \u001b[0my_pred\u001b[0m \u001b[1;33m=\u001b[0m \u001b[0m_check_targets\u001b[0m\u001b[1;33m(\u001b[0m\u001b[0my_true\u001b[0m\u001b[1;33m,\u001b[0m \u001b[0my_pred\u001b[0m\u001b[1;33m)\u001b[0m\u001b[1;33m\u001b[0m\u001b[1;33m\u001b[0m\u001b[0m\n\u001b[0m\u001b[0;32m    212\u001b[0m     \u001b[0mcheck_consistent_length\u001b[0m\u001b[1;33m(\u001b[0m\u001b[0my_true\u001b[0m\u001b[1;33m,\u001b[0m \u001b[0my_pred\u001b[0m\u001b[1;33m,\u001b[0m \u001b[0msample_weight\u001b[0m\u001b[1;33m)\u001b[0m\u001b[1;33m\u001b[0m\u001b[1;33m\u001b[0m\u001b[0m\n\u001b[0;32m    213\u001b[0m     \u001b[1;32mif\u001b[0m \u001b[0my_type\u001b[0m\u001b[1;33m.\u001b[0m\u001b[0mstartswith\u001b[0m\u001b[1;33m(\u001b[0m\u001b[1;34m\"multilabel\"\u001b[0m\u001b[1;33m)\u001b[0m\u001b[1;33m:\u001b[0m\u001b[1;33m\u001b[0m\u001b[1;33m\u001b[0m\u001b[0m\n",
      "\u001b[1;32m~\\anaconda3\\lib\\site-packages\\sklearn\\metrics\\_classification.py\u001b[0m in \u001b[0;36m_check_targets\u001b[1;34m(y_true, y_pred)\u001b[0m\n\u001b[0;32m     91\u001b[0m \u001b[1;33m\u001b[0m\u001b[0m\n\u001b[0;32m     92\u001b[0m     \u001b[1;32mif\u001b[0m \u001b[0mlen\u001b[0m\u001b[1;33m(\u001b[0m\u001b[0my_type\u001b[0m\u001b[1;33m)\u001b[0m \u001b[1;33m>\u001b[0m \u001b[1;36m1\u001b[0m\u001b[1;33m:\u001b[0m\u001b[1;33m\u001b[0m\u001b[1;33m\u001b[0m\u001b[0m\n\u001b[1;32m---> 93\u001b[1;33m         raise ValueError(\n\u001b[0m\u001b[0;32m     94\u001b[0m             \"Classification metrics can't handle a mix of {0} and {1} targets\".format(\n\u001b[0;32m     95\u001b[0m                 \u001b[0mtype_true\u001b[0m\u001b[1;33m,\u001b[0m \u001b[0mtype_pred\u001b[0m\u001b[1;33m\u001b[0m\u001b[1;33m\u001b[0m\u001b[0m\n",
      "\u001b[1;31mValueError\u001b[0m: Classification metrics can't handle a mix of continuous-multioutput and binary targets"
     ]
    }
   ],
   "source": [
    "with tf.device('/cpu:0'):  \n",
    "    y_preds = np.round(model_3.predict(X_test))\n",
    "    accuracy = accuracy_score(y_test, np.argmax(y_preds, axis=1))\n",
    "    precision = precision_score(y_test, y_preds)\n",
    "    recall = recall_score(y_test, y_preds)\n",
    "    f1 = f1_score(y_test, y_preds)"
   ]
  },
  {
   "cell_type": "markdown",
   "id": "7b1c3d26",
   "metadata": {},
   "source": [
    "Il y a une erreur liée entre **classification multilabels** et **target binaire**"
   ]
  },
  {
   "cell_type": "code",
   "execution_count": 108,
   "id": "9a99bbdf",
   "metadata": {},
   "outputs": [
    {
     "data": {
      "text/plain": [
       "((15403, 8), (15403, 8))"
      ]
     },
     "execution_count": 108,
     "metadata": {},
     "output_type": "execute_result"
    }
   ],
   "source": [
    "y_preds.shape, y_test.shape"
   ]
  },
  {
   "cell_type": "code",
   "execution_count": null,
   "id": "b4e124ac",
   "metadata": {},
   "outputs": [],
   "source": [
    "print('accuracy  : ',accuracy)\n",
    "print('precision : ',precision)\n",
    "print('recall    : ',recall)\n",
    "print('f1-score  : ',f1)"
   ]
  },
  {
   "cell_type": "markdown",
   "id": "e84c0468",
   "metadata": {},
   "source": [
    "### Fine Tuning Class CamemBERT"
   ]
  },
  {
   "cell_type": "markdown",
   "id": "6b95ac5c",
   "metadata": {},
   "source": [
    "#### Class pour faire les MASKS"
   ]
  },
  {
   "cell_type": "code",
   "execution_count": null,
   "id": "020aceb6",
   "metadata": {},
   "outputs": [],
   "source": [
    "train_dataloader = DataLoader(\n",
    "    X_train, \n",
    "    batch_size=16, \n",
    "    shuffle=True, \n",
    "    collate_fn=functools.partial(tokenize_batch, tokenizer=tokenizer)\n",
    ")\n",
    "val_dataloader = DataLoader(\n",
    "    X_test, \n",
    "    batch_size=16, \n",
    "    shuffle=False, \n",
    "    collate_fn=functools.partial(tokenize_batch, tokenizer=tokenizer)\n",
    ")"
   ]
  },
  {
   "cell_type": "code",
   "execution_count": null,
   "id": "bc02227b",
   "metadata": {},
   "outputs": [],
   "source": [
    "class LightningModel(pl.LightningModule):\n",
    "    def __init__(self, model_name, num_labels, lr, weight_decay, from_scratch=False):\n",
    "        super().__init__()\n",
    "        self.save_hyperparameters()\n",
    "        if from_scratch:\n",
    "            # Si `from_scratch` est vrai, on charge uniquement la config (nombre de couches, hidden size, etc.) et pas les poids du modèle \n",
    "            config = AutoConfig.from_pretrained(\n",
    "                model_name, num_labels=num_labels\n",
    "            )\n",
    "            self.model = AutoModelForSequenceClassification.from_config(config)\n",
    "        else:\n",
    "            # Cette méthode permet de télécharger le bon modèle pré-entraîné directement depuis le Hub de HuggingFace sur lequel sont stockés de nombreux modèles\n",
    "            self.model = AutoModelForSequenceClassification.from_pretrained(\n",
    "                model_name, num_labels=num_labels\n",
    "            )\n",
    "        self.lr = lr\n",
    "        self.weight_decay = weight_decay\n",
    "        self.num_labels = self.model.num_labels\n",
    "\n",
    "    def forward(self, batch):\n",
    "        return self.model(\n",
    "            input_ids=batch[\"input_ids\"],\n",
    "            attention_mask=batch[\"attention_mask\"]\n",
    "        )\n",
    "\n",
    "    def training_step(self, batch):\n",
    "        out = self.forward(batch)\n",
    "\n",
    "        logits = out.logits\n",
    "        # -------- MASKED --------\n",
    "        loss_fn = torch.nn.CrossEntropyLoss()\n",
    "        loss = loss_fn(logits.view(-1, self.num_labels), batch[\"labels\"].view(-1))\n",
    "\n",
    "        # ------ END MASKED ------\n",
    "\n",
    "        self.log(\"train/loss\", loss)\n",
    "\n",
    "        return loss\n",
    "\n",
    "    def validation_step(self, batch, batch_index):\n",
    "        labels = batch[\"labels\"]\n",
    "        out = self.forward(batch)\n",
    "\n",
    "        preds = torch.max(out.logits, -1).indices\n",
    "        # -------- MASKED --------\n",
    "        acc = (batch[\"labels\"] == preds).float().mean()\n",
    "        # ------ END MASKED ------\n",
    "        self.log(\"valid/acc\", acc)\n",
    "\n",
    "        f1 = f1_score(batch[\"labels\"].cpu().tolist(), preds.cpu().tolist(), average=\"macro\")\n",
    "        self.log(\"valid/f1\", f1)\n",
    "\n",
    "    def predict_step(self, batch, batch_idx):\n",
    "        \"\"\"La fonction predict step facilite la prédiction de données. Elle est \n",
    "        similaire à `validation_step`, sans le calcul des métriques.\n",
    "        \"\"\"\n",
    "        out = self.forward(batch)\n",
    "\n",
    "        return torch.max(out.logits, -1).indices\n",
    "\n",
    "    def configure_optimizers(self):\n",
    "        return torch.optim.AdamW(\n",
    "            self.model.parameters(), lr=self.lr, weight_decay=self.weight_decay\n",
    "        )"
   ]
  },
  {
   "cell_type": "code",
   "execution_count": null,
   "id": "308e71a4",
   "metadata": {},
   "outputs": [],
   "source": [
    "# lightning_model = LightningModel(\"camembert-base\", num_labels, lr=3e-5, weight_decay=0.)\n",
    "# lightning_model = LightningModel(\"RomanCast/camembert-miam-loria-finetuned\", num_labels, lr=3e-5, weight_decay=0.)"
   ]
  },
  {
   "cell_type": "code",
   "execution_count": null,
   "id": "a2d507c3",
   "metadata": {},
   "outputs": [],
   "source": [
    "model_checkpoint = pl.callbacks.ModelCheckpoint(monitor=\"valid/acc\", mode=\"max\")\n",
    "\n",
    "camembert_trainer = pl.Trainer(\n",
    "    max_epochs=20,\n",
    "    gpus=1,\n",
    "    callbacks=[\n",
    "        pl.callbacks.EarlyStopping(monitor=\"valid/acc\", patience=4, mode=\"max\"),\n",
    "        model_checkpoint,\n",
    "    ]\n",
    ")"
   ]
  },
  {
   "cell_type": "code",
   "execution_count": null,
   "id": "27b5af58",
   "metadata": {},
   "outputs": [],
   "source": [
    "ID_TO_LABEL = y"
   ]
  },
  {
   "cell_type": "code",
   "execution_count": null,
   "id": "14e699f4",
   "metadata": {},
   "outputs": [],
   "source": [
    "def get_preds(model, tokenizer, sentence):\n",
    "    tokenized_sentence = tokenizer(sentence, return_tensors=\"pt\")\n",
    "    input_ids, attention_mask = tokenized_sentence.input_ids, tokenized_sentence.attention_mask\n",
    "\n",
    "    out = model(\n",
    "        input_ids=tokenized_sentence.input_ids,\n",
    "        attention_mask=tokenized_sentence.attention_mask\n",
    "    )\n",
    "\n",
    "    logits = out.logits\n",
    "\n",
    "    probas = torch.softmax(logits, -1).squeeze()\n",
    "\n",
    "    pred = torch.argmax(probas)\n",
    "\n",
    "    return ID_TO_LABEL[pred], probas[pred].item()"
   ]
  },
  {
   "cell_type": "markdown",
   "id": "80c097b6",
   "metadata": {},
   "source": [
    "### Test avec uniquement 0 ou 1 pour les sentiments"
   ]
  },
  {
   "cell_type": "code",
   "execution_count": 109,
   "id": "e8c7e438",
   "metadata": {},
   "outputs": [
    {
     "data": {
      "text/plain": [
       "Index(['book_id', 'book_nb_comm', 'title', 'name', 'surname', 'img_url',\n",
       "       'comm_id', 'user_id', 'note', 'date', 'appreciations', 'commentaire',\n",
       "       'gender', 'book_url', 'tags', 'book_rating_count', 'book_rating_value',\n",
       "       'book_author_url', 'book_editor', 'book_pages', 'sen_colère',\n",
       "       'sen_confiance', 'sen_honte', 'sen_joie', 'sen_peur', 'sen_réflexion',\n",
       "       'sen_surprise', 'sen_tristesse'],\n",
       "      dtype='object')"
      ]
     },
     "execution_count": 109,
     "metadata": {},
     "output_type": "execute_result"
    }
   ],
   "source": [
    "julien1_df.columns"
   ]
  },
  {
   "cell_type": "code",
   "execution_count": 125,
   "id": "4e078e56",
   "metadata": {},
   "outputs": [
    {
     "data": {
      "text/html": [
       "<div>\n",
       "<style scoped>\n",
       "    .dataframe tbody tr th:only-of-type {\n",
       "        vertical-align: middle;\n",
       "    }\n",
       "\n",
       "    .dataframe tbody tr th {\n",
       "        vertical-align: top;\n",
       "    }\n",
       "\n",
       "    .dataframe thead th {\n",
       "        text-align: right;\n",
       "    }\n",
       "</style>\n",
       "<table border=\"1\" class=\"dataframe\">\n",
       "  <thead>\n",
       "    <tr style=\"text-align: right;\">\n",
       "      <th></th>\n",
       "      <th>sen_colère</th>\n",
       "      <th>sen_confiance</th>\n",
       "      <th>sen_honte</th>\n",
       "      <th>sen_joie</th>\n",
       "      <th>sen_peur</th>\n",
       "      <th>sen_réflexion</th>\n",
       "      <th>sen_surprise</th>\n",
       "      <th>sen_tristesse</th>\n",
       "    </tr>\n",
       "  </thead>\n",
       "  <tbody>\n",
       "    <tr>\n",
       "      <th>0</th>\n",
       "      <td>0.292288</td>\n",
       "      <td>0.187840</td>\n",
       "      <td>0.0</td>\n",
       "      <td>0.334643</td>\n",
       "      <td>0.098929</td>\n",
       "      <td>0.137829</td>\n",
       "      <td>0.092294</td>\n",
       "      <td>0.142990</td>\n",
       "    </tr>\n",
       "    <tr>\n",
       "      <th>1</th>\n",
       "      <td>0.292288</td>\n",
       "      <td>0.187840</td>\n",
       "      <td>0.0</td>\n",
       "      <td>0.334643</td>\n",
       "      <td>0.098929</td>\n",
       "      <td>0.137829</td>\n",
       "      <td>0.092294</td>\n",
       "      <td>0.142990</td>\n",
       "    </tr>\n",
       "    <tr>\n",
       "      <th>2</th>\n",
       "      <td>0.292288</td>\n",
       "      <td>0.187840</td>\n",
       "      <td>0.0</td>\n",
       "      <td>0.334643</td>\n",
       "      <td>0.098929</td>\n",
       "      <td>0.137829</td>\n",
       "      <td>0.092294</td>\n",
       "      <td>0.142990</td>\n",
       "    </tr>\n",
       "    <tr>\n",
       "      <th>3</th>\n",
       "      <td>0.292288</td>\n",
       "      <td>0.187840</td>\n",
       "      <td>0.0</td>\n",
       "      <td>0.334643</td>\n",
       "      <td>0.098929</td>\n",
       "      <td>0.137829</td>\n",
       "      <td>0.092294</td>\n",
       "      <td>0.142990</td>\n",
       "    </tr>\n",
       "    <tr>\n",
       "      <th>4</th>\n",
       "      <td>0.292288</td>\n",
       "      <td>0.187840</td>\n",
       "      <td>0.0</td>\n",
       "      <td>0.334643</td>\n",
       "      <td>0.098929</td>\n",
       "      <td>0.137829</td>\n",
       "      <td>0.092294</td>\n",
       "      <td>0.142990</td>\n",
       "    </tr>\n",
       "    <tr>\n",
       "      <th>...</th>\n",
       "      <td>...</td>\n",
       "      <td>...</td>\n",
       "      <td>...</td>\n",
       "      <td>...</td>\n",
       "      <td>...</td>\n",
       "      <td>...</td>\n",
       "      <td>...</td>\n",
       "      <td>...</td>\n",
       "    </tr>\n",
       "    <tr>\n",
       "      <th>61605</th>\n",
       "      <td>0.078178</td>\n",
       "      <td>0.182298</td>\n",
       "      <td>0.0</td>\n",
       "      <td>0.290264</td>\n",
       "      <td>0.119810</td>\n",
       "      <td>0.147222</td>\n",
       "      <td>0.109318</td>\n",
       "      <td>0.110916</td>\n",
       "    </tr>\n",
       "    <tr>\n",
       "      <th>61606</th>\n",
       "      <td>0.078178</td>\n",
       "      <td>0.182298</td>\n",
       "      <td>0.0</td>\n",
       "      <td>0.290264</td>\n",
       "      <td>0.119810</td>\n",
       "      <td>0.147222</td>\n",
       "      <td>0.109318</td>\n",
       "      <td>0.110916</td>\n",
       "    </tr>\n",
       "    <tr>\n",
       "      <th>61607</th>\n",
       "      <td>0.078178</td>\n",
       "      <td>0.182298</td>\n",
       "      <td>0.0</td>\n",
       "      <td>0.290264</td>\n",
       "      <td>0.119810</td>\n",
       "      <td>0.147222</td>\n",
       "      <td>0.109318</td>\n",
       "      <td>0.110916</td>\n",
       "    </tr>\n",
       "    <tr>\n",
       "      <th>61608</th>\n",
       "      <td>0.078178</td>\n",
       "      <td>0.182298</td>\n",
       "      <td>0.0</td>\n",
       "      <td>0.290264</td>\n",
       "      <td>0.119810</td>\n",
       "      <td>0.147222</td>\n",
       "      <td>0.109318</td>\n",
       "      <td>0.110916</td>\n",
       "    </tr>\n",
       "    <tr>\n",
       "      <th>61609</th>\n",
       "      <td>0.078178</td>\n",
       "      <td>0.182298</td>\n",
       "      <td>0.0</td>\n",
       "      <td>0.290264</td>\n",
       "      <td>0.119810</td>\n",
       "      <td>0.147222</td>\n",
       "      <td>0.109318</td>\n",
       "      <td>0.110916</td>\n",
       "    </tr>\n",
       "  </tbody>\n",
       "</table>\n",
       "<p>61610 rows × 8 columns</p>\n",
       "</div>"
      ],
      "text/plain": [
       "       sen_colère  sen_confiance  sen_honte  sen_joie  sen_peur  \\\n",
       "0        0.292288       0.187840        0.0  0.334643  0.098929   \n",
       "1        0.292288       0.187840        0.0  0.334643  0.098929   \n",
       "2        0.292288       0.187840        0.0  0.334643  0.098929   \n",
       "3        0.292288       0.187840        0.0  0.334643  0.098929   \n",
       "4        0.292288       0.187840        0.0  0.334643  0.098929   \n",
       "...           ...            ...        ...       ...       ...   \n",
       "61605    0.078178       0.182298        0.0  0.290264  0.119810   \n",
       "61606    0.078178       0.182298        0.0  0.290264  0.119810   \n",
       "61607    0.078178       0.182298        0.0  0.290264  0.119810   \n",
       "61608    0.078178       0.182298        0.0  0.290264  0.119810   \n",
       "61609    0.078178       0.182298        0.0  0.290264  0.119810   \n",
       "\n",
       "       sen_réflexion  sen_surprise  sen_tristesse  \n",
       "0           0.137829      0.092294       0.142990  \n",
       "1           0.137829      0.092294       0.142990  \n",
       "2           0.137829      0.092294       0.142990  \n",
       "3           0.137829      0.092294       0.142990  \n",
       "4           0.137829      0.092294       0.142990  \n",
       "...              ...           ...            ...  \n",
       "61605       0.147222      0.109318       0.110916  \n",
       "61606       0.147222      0.109318       0.110916  \n",
       "61607       0.147222      0.109318       0.110916  \n",
       "61608       0.147222      0.109318       0.110916  \n",
       "61609       0.147222      0.109318       0.110916  \n",
       "\n",
       "[61610 rows x 8 columns]"
      ]
     },
     "execution_count": 125,
     "metadata": {},
     "output_type": "execute_result"
    }
   ],
   "source": [
    "df_test_binaire = julien1_df.iloc[:61610, -8:]\n",
    "df_test_binaire"
   ]
  },
  {
   "cell_type": "code",
   "execution_count": 126,
   "id": "500db876",
   "metadata": {},
   "outputs": [],
   "source": [
    "for col in df_test_binaire.columns:\n",
    "    df_test_binaire[col] = df_test_binaire[col].apply(lambda x: 1 if x!=0 else 0)"
   ]
  },
  {
   "cell_type": "code",
   "execution_count": 127,
   "id": "1d7be408",
   "metadata": {},
   "outputs": [
    {
     "data": {
      "text/html": [
       "<div>\n",
       "<style scoped>\n",
       "    .dataframe tbody tr th:only-of-type {\n",
       "        vertical-align: middle;\n",
       "    }\n",
       "\n",
       "    .dataframe tbody tr th {\n",
       "        vertical-align: top;\n",
       "    }\n",
       "\n",
       "    .dataframe thead th {\n",
       "        text-align: right;\n",
       "    }\n",
       "</style>\n",
       "<table border=\"1\" class=\"dataframe\">\n",
       "  <thead>\n",
       "    <tr style=\"text-align: right;\">\n",
       "      <th></th>\n",
       "      <th>sen_colère</th>\n",
       "      <th>sen_confiance</th>\n",
       "      <th>sen_honte</th>\n",
       "      <th>sen_joie</th>\n",
       "      <th>sen_peur</th>\n",
       "      <th>sen_réflexion</th>\n",
       "      <th>sen_surprise</th>\n",
       "      <th>sen_tristesse</th>\n",
       "    </tr>\n",
       "  </thead>\n",
       "  <tbody>\n",
       "    <tr>\n",
       "      <th>0</th>\n",
       "      <td>1</td>\n",
       "      <td>1</td>\n",
       "      <td>0</td>\n",
       "      <td>1</td>\n",
       "      <td>1</td>\n",
       "      <td>1</td>\n",
       "      <td>1</td>\n",
       "      <td>1</td>\n",
       "    </tr>\n",
       "    <tr>\n",
       "      <th>1</th>\n",
       "      <td>1</td>\n",
       "      <td>1</td>\n",
       "      <td>0</td>\n",
       "      <td>1</td>\n",
       "      <td>1</td>\n",
       "      <td>1</td>\n",
       "      <td>1</td>\n",
       "      <td>1</td>\n",
       "    </tr>\n",
       "    <tr>\n",
       "      <th>2</th>\n",
       "      <td>1</td>\n",
       "      <td>1</td>\n",
       "      <td>0</td>\n",
       "      <td>1</td>\n",
       "      <td>1</td>\n",
       "      <td>1</td>\n",
       "      <td>1</td>\n",
       "      <td>1</td>\n",
       "    </tr>\n",
       "    <tr>\n",
       "      <th>3</th>\n",
       "      <td>1</td>\n",
       "      <td>1</td>\n",
       "      <td>0</td>\n",
       "      <td>1</td>\n",
       "      <td>1</td>\n",
       "      <td>1</td>\n",
       "      <td>1</td>\n",
       "      <td>1</td>\n",
       "    </tr>\n",
       "    <tr>\n",
       "      <th>4</th>\n",
       "      <td>1</td>\n",
       "      <td>1</td>\n",
       "      <td>0</td>\n",
       "      <td>1</td>\n",
       "      <td>1</td>\n",
       "      <td>1</td>\n",
       "      <td>1</td>\n",
       "      <td>1</td>\n",
       "    </tr>\n",
       "    <tr>\n",
       "      <th>...</th>\n",
       "      <td>...</td>\n",
       "      <td>...</td>\n",
       "      <td>...</td>\n",
       "      <td>...</td>\n",
       "      <td>...</td>\n",
       "      <td>...</td>\n",
       "      <td>...</td>\n",
       "      <td>...</td>\n",
       "    </tr>\n",
       "    <tr>\n",
       "      <th>61605</th>\n",
       "      <td>1</td>\n",
       "      <td>1</td>\n",
       "      <td>0</td>\n",
       "      <td>1</td>\n",
       "      <td>1</td>\n",
       "      <td>1</td>\n",
       "      <td>1</td>\n",
       "      <td>1</td>\n",
       "    </tr>\n",
       "    <tr>\n",
       "      <th>61606</th>\n",
       "      <td>1</td>\n",
       "      <td>1</td>\n",
       "      <td>0</td>\n",
       "      <td>1</td>\n",
       "      <td>1</td>\n",
       "      <td>1</td>\n",
       "      <td>1</td>\n",
       "      <td>1</td>\n",
       "    </tr>\n",
       "    <tr>\n",
       "      <th>61607</th>\n",
       "      <td>1</td>\n",
       "      <td>1</td>\n",
       "      <td>0</td>\n",
       "      <td>1</td>\n",
       "      <td>1</td>\n",
       "      <td>1</td>\n",
       "      <td>1</td>\n",
       "      <td>1</td>\n",
       "    </tr>\n",
       "    <tr>\n",
       "      <th>61608</th>\n",
       "      <td>1</td>\n",
       "      <td>1</td>\n",
       "      <td>0</td>\n",
       "      <td>1</td>\n",
       "      <td>1</td>\n",
       "      <td>1</td>\n",
       "      <td>1</td>\n",
       "      <td>1</td>\n",
       "    </tr>\n",
       "    <tr>\n",
       "      <th>61609</th>\n",
       "      <td>1</td>\n",
       "      <td>1</td>\n",
       "      <td>0</td>\n",
       "      <td>1</td>\n",
       "      <td>1</td>\n",
       "      <td>1</td>\n",
       "      <td>1</td>\n",
       "      <td>1</td>\n",
       "    </tr>\n",
       "  </tbody>\n",
       "</table>\n",
       "<p>61610 rows × 8 columns</p>\n",
       "</div>"
      ],
      "text/plain": [
       "       sen_colère  sen_confiance  sen_honte  sen_joie  sen_peur  \\\n",
       "0               1              1          0         1         1   \n",
       "1               1              1          0         1         1   \n",
       "2               1              1          0         1         1   \n",
       "3               1              1          0         1         1   \n",
       "4               1              1          0         1         1   \n",
       "...           ...            ...        ...       ...       ...   \n",
       "61605           1              1          0         1         1   \n",
       "61606           1              1          0         1         1   \n",
       "61607           1              1          0         1         1   \n",
       "61608           1              1          0         1         1   \n",
       "61609           1              1          0         1         1   \n",
       "\n",
       "       sen_réflexion  sen_surprise  sen_tristesse  \n",
       "0                  1             1              1  \n",
       "1                  1             1              1  \n",
       "2                  1             1              1  \n",
       "3                  1             1              1  \n",
       "4                  1             1              1  \n",
       "...              ...           ...            ...  \n",
       "61605              1             1              1  \n",
       "61606              1             1              1  \n",
       "61607              1             1              1  \n",
       "61608              1             1              1  \n",
       "61609              1             1              1  \n",
       "\n",
       "[61610 rows x 8 columns]"
      ]
     },
     "execution_count": 127,
     "metadata": {},
     "output_type": "execute_result"
    }
   ],
   "source": [
    "df_test_binaire"
   ]
  },
  {
   "cell_type": "code",
   "execution_count": 128,
   "id": "32749f66",
   "metadata": {},
   "outputs": [
    {
     "data": {
      "text/plain": [
       "1    56123\n",
       "0     5487\n",
       "Name: sen_colère, dtype: int64"
      ]
     },
     "execution_count": 128,
     "metadata": {},
     "output_type": "execute_result"
    }
   ],
   "source": [
    "df_test_binaire['sen_colère'].value_counts()"
   ]
  },
  {
   "cell_type": "code",
   "execution_count": 129,
   "id": "0679bd14",
   "metadata": {},
   "outputs": [
    {
     "data": {
      "text/plain": [
       "Index(['book_id', 'book_nb_comm', 'title', 'name', 'surname', 'img_url',\n",
       "       'comm_id', 'user_id', 'note', 'date', 'appreciations', 'commentaire',\n",
       "       'gender', 'book_url', 'tags', 'book_rating_count', 'book_rating_value',\n",
       "       'book_author_url', 'book_editor', 'book_pages'],\n",
       "      dtype='object')"
      ]
     },
     "execution_count": 129,
     "metadata": {},
     "output_type": "execute_result"
    }
   ],
   "source": [
    "julien1_df.iloc[:61610, :-8].columns"
   ]
  },
  {
   "cell_type": "code",
   "execution_count": 131,
   "id": "1139dfcc",
   "metadata": {},
   "outputs": [],
   "source": [
    "df_test_binaire = pd.concat([julien1_df.iloc[:61610, :-8], df_test_binaire],axis=1)"
   ]
  },
  {
   "cell_type": "code",
   "execution_count": 12,
   "id": "8e8c34b9",
   "metadata": {},
   "outputs": [],
   "source": [
    "import tensorflow as tf\n",
    "import tensorflow_hub as hub\n",
    "import tensorflow_text"
   ]
  },
  {
   "cell_type": "code",
   "execution_count": 13,
   "id": "c87fc458",
   "metadata": {},
   "outputs": [],
   "source": [
    "bert_preprocessor = hub.KerasLayer('https://tfhub.dev/tensorflow/bert_multi_cased_preprocess/3') # bert_multi_cased_preprocess\n",
    "bert_encoder = hub.KerasLayer('https://tfhub.dev/tensorflow/bert_multi_cased_L-12_H-768_A-12/4') # bert_multi_cased_L12_H768_A12"
   ]
  },
  {
   "cell_type": "markdown",
   "id": "38d2ee8b",
   "metadata": {},
   "source": [
    "#### test sigmoid"
   ]
  },
  {
   "cell_type": "code",
   "execution_count": 133,
   "id": "ebf1b491",
   "metadata": {},
   "outputs": [],
   "source": [
    "text_input = tf.keras.layers.Input(shape = (), dtype = tf.string, name = 'Inputs')\n",
    "preprocessed_text = bert_preprocessor(text_input)\n",
    "embeed = bert_encoder(preprocessed_text)\n",
    "dropout = tf.keras.layers.Dropout(0.1, name = 'Dropout')(embeed['pooled_output'])\n",
    "outputs = tf.keras.layers.Dense(8, activation = 'sigmoid', name = 'Dense')(dropout)"
   ]
  },
  {
   "cell_type": "code",
   "execution_count": 134,
   "id": "5a81a0f8",
   "metadata": {},
   "outputs": [],
   "source": [
    "camembert= tf.keras.Model(inputs = [text_input], outputs = [outputs])"
   ]
  },
  {
   "cell_type": "code",
   "execution_count": 135,
   "id": "d8e0813f",
   "metadata": {},
   "outputs": [],
   "source": [
    "Metrics = [tf.keras.metrics.BinaryAccuracy(name = 'accuracy'),\n",
    "           tf.keras.metrics.Precision(name = 'precision'),\n",
    "           tf.keras.metrics.Recall(name = 'recall')\n",
    "           ]"
   ]
  },
  {
   "cell_type": "code",
   "execution_count": 136,
   "id": "d12fd213",
   "metadata": {},
   "outputs": [],
   "source": [
    "camembert.compile(optimizer ='adam',\n",
    "               loss = 'binary_crossentropy',\n",
    "               metrics = Metrics)"
   ]
  },
  {
   "cell_type": "code",
   "execution_count": 139,
   "id": "49009ec5",
   "metadata": {},
   "outputs": [],
   "source": [
    "y = df_test_binaire[df_test_binaire.columns[-8:]]\n",
    "\n",
    "X_train, X_test , y_train, y_test = train_test_split(df_test_binaire['commentaire'], y,\n",
    "                                                    stratify = y)"
   ]
  },
  {
   "cell_type": "code",
   "execution_count": 141,
   "id": "04bcdaa0",
   "metadata": {},
   "outputs": [
    {
     "name": "stdout",
     "output_type": "stream",
     "text": [
      "Epoch 1/2\n",
      "1444/1444 [==============================] - 480s 325ms/step - loss: 0.1962 - accuracy: 0.9069 - precision: 0.9316 - recall: 0.9683\n",
      "Epoch 2/2\n",
      "1444/1444 [==============================] - 486s 336ms/step - loss: 0.1869 - accuracy: 0.9097 - precision: 0.9324 - recall: 0.9707\n"
     ]
    }
   ],
   "source": [
    "history = camembert.fit(X_train, y_train, epochs = 2)"
   ]
  },
  {
   "cell_type": "markdown",
   "id": "08f7482a",
   "metadata": {},
   "source": [
    "#### test linear"
   ]
  },
  {
   "cell_type": "code",
   "execution_count": 42,
   "id": "039dc7ff",
   "metadata": {},
   "outputs": [],
   "source": [
    "import tensorflow as tf\n",
    "import tensorflow_hub as hub\n",
    "import tensorflow_text\n",
    "from sklearn.model_selection import train_test_split"
   ]
  },
  {
   "cell_type": "code",
   "execution_count": 109,
   "id": "a495dce5",
   "metadata": {},
   "outputs": [],
   "source": [
    "text_input = tf.keras.layers.Input(shape = (), dtype = tf.string, name = 'Inputs')\n",
    "preprocessed_text = bert_preprocessor(text_input)\n",
    "embeed = bert_encoder(preprocessed_text)\n",
    "dropout = tf.keras.layers.Dropout(0.1, name = 'Dropout')(embeed['pooled_output'])\n",
    "dense = tf.keras.layers.Dense(8, activation = 'relu', name = 'Dense1')(dropout)\n",
    "outputs = tf.keras.layers.Dense(1, activation = 'linear', name = 'Dense2')(dense)"
   ]
  },
  {
   "cell_type": "code",
   "execution_count": 110,
   "id": "f513129d",
   "metadata": {},
   "outputs": [],
   "source": [
    "bert_multi = tf.keras.Model(inputs = [text_input], outputs = [outputs])"
   ]
  },
  {
   "cell_type": "code",
   "execution_count": 111,
   "id": "ec4aa31e",
   "metadata": {},
   "outputs": [],
   "source": [
    "Metrics = [tf.keras.metrics.MeanSquaredError(name='mean_absolute_error'),\n",
    "           tf.keras.metrics.Precision(name = 'precision'),\n",
    "           tf.keras.metrics.Recall(name = 'recall')\n",
    "           ]"
   ]
  },
  {
   "cell_type": "code",
   "execution_count": 112,
   "id": "065e9d01",
   "metadata": {},
   "outputs": [],
   "source": [
    "bert_multi.compile(optimizer ='adam',\n",
    "               loss = tf.keras.losses.MeanSquaredError(),\n",
    "               metrics = Metrics)"
   ]
  },
  {
   "cell_type": "code",
   "execution_count": 59,
   "id": "748b692d",
   "metadata": {},
   "outputs": [],
   "source": [
    "# df_sent_test = julien1_df.iloc[:61610, :]"
   ]
  },
  {
   "cell_type": "code",
   "execution_count": 96,
   "id": "19de70d9",
   "metadata": {},
   "outputs": [],
   "source": [
    "julien1_df = create_target(julien1_df, columns=julien1_df.columns)"
   ]
  },
  {
   "cell_type": "code",
   "execution_count": 115,
   "id": "6fe647fb",
   "metadata": {},
   "outputs": [],
   "source": [
    "julien1_df.fillna(value='', inplace=True)"
   ]
  },
  {
   "cell_type": "code",
   "execution_count": 116,
   "id": "14d151a1",
   "metadata": {},
   "outputs": [],
   "source": [
    "y = julien1_df['target']\n",
    "\n",
    "X_train, X_test , y_train, y_test = train_test_split(julien1_df['commentaire'], y)"
   ]
  },
  {
   "cell_type": "code",
   "execution_count": 117,
   "id": "3e5e9891",
   "metadata": {},
   "outputs": [
    {
     "name": "stdout",
     "output_type": "stream",
     "text": [
      "Expected: (num_samples, timesteps, channels)\n",
      "Sequences: (235506,)\n",
      "Targets:   (235506,)\n"
     ]
    }
   ],
   "source": [
    "def show_shapes():\n",
    "    print(\"Expected: (num_samples, timesteps, channels)\")\n",
    "    print(\"Sequences: {}\".format(Sequences.shape))\n",
    "    print(\"Targets:   {}\".format(Targets.shape))   \n",
    "\n",
    "Sequences = np.asarray(X_train)\n",
    "Targets   = np.asarray(y_train)\n",
    "show_shapes()"
   ]
  },
  {
   "cell_type": "code",
   "execution_count": null,
   "id": "63ad5ec9",
   "metadata": {},
   "outputs": [],
   "source": [
    "# probleme avec la liste ==> ne peux pas être converti en Tensor..."
   ]
  },
  {
   "cell_type": "code",
   "execution_count": null,
   "id": "eac7bdf4",
   "metadata": {},
   "outputs": [],
   "source": [
    "# history = bert_multi.fit(X_train, y_train, epochs = 2)"
   ]
  },
  {
   "cell_type": "code",
   "execution_count": null,
   "id": "e17c98ae",
   "metadata": {},
   "outputs": [],
   "source": [
    "def get_model(n_inputs, n_outputs):\n",
    "    model = Sequential()\n",
    "    model.add(Dense(20, input_dim=n_inputs, kernel_initializer='he_uniform', activation='relu'))\n",
    "    model.add(Dense(n_outputs))\n",
    "    model.compile(loss='mae', optimizer='adam')\n",
    "    return model"
   ]
  },
  {
   "cell_type": "markdown",
   "id": "084e421d",
   "metadata": {},
   "source": [
    "La distance de Jaccard représente représente le nombre de cas de présence simultanée dans deux commentaires étudiés, divisé par le nombre de cas où est présent le mot dans au moins un des deux commentaires."
   ]
  },
  {
   "cell_type": "code",
   "execution_count": null,
   "id": "c3321c14",
   "metadata": {},
   "outputs": [],
   "source": [
    "def jaccard_binary(x,y):\n",
    "    \"\"\"Trouve la similarité entre deux vecteurs binaires\"\"\"\n",
    "    intersection = np.logical_and(x, y)                  # x et y en même temps\n",
    "    union = np.logical_or(x, y)                          # x ou y\n",
    "    similarity = intersection.sum() / float(union.sum()) # la somme des intersections / la somme des unions\n",
    "    return similarity                                    "
   ]
  }
 ],
 "metadata": {
  "kernelspec": {
   "display_name": "Python 3 (ipykernel)",
   "language": "python",
   "name": "python3"
  },
  "language_info": {
   "codemirror_mode": {
    "name": "ipython",
    "version": 3
   },
   "file_extension": ".py",
   "mimetype": "text/x-python",
   "name": "python",
   "nbconvert_exporter": "python",
   "pygments_lexer": "ipython3",
   "version": "3.8.15"
  }
 },
 "nbformat": 4,
 "nbformat_minor": 5
}
