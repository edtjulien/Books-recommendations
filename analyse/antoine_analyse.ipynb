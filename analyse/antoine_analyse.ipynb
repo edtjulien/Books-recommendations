{
 "cells": [
  {
   "cell_type": "markdown",
   "metadata": {},
   "source": [
    "## Import des librairies et des fichiers"
   ]
  },
  {
   "cell_type": "code",
   "execution_count": 1,
   "metadata": {},
   "outputs": [],
   "source": [
    "import requests\n",
    "import pandas as pd\n",
    "import json\n",
    "import numpy as np\n",
    "import plotly.graph_objects as gp\n",
    "import plotly.express as px\n",
    "import seaborn as sns\n",
    "import matplotlib.pyplot as plt\n",
    "from functools import reduce\n",
    "from datetime import date,timedelta\n"
   ]
  },
  {
   "cell_type": "code",
   "execution_count": 2,
   "metadata": {},
   "outputs": [],
   "source": [
    "# Import des résultats du ratissage de Babelio\n",
    "\n",
    "df=pd.read_json(\"books-sample1.json\",lines=True)"
   ]
  },
  {
   "cell_type": "code",
   "execution_count": 18,
   "metadata": {},
   "outputs": [
    {
     "data": {
      "text/plain": [
       "{'rage': 'colère',\n",
       " 'fureur': 'colère',\n",
       " 'insupportable': 'colère',\n",
       " 'exaspération': 'colère',\n",
       " 'exaspérant': 'colère',\n",
       " 'exaspérante': 'colère',\n",
       " 'agacement': 'colère',\n",
       " 'agaçant': 'colère',\n",
       " 'agaçante': 'colère',\n",
       " 'contrariété': 'colère',\n",
       " 'courroux': 'colère',\n",
       " 'âpre': 'colère',\n",
       " 'férocité': 'colère',\n",
       " 'dureté': 'colère',\n",
       " 'brutalité': 'colère',\n",
       " 'brutal': 'colère',\n",
       " 'brutale': 'colère',\n",
       " 'froideur': 'colère',\n",
       " 'sauvage': 'colère',\n",
       " 'vengée': 'colère',\n",
       " 'vengé': 'colère',\n",
       " 'cruel': 'colère',\n",
       " 'cruelle': 'colère',\n",
       " 'cruauté': 'colère',\n",
       " 'vengeance': 'colère',\n",
       " 'ressentiment': 'colère',\n",
       " 'rancœur': 'colère',\n",
       " 'grogne': 'colère',\n",
       " 'hargne': 'colère',\n",
       " 'irritation': 'colère',\n",
       " 'irritée': 'colère',\n",
       " 'irrité': 'colère',\n",
       " 'massacre': 'colère',\n",
       " 'fâché': 'colère',\n",
       " 'furieux': 'colère',\n",
       " 'carnage': 'colère',\n",
       " 'furibond': 'colère',\n",
       " 'révoltant': 'colère',\n",
       " 'révoltante': 'colère',\n",
       " 'révolte': 'colère',\n",
       " 'révolté': 'colère',\n",
       " 'révoltée': 'colère',\n",
       " 'outragé': 'colère',\n",
       " 'offensée': 'colère',\n",
       " 'offensé': 'colère',\n",
       " 'enragé': 'colère',\n",
       " 'indigné': 'colère',\n",
       " 'violent': 'colère',\n",
       " 'violente': 'colère',\n",
       " 'violence': 'colère',\n",
       " 'agressive': 'colère',\n",
       " 'agressif': 'colère',\n",
       " 'vexé': 'colère',\n",
       " 'exaspérée': 'colère',\n",
       " 'exaspéré': 'colère',\n",
       " 'frustré': 'colère',\n",
       " 'cynique': 'colère',\n",
       " 'animosité': 'colère',\n",
       " 'frustrée': 'colère',\n",
       " 'frustration': 'colère',\n",
       " 'mécontent': 'colère',\n",
       " 'mécontentement': 'colère',\n",
       " 'violemment': 'colère',\n",
       " 'agacé': 'colère',\n",
       " 'agacée': 'colère',\n",
       " 'furax': 'colère',\n",
       " 'énervé': 'colère',\n",
       " 'énervée': 'colère',\n",
       " 'énervement': 'colère',\n",
       " 'scandalisé': 'colère',\n",
       " 'scandaleux': 'colère',\n",
       " 'provocation': 'colère',\n",
       " 'provocante': 'colère',\n",
       " 'provocant': 'colère',\n",
       " 'attachant': 'confiance',\n",
       " 'attachante': 'confiance',\n",
       " 'attachants': 'confiance',\n",
       " 'amitié': 'confiance',\n",
       " 'amical': 'confiance',\n",
       " 'amicale': 'confiance',\n",
       " 'intérêt': 'confiance',\n",
       " 'intéressant': 'réflexion',\n",
       " 'intéressante': 'réflexion',\n",
       " 'sympathie': 'confiance',\n",
       " 'apaisant': 'confiance',\n",
       " 'apaisante': 'confiance',\n",
       " 'calme': 'confiance',\n",
       " 'foi': 'confiance',\n",
       " 'confiance': 'confiance',\n",
       " 'serein': 'confiance',\n",
       " 'sereine': 'confiance',\n",
       " 'apaisé': 'confiance',\n",
       " 'confiant': 'confiance',\n",
       " 'optimiste': 'confiance',\n",
       " 'tranquille': 'confiance',\n",
       " 'tranquillement': 'confiance',\n",
       " 'admirable': 'confiance',\n",
       " 'paix': 'confiance',\n",
       " 'tranquillité': 'confiance',\n",
       " 'optimisme': 'confiance',\n",
       " 'détente': 'confiance',\n",
       " 'espérance': 'confiance',\n",
       " 'espoir': 'confiance',\n",
       " 'équilibré': 'confiance',\n",
       " 'détendu': 'confiance',\n",
       " 'bienveillant': 'confiance',\n",
       " 'bienveillance': 'confiance',\n",
       " 'touchant': 'confiance',\n",
       " 'touchante': 'confiance',\n",
       " 'touché': 'confiance',\n",
       " 'touchée': 'confiance',\n",
       " 'écoeuré': 'dégoût',\n",
       " 'écoeurée': 'dégoût',\n",
       " 'glauque': 'dégoût',\n",
       " 'lugubre': 'dégoût',\n",
       " 'dégoutant': 'dégoût',\n",
       " 'dégoutante': 'dégoût',\n",
       " 'crasse': 'dégoût',\n",
       " 'crasseuse': 'dégoût',\n",
       " 'saleté': 'dégoût',\n",
       " 'grossièreté': 'dégoût',\n",
       " 'grossière': 'dégoût',\n",
       " 'vulgaires': 'dégoût',\n",
       " 'grossier': 'dégoût',\n",
       " 'vulgaire': 'dégoût',\n",
       " 'vulgarité': 'dégoût',\n",
       " 'atroce': 'dégoût',\n",
       " 'atrocité': 'dégoût',\n",
       " 'aversion': 'dégoût',\n",
       " 'dégoûté': 'dégoût',\n",
       " 'rebuté': 'dégoût',\n",
       " 'répugné': 'dégoût',\n",
       " 'corruption': 'dégoût',\n",
       " 'corrompue': 'dégoût',\n",
       " 'corrompu': 'dégoût',\n",
       " 'laide': 'dégoût',\n",
       " 'impropre': 'dégoût',\n",
       " 'horrible': 'dégoût',\n",
       " 'affreux': 'dégoût',\n",
       " 'affreuse': 'dégoût',\n",
       " 'illisible': 'dégoût',\n",
       " 'moche': 'dégoût',\n",
       " 'souffrance': 'dégoût',\n",
       " 'horreur': 'dégoût',\n",
       " 'laid': 'dégoût',\n",
       " 'indigeste': 'dégoût',\n",
       " 'ignoble': 'dégoût',\n",
       " 'flop': 'dégoût',\n",
       " 'douloureux': 'dégoût',\n",
       " 'douloureuse': 'dégoût',\n",
       " 'laideur': 'dégoût',\n",
       " 'dégoût': 'dégoût',\n",
       " 'mauvais': 'dégoût',\n",
       " 'lamentable': 'dégoût',\n",
       " 'nulle': 'dégoût',\n",
       " 'inutile': 'dégoût',\n",
       " 'inutiles': 'dégoût',\n",
       " 'nul': 'dégoût',\n",
       " 'ennui': 'dégoût',\n",
       " 'crasseux': 'dégoût',\n",
       " 'ennuyeux': 'dégoût',\n",
       " 'lassitude': 'dégoût',\n",
       " 'immonde': 'dégoût',\n",
       " 'sale': 'dégoût',\n",
       " 'dégueulasse': 'dégoût',\n",
       " 'remords': 'honte',\n",
       " 'embarassé': 'honte',\n",
       " 'embarassée': 'honte',\n",
       " 'confuse': 'honte',\n",
       " 'gênée': 'honte',\n",
       " 'gêné': 'honte',\n",
       " 'gênant': 'honte',\n",
       " 'honteux': 'honte',\n",
       " 'honteuse': 'honte',\n",
       " 'honte': 'honte',\n",
       " 'gênante': 'honte',\n",
       " 'confus': 'honte',\n",
       " 'confusion': 'honte',\n",
       " 'gêne': 'honte',\n",
       " 'rabaissement': 'honte',\n",
       " 'humilant': 'honte',\n",
       " 'humiliante': 'honte',\n",
       " 'radieuse': 'joie',\n",
       " 'heureuse': 'joie',\n",
       " 'comblée': 'joie',\n",
       " 'ravie': 'joie',\n",
       " 'heureux ': 'joie',\n",
       " 'gai': 'joie',\n",
       " 'radieux ': 'joie',\n",
       " 'chaleureux': 'joie',\n",
       " 'comblé': 'joie',\n",
       " 'rire': 'joie',\n",
       " 'ravi ': 'joie',\n",
       " 'satisfait': 'joie',\n",
       " 'enchanté': 'joie',\n",
       " 'enchantée': 'joie',\n",
       " 'bienheureux': 'joie',\n",
       " 'joyeux': 'joie',\n",
       " 'enjoué': 'joie',\n",
       " 'content': 'joie',\n",
       " 'joyeuse': 'joie',\n",
       " 'contente': 'joie',\n",
       " 'rieur': 'joie',\n",
       " 'beau': 'joie',\n",
       " 'radieux': 'joie',\n",
       " 'joie': 'joie',\n",
       " 'réjoui': 'joie',\n",
       " 'contentement': 'joie',\n",
       " 'bonheur': 'joie',\n",
       " 'euphorie': 'joie',\n",
       " 'satisfaction': 'joie',\n",
       " 'plaisir': 'joie',\n",
       " 'paradis': 'joie',\n",
       " 'félicité': 'joie',\n",
       " 'rigolade': 'joie',\n",
       " 'allégresse': 'joie',\n",
       " 'enchantement ': 'joie',\n",
       " 'ravissement ': 'joie',\n",
       " 'jubilation': 'joie',\n",
       " 'gaieté': 'joie',\n",
       " 'enthousiaste': 'joie',\n",
       " 'ravi': 'joie',\n",
       " 'passionnant': 'joie',\n",
       " 'passionnante': 'joie',\n",
       " 'extase': 'joie',\n",
       " 'comique': 'joie',\n",
       " 'ébloui': 'joie',\n",
       " 'émerveillé': 'joie',\n",
       " 'amusé': 'joie',\n",
       " 'amusement': 'joie',\n",
       " 'rayonnant': 'joie',\n",
       " 'lumineux': 'joie',\n",
       " 'merveilleux': 'joie',\n",
       " 'drôle': 'joie',\n",
       " 'magnifique': 'joie',\n",
       " 'magique': 'joie',\n",
       " 'vibrant': 'joie',\n",
       " 'crainte': 'peur',\n",
       " 'tension': 'peur',\n",
       " 'inquiétude': 'peur',\n",
       " 'anxiété': 'peur',\n",
       " 'angoisse': 'peur',\n",
       " 'épouvante': 'peur',\n",
       " 'frayeur': 'peur',\n",
       " 'terreur': 'peur',\n",
       " 'panique': 'peur',\n",
       " 'craintif': 'peur',\n",
       " 'alarmé': 'peur',\n",
       " 'bouleversé': 'peur',\n",
       " 'inquiet ': 'peur',\n",
       " 'affolé': 'peur',\n",
       " 'anxieuse': 'peur',\n",
       " 'affolée': 'peur',\n",
       " 'bouleversée': 'peur',\n",
       " 'déboussolé': 'peur',\n",
       " 'stress': 'peur',\n",
       " 'stressé': 'peur',\n",
       " 'stressée': 'peur',\n",
       " 'inquiétant': 'peur',\n",
       " 'inquiétante': 'peur',\n",
       " 'inquiète': 'peur',\n",
       " 'anxieux ': 'peur',\n",
       " 'haletant': 'peur',\n",
       " 'haletante': 'peur',\n",
       " 'apeuré': 'peur',\n",
       " 'angoissé': 'peur',\n",
       " 'traumatisé': 'peur',\n",
       " 'épouvanté ': 'peur',\n",
       " 'perturbée': 'peur',\n",
       " 'perturbé': 'peur',\n",
       " 'stressant': 'peur',\n",
       " 'sinistre': 'peur',\n",
       " 'terrifié': 'peur',\n",
       " 'effrayé ': 'peur',\n",
       " 'trouble': 'peur',\n",
       " 'troublé': 'peur',\n",
       " 'terrorisé ': 'peur',\n",
       " 'terrorisée': 'peur',\n",
       " 'angoissante': 'peur',\n",
       " 'angoissant': 'peur',\n",
       " 'paniqué': 'peur',\n",
       " 'épouvantée ': 'peur',\n",
       " 'troublée': 'peur',\n",
       " 'terrifiée': 'peur',\n",
       " 'angoissée': 'peur',\n",
       " 'craintive': 'peur',\n",
       " 'paniquée': 'peur',\n",
       " 'réflexion': 'réflexion',\n",
       " 'philosophique': 'réflexion',\n",
       " 'inspirant': 'réflexion',\n",
       " 'inspirante': 'réflexion',\n",
       " 'onirique': 'réflexion',\n",
       " 'doute': 'réflexion',\n",
       " 'morale': 'réflexion',\n",
       " 'intelligence': 'réflexion',\n",
       " 'intelligent': 'réflexion',\n",
       " 'profond': 'réflexion',\n",
       " 'recul': 'réflexion',\n",
       " 'profondeur': 'réflexion',\n",
       " 'réfléchir': 'réflexion',\n",
       " 'surprenant': 'surprise',\n",
       " 'extraordinaire': 'surprise',\n",
       " 'stupéfiant': 'surprise',\n",
       " 'renversant': 'surprise',\n",
       " 'hors-du-commun': 'surprise',\n",
       " 'incohérente': 'surprise',\n",
       " 'farfelu': 'surprise',\n",
       " 'farfelue': 'surprise',\n",
       " 'farfelues': 'surprise',\n",
       " 'incohérentes': 'surprise',\n",
       " 'incohérent': 'surprise',\n",
       " 'incohérents': 'surprise',\n",
       " 'bizarres': 'surprise',\n",
       " 'bizarre': 'surprise',\n",
       " 'étrange': 'surprise',\n",
       " 'singulière': 'surprise',\n",
       " 'singulier': 'surprise',\n",
       " 'fantastique': 'surprise',\n",
       " 'rocambolesque': 'surprise',\n",
       " 'loufoque': 'surprise',\n",
       " 'claque': 'surprise',\n",
       " 'magistrale': 'surprise',\n",
       " 'magistral': 'surprise',\n",
       " 'hallucinant': 'surprise',\n",
       " 'déroutant': 'surprise',\n",
       " 'abasourdissant': 'surprise',\n",
       " 'improbable': 'surprise',\n",
       " 'ahurissante': 'surprise',\n",
       " 'déroutante': 'surprise',\n",
       " 'hallucinante': 'surprise',\n",
       " 'irrationnelle': 'surprise',\n",
       " 'irrationnel': 'surprise',\n",
       " 'rare': 'surprise',\n",
       " 'ahurissant': 'surprise',\n",
       " 'formidable': 'surprise',\n",
       " 'époustouflant': 'surprise',\n",
       " 'incroyable': 'surprise',\n",
       " 'inconcevable': 'surprise',\n",
       " 'inimaginable': 'surprise',\n",
       " 'inattendu': 'surprise',\n",
       " 'ébahi': 'surprise',\n",
       " 'ébahie': 'surprise',\n",
       " 'surpris': 'surprise',\n",
       " 'frappé': 'surprise',\n",
       " 'renversé': 'surprise',\n",
       " 'suffoqué': 'surprise',\n",
       " 'imprévisible': 'surprise',\n",
       " 'stupéfié': 'surprise',\n",
       " 'interloqué': 'surprise',\n",
       " 'abasourdi': 'surprise',\n",
       " 'epaté': 'surprise',\n",
       " 'estomaqué': 'surprise',\n",
       " 'inattendue': 'surprise',\n",
       " 'surprise': 'surprise',\n",
       " 'étonnement': 'surprise',\n",
       " 'impressionnant': 'surprise',\n",
       " 'impressionnante': 'surprise',\n",
       " 'stupéfait': 'surprise',\n",
       " 'déconcerté': 'surprise',\n",
       " 'bluffé': 'surprise',\n",
       " 'choqué': 'surprise',\n",
       " 'perplexe': 'surprise',\n",
       " 'perplexité': 'surprise',\n",
       " 'choc': 'surprise',\n",
       " 'prenant': 'tristesse',\n",
       " 'déchanté': 'tristesse',\n",
       " 'ému': 'tristesse',\n",
       " 'émue': 'tristesse',\n",
       " 'pleurs': 'tristesse',\n",
       " 'abattu': 'tristesse',\n",
       " 'accablé': 'tristesse',\n",
       " 'découragé': 'tristesse',\n",
       " 'regretté': 'tristesse',\n",
       " 'regret': 'tristesse',\n",
       " 'regrets': 'tristesse',\n",
       " 'triste': 'tristesse',\n",
       " 'affligé': 'tristesse',\n",
       " 'misérable': 'tristesse',\n",
       " 'misère': 'tristesse',\n",
       " 'monotone': 'tristesse',\n",
       " 'monotonie': 'tristesse',\n",
       " 'chagriné': 'tristesse',\n",
       " 'malheureux': 'tristesse',\n",
       " 'désolé': 'tristesse',\n",
       " 'peiné': 'tristesse',\n",
       " 'meurtri': 'tristesse',\n",
       " 'dommage': 'tristesse',\n",
       " 'déçu': 'tristesse',\n",
       " 'attristé': 'tristesse',\n",
       " 'déprimé': 'tristesse',\n",
       " 'nostalgique': 'tristesse',\n",
       " 'dépressif': 'tristesse',\n",
       " 'amertume': 'tristesse',\n",
       " 'amère': 'tristesse',\n",
       " 'amer': 'tristesse',\n",
       " 'dépressive': 'tristesse',\n",
       " 'tristesse': 'tristesse',\n",
       " 'peine': 'tristesse',\n",
       " 'chagrin': 'tristesse',\n",
       " 'désolation': 'tristesse',\n",
       " 'affliction': 'tristesse',\n",
       " 'morosité': 'tristesse',\n",
       " 'abattement': 'tristesse',\n",
       " 'désabusé': 'tristesse',\n",
       " 'désabusée': 'tristesse',\n",
       " 'fastidieux': 'tristesse',\n",
       " 'déçue': 'tristesse',\n",
       " 'dépression': 'tristesse',\n",
       " 'découragement ': 'tristesse',\n",
       " 'malheur': 'tristesse',\n",
       " 'larme': 'tristesse',\n",
       " 'larmes': 'tristesse',\n",
       " 'nostalgie': 'tristesse',\n",
       " 'déception': 'tristesse',\n",
       " 'morose': 'tristesse',\n",
       " 'pathétique': 'tristesse',\n",
       " 'despéré': 'tristesse',\n",
       " 'desespoir': 'tristesse',\n",
       " 'pessimiste': 'tristesse',\n",
       " 'pessimisme': 'tristesse',\n",
       " 'pleuré': 'tristesse',\n",
       " 'pleurer': 'tristesse',\n",
       " 'pénible': 'tristesse',\n",
       " 'désenchanté': 'tristesse',\n",
       " 'émouvant': 'tristesse',\n",
       " 'émouvante': 'tristesse',\n",
       " 'poignant': 'tristesse'}"
      ]
     },
     "execution_count": 18,
     "metadata": {},
     "output_type": "execute_result"
    }
   ],
   "source": [
    "# Import du lexique des émotions et transformation en dictionnaire\n",
    "\n",
    "emotions=pd.read_csv(\"lexique_emotions.csv\",delimiter=\";\")\n",
    "dict_emotions={m:s for m,s in zip(emotions[\"mot\"].tolist(),emotions[\"sentiment\"].tolist())}\n",
    "dict_emotions"
   ]
  },
  {
   "cell_type": "code",
   "execution_count": 4,
   "metadata": {},
   "outputs": [
    {
     "name": "stderr",
     "output_type": "stream",
     "text": [
      "c:\\Users\\antoi\\anaconda3\\lib\\site-packages\\spacy\\util.py:837: UserWarning: [W095] Model 'fr_core_news_sm' (3.1.0) was trained with spaCy v3.1 and may not be 100% compatible with the current version (3.3.1). If you see errors or degraded performance, download a newer compatible model or retrain your custom model with the current spaCy version. For more details and available updates, run: python -m spacy validate\n",
      "  warnings.warn(warn_msg)\n"
     ]
    }
   ],
   "source": [
    "# Import et chargement de la librairie Spacy en français\n",
    "\n",
    "import spacy\n",
    "nlp = spacy.load(\"fr_core_news_sm\")"
   ]
  },
  {
   "cell_type": "markdown",
   "metadata": {},
   "source": [
    "## Prétraitement de texte"
   ]
  },
  {
   "cell_type": "code",
   "execution_count": 5,
   "metadata": {},
   "outputs": [],
   "source": [
    "# Retrait des retour-chariot dans les commentaires\n",
    "\n",
    "df[\"commentaire\"]=df[\"commentaire\"].apply(lambda x : x.replace(\"\\n\",\"\").replace(\"\\t\",\"\"))"
   ]
  },
  {
   "cell_type": "code",
   "execution_count": 6,
   "metadata": {},
   "outputs": [],
   "source": [
    "#df[\"commentaire\"]=df[\"commentaire\"].apply(lambda x : \" \".join(x))"
   ]
  },
  {
   "cell_type": "code",
   "execution_count": 7,
   "metadata": {},
   "outputs": [
    {
     "data": {
      "text/plain": [
       "'!\"#$%&\\'()*+,-./:;<=>?@[\\\\]^_`{|}~'"
      ]
     },
     "execution_count": 7,
     "metadata": {},
     "output_type": "execute_result"
    }
   ],
   "source": [
    "import string\n",
    "string.punctuation"
   ]
  },
  {
   "cell_type": "code",
   "execution_count": 8,
   "metadata": {},
   "outputs": [
    {
     "name": "stderr",
     "output_type": "stream",
     "text": [
      "C:\\Users\\antoi\\AppData\\Local\\Temp\\ipykernel_9448\\3564798599.py:3: FutureWarning: The default value of regex will change from True to False in a future version.\n",
      "  df['com_process'] = df['commentaire'].str.replace(r\"[!\\\"#$%&()*+,-./:;•♪♫<=>«»?@[\\\\\\]^_`{|}~]+\", \" \")\n"
     ]
    },
    {
     "data": {
      "text/html": [
       "<div>\n",
       "<style scoped>\n",
       "    .dataframe tbody tr th:only-of-type {\n",
       "        vertical-align: middle;\n",
       "    }\n",
       "\n",
       "    .dataframe tbody tr th {\n",
       "        vertical-align: top;\n",
       "    }\n",
       "\n",
       "    .dataframe thead th {\n",
       "        text-align: right;\n",
       "    }\n",
       "</style>\n",
       "<table border=\"1\" class=\"dataframe\">\n",
       "  <thead>\n",
       "    <tr style=\"text-align: right;\">\n",
       "      <th></th>\n",
       "      <th>book_id</th>\n",
       "      <th>book_nb_comm</th>\n",
       "      <th>title</th>\n",
       "      <th>name</th>\n",
       "      <th>surname</th>\n",
       "      <th>tags</th>\n",
       "      <th>img_url</th>\n",
       "      <th>comm_id</th>\n",
       "      <th>user_id</th>\n",
       "      <th>note</th>\n",
       "      <th>date</th>\n",
       "      <th>appreciations</th>\n",
       "      <th>commentaire</th>\n",
       "      <th>com_process</th>\n",
       "    </tr>\n",
       "  </thead>\n",
       "  <tbody>\n",
       "    <tr>\n",
       "      <th>0</th>\n",
       "      <td>905033</td>\n",
       "      <td>137</td>\n",
       "      <td>Le gang de la clef à molette (Ne meurs pas, ô ...</td>\n",
       "      <td>Edward</td>\n",
       "      <td>Abbey</td>\n",
       "      <td>roman,romans policiers et polars,thriller,colo...</td>\n",
       "      <td>/couv/CVT_cvt_Le-gang-de-la-clef-a-molette_345...</td>\n",
       "      <td>2080694</td>\n",
       "      <td>706958</td>\n",
       "      <td>4.0</td>\n",
       "      <td>30 novembre 2019</td>\n",
       "      <td>85</td>\n",
       "      <td>Roadtrip désertique dans l'Ouest Américain en ...</td>\n",
       "      <td>roadtrip désertique dans l'ouest américain en ...</td>\n",
       "    </tr>\n",
       "    <tr>\n",
       "      <th>1</th>\n",
       "      <td>905033</td>\n",
       "      <td>137</td>\n",
       "      <td>Le gang de la clef à molette (Ne meurs pas, ô ...</td>\n",
       "      <td>Edward</td>\n",
       "      <td>Abbey</td>\n",
       "      <td>roman,romans policiers et polars,thriller,colo...</td>\n",
       "      <td>/couv/CVT_cvt_Le-gang-de-la-clef-a-molette_345...</td>\n",
       "      <td>1271915</td>\n",
       "      <td>319761</td>\n",
       "      <td>5.0</td>\n",
       "      <td>03 mars 2017</td>\n",
       "      <td>68</td>\n",
       "      <td>De temps en temps, j'aime bien revenir vers l'...</td>\n",
       "      <td>de temps en temps  j'aime bien revenir vers l'...</td>\n",
       "    </tr>\n",
       "    <tr>\n",
       "      <th>2</th>\n",
       "      <td>905033</td>\n",
       "      <td>137</td>\n",
       "      <td>Le gang de la clef à molette (Ne meurs pas, ô ...</td>\n",
       "      <td>Edward</td>\n",
       "      <td>Abbey</td>\n",
       "      <td>roman,romans policiers et polars,thriller,colo...</td>\n",
       "      <td>/couv/CVT_cvt_Le-gang-de-la-clef-a-molette_345...</td>\n",
       "      <td>1093854</td>\n",
       "      <td>128814</td>\n",
       "      <td>5.0</td>\n",
       "      <td>27 juin 2016</td>\n",
       "      <td>67</td>\n",
       "      <td>Depuis peu j'ai découvert grâce à \" Cardabelle...</td>\n",
       "      <td>depuis peu j'ai découvert grâce à   cardabelle...</td>\n",
       "    </tr>\n",
       "    <tr>\n",
       "      <th>3</th>\n",
       "      <td>905033</td>\n",
       "      <td>137</td>\n",
       "      <td>Le gang de la clef à molette (Ne meurs pas, ô ...</td>\n",
       "      <td>Edward</td>\n",
       "      <td>Abbey</td>\n",
       "      <td>roman,romans policiers et polars,thriller,colo...</td>\n",
       "      <td>/couv/CVT_cvt_Le-gang-de-la-clef-a-molette_345...</td>\n",
       "      <td>2711430</td>\n",
       "      <td>227017</td>\n",
       "      <td>4.5</td>\n",
       "      <td>22 juillet 2021</td>\n",
       "      <td>64</td>\n",
       "      <td>Ils sont quatre. Une blonde , jeunette, venue ...</td>\n",
       "      <td>ils sont quatre  une blonde   jeunette  venue ...</td>\n",
       "    </tr>\n",
       "    <tr>\n",
       "      <th>4</th>\n",
       "      <td>905033</td>\n",
       "      <td>137</td>\n",
       "      <td>Le gang de la clef à molette (Ne meurs pas, ô ...</td>\n",
       "      <td>Edward</td>\n",
       "      <td>Abbey</td>\n",
       "      <td>roman,romans policiers et polars,thriller,colo...</td>\n",
       "      <td>/couv/CVT_cvt_Le-gang-de-la-clef-a-molette_345...</td>\n",
       "      <td>2685514</td>\n",
       "      <td>138438</td>\n",
       "      <td>4.5</td>\n",
       "      <td>26 juin 2021</td>\n",
       "      <td>64</td>\n",
       "      <td>Avez-vous entendu cette info effrayante ? « La...</td>\n",
       "      <td>avez vous entendu cette info effrayante     la...</td>\n",
       "    </tr>\n",
       "  </tbody>\n",
       "</table>\n",
       "</div>"
      ],
      "text/plain": [
       "   book_id  book_nb_comm                                              title  \\\n",
       "0   905033           137  Le gang de la clef à molette (Ne meurs pas, ô ...   \n",
       "1   905033           137  Le gang de la clef à molette (Ne meurs pas, ô ...   \n",
       "2   905033           137  Le gang de la clef à molette (Ne meurs pas, ô ...   \n",
       "3   905033           137  Le gang de la clef à molette (Ne meurs pas, ô ...   \n",
       "4   905033           137  Le gang de la clef à molette (Ne meurs pas, ô ...   \n",
       "\n",
       "     name surname                                               tags  \\\n",
       "0  Edward   Abbey  roman,romans policiers et polars,thriller,colo...   \n",
       "1  Edward   Abbey  roman,romans policiers et polars,thriller,colo...   \n",
       "2  Edward   Abbey  roman,romans policiers et polars,thriller,colo...   \n",
       "3  Edward   Abbey  roman,romans policiers et polars,thriller,colo...   \n",
       "4  Edward   Abbey  roman,romans policiers et polars,thriller,colo...   \n",
       "\n",
       "                                             img_url  comm_id  user_id note  \\\n",
       "0  /couv/CVT_cvt_Le-gang-de-la-clef-a-molette_345...  2080694   706958  4.0   \n",
       "1  /couv/CVT_cvt_Le-gang-de-la-clef-a-molette_345...  1271915   319761  5.0   \n",
       "2  /couv/CVT_cvt_Le-gang-de-la-clef-a-molette_345...  1093854   128814  5.0   \n",
       "3  /couv/CVT_cvt_Le-gang-de-la-clef-a-molette_345...  2711430   227017  4.5   \n",
       "4  /couv/CVT_cvt_Le-gang-de-la-clef-a-molette_345...  2685514   138438  4.5   \n",
       "\n",
       "               date  appreciations  \\\n",
       "0  30 novembre 2019             85   \n",
       "1      03 mars 2017             68   \n",
       "2      27 juin 2016             67   \n",
       "3   22 juillet 2021             64   \n",
       "4      26 juin 2021             64   \n",
       "\n",
       "                                         commentaire  \\\n",
       "0  Roadtrip désertique dans l'Ouest Américain en ...   \n",
       "1  De temps en temps, j'aime bien revenir vers l'...   \n",
       "2  Depuis peu j'ai découvert grâce à \" Cardabelle...   \n",
       "3  Ils sont quatre. Une blonde , jeunette, venue ...   \n",
       "4  Avez-vous entendu cette info effrayante ? « La...   \n",
       "\n",
       "                                         com_process  \n",
       "0  roadtrip désertique dans l'ouest américain en ...  \n",
       "1  de temps en temps  j'aime bien revenir vers l'...  \n",
       "2  depuis peu j'ai découvert grâce à   cardabelle...  \n",
       "3  ils sont quatre  une blonde   jeunette  venue ...  \n",
       "4  avez vous entendu cette info effrayante     la...  "
      ]
     },
     "execution_count": 8,
     "metadata": {},
     "output_type": "execute_result"
    }
   ],
   "source": [
    "# Retrait des caractères spéciaux et mise en minuscules des mots\n",
    "\n",
    "df['com_process'] = df['commentaire'].str.replace(r\"[!\\\"#$%&()*+,-./:;•♪♫<=>«»?@[\\\\\\]^_`{|}~]+\", \" \")\n",
    "df['com_process'] = df['com_process'].fillna('').apply(lambda x: x.lower())\n",
    "df.head(5)"
   ]
  },
  {
   "cell_type": "code",
   "execution_count": 9,
   "metadata": {},
   "outputs": [],
   "source": [
    "#df['commentaire'].str.replace('[^A-zA-ù0-9]', ' ', regex=True)"
   ]
  },
  {
   "cell_type": "code",
   "execution_count": 10,
   "metadata": {},
   "outputs": [],
   "source": [
    "df[\"note\"]=df[\"note\"].replace(\"\",np.nan)"
   ]
  },
  {
   "cell_type": "code",
   "execution_count": 11,
   "metadata": {},
   "outputs": [],
   "source": [
    "df[\"note\"]=df[\"note\"].astype(\"float\")"
   ]
  },
  {
   "cell_type": "code",
   "execution_count": 12,
   "metadata": {},
   "outputs": [],
   "source": [
    "df[\"note_p\"]=df[\"note\"]/5"
   ]
  },
  {
   "cell_type": "code",
   "execution_count": 13,
   "metadata": {},
   "outputs": [],
   "source": [
    "# Import des mots-vides de la langue française\n",
    "\n",
    "from spacy.lang.fr.stop_words import STOP_WORDS as mots_vides"
   ]
  },
  {
   "cell_type": "code",
   "execution_count": 14,
   "metadata": {},
   "outputs": [],
   "source": [
    "# Ajout de certains mots récurrents aux mots-vides\n",
    "\n",
    "nlp.Defaults.stop_words.add(\"d\")\n",
    "nlp.Defaults.stop_words.add(\"l\")\n",
    "nlp.Defaults.stop_words.add(\"n\")\n",
    "nlp.Defaults.stop_words.add(\"livre\")\n",
    "nlp.Defaults.stop_words.add(\"roman\")\n",
    "nlp.Defaults.stop_words.add(\"auteur\")\n",
    "nlp.Defaults.stop_words.add(\"personnage\")\n",
    "nlp.Defaults.stop_words.add(\"personnages\")"
   ]
  },
  {
   "cell_type": "code",
   "execution_count": 15,
   "metadata": {},
   "outputs": [],
   "source": [
    "# Ajout des noms et prénoms des auteurs et autrices aux mots-vides\n",
    "\n",
    "for e in df[\"name\"].unique():\n",
    "    nlp.Defaults.stop_words.add(str.lower(e))\n",
    "\n",
    "for e in df[\"surname\"].unique():\n",
    "    nlp.Defaults.stop_words.add(str.lower(e))"
   ]
  },
  {
   "cell_type": "code",
   "execution_count": 16,
   "metadata": {},
   "outputs": [
    {
     "ename": "KeyboardInterrupt",
     "evalue": "",
     "output_type": "error",
     "traceback": [
      "\u001b[1;31m---------------------------------------------------------------------------\u001b[0m",
      "\u001b[1;31mKeyboardInterrupt\u001b[0m                         Traceback (most recent call last)",
      "\u001b[1;32m~\\AppData\\Local\\Temp\\ipykernel_9448\\1455066796.py\u001b[0m in \u001b[0;36m<module>\u001b[1;34m\u001b[0m\n\u001b[0;32m      1\u001b[0m \u001b[1;31m# Tokenization des commentaires en prétraitement\u001b[0m\u001b[1;33m\u001b[0m\u001b[1;33m\u001b[0m\u001b[0m\n\u001b[0;32m      2\u001b[0m \u001b[1;33m\u001b[0m\u001b[0m\n\u001b[1;32m----> 3\u001b[1;33m \u001b[0mtokenized_doc\u001b[0m \u001b[1;33m=\u001b[0m \u001b[0mdf\u001b[0m\u001b[1;33m[\u001b[0m\u001b[1;34m'com_process'\u001b[0m\u001b[1;33m]\u001b[0m\u001b[1;33m.\u001b[0m\u001b[0mfillna\u001b[0m\u001b[1;33m(\u001b[0m\u001b[1;34m''\u001b[0m\u001b[1;33m)\u001b[0m\u001b[1;33m.\u001b[0m\u001b[0mapply\u001b[0m\u001b[1;33m(\u001b[0m\u001b[1;32mlambda\u001b[0m \u001b[0mx\u001b[0m\u001b[1;33m:\u001b[0m \u001b[0mnlp\u001b[0m\u001b[1;33m(\u001b[0m\u001b[0mx\u001b[0m\u001b[1;33m)\u001b[0m\u001b[1;33m)\u001b[0m\u001b[1;33m\u001b[0m\u001b[1;33m\u001b[0m\u001b[0m\n\u001b[0m\u001b[0;32m      4\u001b[0m \u001b[1;33m\u001b[0m\u001b[0m\n",
      "\u001b[1;32mc:\\Users\\antoi\\anaconda3\\lib\\site-packages\\pandas\\core\\series.py\u001b[0m in \u001b[0;36mapply\u001b[1;34m(self, func, convert_dtype, args, **kwargs)\u001b[0m\n\u001b[0;32m   4431\u001b[0m         \u001b[0mdtype\u001b[0m\u001b[1;33m:\u001b[0m \u001b[0mfloat64\u001b[0m\u001b[1;33m\u001b[0m\u001b[1;33m\u001b[0m\u001b[0m\n\u001b[0;32m   4432\u001b[0m         \"\"\"\n\u001b[1;32m-> 4433\u001b[1;33m         \u001b[1;32mreturn\u001b[0m \u001b[0mSeriesApply\u001b[0m\u001b[1;33m(\u001b[0m\u001b[0mself\u001b[0m\u001b[1;33m,\u001b[0m \u001b[0mfunc\u001b[0m\u001b[1;33m,\u001b[0m \u001b[0mconvert_dtype\u001b[0m\u001b[1;33m,\u001b[0m \u001b[0margs\u001b[0m\u001b[1;33m,\u001b[0m \u001b[0mkwargs\u001b[0m\u001b[1;33m)\u001b[0m\u001b[1;33m.\u001b[0m\u001b[0mapply\u001b[0m\u001b[1;33m(\u001b[0m\u001b[1;33m)\u001b[0m\u001b[1;33m\u001b[0m\u001b[1;33m\u001b[0m\u001b[0m\n\u001b[0m\u001b[0;32m   4434\u001b[0m \u001b[1;33m\u001b[0m\u001b[0m\n\u001b[0;32m   4435\u001b[0m     def _reduce(\n",
      "\u001b[1;32mc:\\Users\\antoi\\anaconda3\\lib\\site-packages\\pandas\\core\\apply.py\u001b[0m in \u001b[0;36mapply\u001b[1;34m(self)\u001b[0m\n\u001b[0;32m   1086\u001b[0m             \u001b[1;32mreturn\u001b[0m \u001b[0mself\u001b[0m\u001b[1;33m.\u001b[0m\u001b[0mapply_str\u001b[0m\u001b[1;33m(\u001b[0m\u001b[1;33m)\u001b[0m\u001b[1;33m\u001b[0m\u001b[1;33m\u001b[0m\u001b[0m\n\u001b[0;32m   1087\u001b[0m \u001b[1;33m\u001b[0m\u001b[0m\n\u001b[1;32m-> 1088\u001b[1;33m         \u001b[1;32mreturn\u001b[0m \u001b[0mself\u001b[0m\u001b[1;33m.\u001b[0m\u001b[0mapply_standard\u001b[0m\u001b[1;33m(\u001b[0m\u001b[1;33m)\u001b[0m\u001b[1;33m\u001b[0m\u001b[1;33m\u001b[0m\u001b[0m\n\u001b[0m\u001b[0;32m   1089\u001b[0m \u001b[1;33m\u001b[0m\u001b[0m\n\u001b[0;32m   1090\u001b[0m     \u001b[1;32mdef\u001b[0m \u001b[0magg\u001b[0m\u001b[1;33m(\u001b[0m\u001b[0mself\u001b[0m\u001b[1;33m)\u001b[0m\u001b[1;33m:\u001b[0m\u001b[1;33m\u001b[0m\u001b[1;33m\u001b[0m\u001b[0m\n",
      "\u001b[1;32mc:\\Users\\antoi\\anaconda3\\lib\\site-packages\\pandas\\core\\apply.py\u001b[0m in \u001b[0;36mapply_standard\u001b[1;34m(self)\u001b[0m\n\u001b[0;32m   1141\u001b[0m                 \u001b[1;31m# List[Union[Callable[..., Any], str]]]]]\"; expected\u001b[0m\u001b[1;33m\u001b[0m\u001b[1;33m\u001b[0m\u001b[0m\n\u001b[0;32m   1142\u001b[0m                 \u001b[1;31m# \"Callable[[Any], Any]\"\u001b[0m\u001b[1;33m\u001b[0m\u001b[1;33m\u001b[0m\u001b[0m\n\u001b[1;32m-> 1143\u001b[1;33m                 mapped = lib.map_infer(\n\u001b[0m\u001b[0;32m   1144\u001b[0m                     \u001b[0mvalues\u001b[0m\u001b[1;33m,\u001b[0m\u001b[1;33m\u001b[0m\u001b[1;33m\u001b[0m\u001b[0m\n\u001b[0;32m   1145\u001b[0m                     \u001b[0mf\u001b[0m\u001b[1;33m,\u001b[0m  \u001b[1;31m# type: ignore[arg-type]\u001b[0m\u001b[1;33m\u001b[0m\u001b[1;33m\u001b[0m\u001b[0m\n",
      "\u001b[1;32mc:\\Users\\antoi\\anaconda3\\lib\\site-packages\\pandas\\_libs\\lib.pyx\u001b[0m in \u001b[0;36mpandas._libs.lib.map_infer\u001b[1;34m()\u001b[0m\n",
      "\u001b[1;32m~\\AppData\\Local\\Temp\\ipykernel_9448\\1455066796.py\u001b[0m in \u001b[0;36m<lambda>\u001b[1;34m(x)\u001b[0m\n\u001b[0;32m      1\u001b[0m \u001b[1;31m# Tokenization des commentaires en prétraitement\u001b[0m\u001b[1;33m\u001b[0m\u001b[1;33m\u001b[0m\u001b[0m\n\u001b[0;32m      2\u001b[0m \u001b[1;33m\u001b[0m\u001b[0m\n\u001b[1;32m----> 3\u001b[1;33m \u001b[0mtokenized_doc\u001b[0m \u001b[1;33m=\u001b[0m \u001b[0mdf\u001b[0m\u001b[1;33m[\u001b[0m\u001b[1;34m'com_process'\u001b[0m\u001b[1;33m]\u001b[0m\u001b[1;33m.\u001b[0m\u001b[0mfillna\u001b[0m\u001b[1;33m(\u001b[0m\u001b[1;34m''\u001b[0m\u001b[1;33m)\u001b[0m\u001b[1;33m.\u001b[0m\u001b[0mapply\u001b[0m\u001b[1;33m(\u001b[0m\u001b[1;32mlambda\u001b[0m \u001b[0mx\u001b[0m\u001b[1;33m:\u001b[0m \u001b[0mnlp\u001b[0m\u001b[1;33m(\u001b[0m\u001b[0mx\u001b[0m\u001b[1;33m)\u001b[0m\u001b[1;33m)\u001b[0m\u001b[1;33m\u001b[0m\u001b[1;33m\u001b[0m\u001b[0m\n\u001b[0m\u001b[0;32m      4\u001b[0m \u001b[1;33m\u001b[0m\u001b[0m\n",
      "\u001b[1;32mc:\\Users\\antoi\\anaconda3\\lib\\site-packages\\spacy\\language.py\u001b[0m in \u001b[0;36m__call__\u001b[1;34m(self, text, disable, component_cfg)\u001b[0m\n\u001b[0;32m   1018\u001b[0m                 \u001b[0merror_handler\u001b[0m \u001b[1;33m=\u001b[0m \u001b[0mproc\u001b[0m\u001b[1;33m.\u001b[0m\u001b[0mget_error_handler\u001b[0m\u001b[1;33m(\u001b[0m\u001b[1;33m)\u001b[0m\u001b[1;33m\u001b[0m\u001b[1;33m\u001b[0m\u001b[0m\n\u001b[0;32m   1019\u001b[0m             \u001b[1;32mtry\u001b[0m\u001b[1;33m:\u001b[0m\u001b[1;33m\u001b[0m\u001b[1;33m\u001b[0m\u001b[0m\n\u001b[1;32m-> 1020\u001b[1;33m                 \u001b[0mdoc\u001b[0m \u001b[1;33m=\u001b[0m \u001b[0mproc\u001b[0m\u001b[1;33m(\u001b[0m\u001b[0mdoc\u001b[0m\u001b[1;33m,\u001b[0m \u001b[1;33m**\u001b[0m\u001b[0mcomponent_cfg\u001b[0m\u001b[1;33m.\u001b[0m\u001b[0mget\u001b[0m\u001b[1;33m(\u001b[0m\u001b[0mname\u001b[0m\u001b[1;33m,\u001b[0m \u001b[1;33m{\u001b[0m\u001b[1;33m}\u001b[0m\u001b[1;33m)\u001b[0m\u001b[1;33m)\u001b[0m  \u001b[1;31m# type: ignore[call-arg]\u001b[0m\u001b[1;33m\u001b[0m\u001b[1;33m\u001b[0m\u001b[0m\n\u001b[0m\u001b[0;32m   1021\u001b[0m             \u001b[1;32mexcept\u001b[0m \u001b[0mKeyError\u001b[0m \u001b[1;32mas\u001b[0m \u001b[0me\u001b[0m\u001b[1;33m:\u001b[0m\u001b[1;33m\u001b[0m\u001b[1;33m\u001b[0m\u001b[0m\n\u001b[0;32m   1022\u001b[0m                 \u001b[1;31m# This typically happens if a component is not initialized\u001b[0m\u001b[1;33m\u001b[0m\u001b[1;33m\u001b[0m\u001b[0m\n",
      "\u001b[1;32mc:\\Users\\antoi\\anaconda3\\lib\\site-packages\\spacy\\pipeline\\lemmatizer.py\u001b[0m in \u001b[0;36m__call__\u001b[1;34m(self, doc)\u001b[0m\n\u001b[0;32m    133\u001b[0m             \u001b[1;32mfor\u001b[0m \u001b[0mtoken\u001b[0m \u001b[1;32min\u001b[0m \u001b[0mdoc\u001b[0m\u001b[1;33m:\u001b[0m\u001b[1;33m\u001b[0m\u001b[1;33m\u001b[0m\u001b[0m\n\u001b[0;32m    134\u001b[0m                 \u001b[1;32mif\u001b[0m \u001b[0mself\u001b[0m\u001b[1;33m.\u001b[0m\u001b[0moverwrite\u001b[0m \u001b[1;32mor\u001b[0m \u001b[0mtoken\u001b[0m\u001b[1;33m.\u001b[0m\u001b[0mlemma\u001b[0m \u001b[1;33m==\u001b[0m \u001b[1;36m0\u001b[0m\u001b[1;33m:\u001b[0m\u001b[1;33m\u001b[0m\u001b[1;33m\u001b[0m\u001b[0m\n\u001b[1;32m--> 135\u001b[1;33m                     \u001b[0mtoken\u001b[0m\u001b[1;33m.\u001b[0m\u001b[0mlemma_\u001b[0m \u001b[1;33m=\u001b[0m \u001b[0mself\u001b[0m\u001b[1;33m.\u001b[0m\u001b[0mlemmatize\u001b[0m\u001b[1;33m(\u001b[0m\u001b[0mtoken\u001b[0m\u001b[1;33m)\u001b[0m\u001b[1;33m[\u001b[0m\u001b[1;36m0\u001b[0m\u001b[1;33m]\u001b[0m\u001b[1;33m\u001b[0m\u001b[1;33m\u001b[0m\u001b[0m\n\u001b[0m\u001b[0;32m    136\u001b[0m             \u001b[1;32mreturn\u001b[0m \u001b[0mdoc\u001b[0m\u001b[1;33m\u001b[0m\u001b[1;33m\u001b[0m\u001b[0m\n\u001b[0;32m    137\u001b[0m         \u001b[1;32mexcept\u001b[0m \u001b[0mException\u001b[0m \u001b[1;32mas\u001b[0m \u001b[0me\u001b[0m\u001b[1;33m:\u001b[0m\u001b[1;33m\u001b[0m\u001b[1;33m\u001b[0m\u001b[0m\n",
      "\u001b[1;32mc:\\Users\\antoi\\anaconda3\\lib\\site-packages\\spacy\\lang\\fr\\lemmatizer.py\u001b[0m in \u001b[0;36mrule_lemmatize\u001b[1;34m(self, token)\u001b[0m\n\u001b[0;32m     67\u001b[0m                         \u001b[1;32mpass\u001b[0m\u001b[1;33m\u001b[0m\u001b[1;33m\u001b[0m\u001b[0m\n\u001b[0;32m     68\u001b[0m                     \u001b[1;32melif\u001b[0m \u001b[0mform\u001b[0m \u001b[1;32min\u001b[0m \u001b[0mindex\u001b[0m \u001b[1;32mor\u001b[0m \u001b[1;32mnot\u001b[0m \u001b[0mform\u001b[0m\u001b[1;33m.\u001b[0m\u001b[0misalpha\u001b[0m\u001b[1;33m(\u001b[0m\u001b[1;33m)\u001b[0m\u001b[1;33m:\u001b[0m\u001b[1;33m\u001b[0m\u001b[1;33m\u001b[0m\u001b[0m\n\u001b[1;32m---> 69\u001b[1;33m                         \u001b[0mforms\u001b[0m\u001b[1;33m.\u001b[0m\u001b[0mappend\u001b[0m\u001b[1;33m(\u001b[0m\u001b[0mform\u001b[0m\u001b[1;33m)\u001b[0m\u001b[1;33m\u001b[0m\u001b[1;33m\u001b[0m\u001b[0m\n\u001b[0m\u001b[0;32m     70\u001b[0m                     \u001b[1;32melse\u001b[0m\u001b[1;33m:\u001b[0m\u001b[1;33m\u001b[0m\u001b[1;33m\u001b[0m\u001b[0m\n\u001b[0;32m     71\u001b[0m                         \u001b[0moov_forms\u001b[0m\u001b[1;33m.\u001b[0m\u001b[0mappend\u001b[0m\u001b[1;33m(\u001b[0m\u001b[0mform\u001b[0m\u001b[1;33m)\u001b[0m\u001b[1;33m\u001b[0m\u001b[1;33m\u001b[0m\u001b[0m\n",
      "\u001b[1;31mKeyboardInterrupt\u001b[0m: "
     ]
    }
   ],
   "source": [
    "# Tokenization des commentaires en prétraitement\n",
    "\n",
    "tokenized_doc = df['com_process'].fillna('').apply(lambda x: nlp(x))\n",
    "\n"
   ]
  },
  {
   "cell_type": "code",
   "execution_count": null,
   "metadata": {},
   "outputs": [],
   "source": [
    "# Retrait effectif des mots-vides\n",
    "\n",
    "df[\"tokenized\"] = tokenized_doc.apply(lambda x: [token for token in x if token.text not in mots_vides])"
   ]
  },
  {
   "cell_type": "code",
   "execution_count": null,
   "metadata": {},
   "outputs": [],
   "source": [
    "# Finalisation du prétraitement de texte des commentaires\n",
    "\n",
    "df[\"com_final\"] = tokenized_doc.apply(lambda x: ' '.join(str(v) for v in x))"
   ]
  },
  {
   "cell_type": "code",
   "execution_count": null,
   "metadata": {},
   "outputs": [],
   "source": [
    "# Isolement des mots liés aux sentiments répertoriés dans le dictionnaire des émotions\n",
    "\n",
    "df[\"filtre_sentiments\"] = tokenized_doc.apply(lambda x: [token for token in x if token.text not in mots_vides and token.text in dict_emotions.keys()])\n"
   ]
  },
  {
   "cell_type": "code",
   "execution_count": null,
   "metadata": {},
   "outputs": [],
   "source": [
    "# Identification des sentiments correspondants\n",
    "\n",
    "df[\"sentimentest\"] = tokenized_doc.apply(lambda x: [dict_emotions[token.text] for token in x if token.text not in mots_vides and token.text in dict_emotions.keys()])\n"
   ]
  },
  {
   "cell_type": "code",
   "execution_count": null,
   "metadata": {},
   "outputs": [],
   "source": [
    "# Finalisation du prétraitement focalisé sur les sentiments\n",
    "\n",
    "df[\"sentiments_final\"] = df[\"sentimentest\"].apply(lambda x: ' '.join(str(v) for v in x))"
   ]
  },
  {
   "cell_type": "code",
   "execution_count": null,
   "metadata": {},
   "outputs": [],
   "source": [
    "#ds[\"filtre_sentiments\"] = tokenized_doc.apply(lambda x: [token for token in x if token.text not in mots_vides and token.text in dict_emotions.keys()])"
   ]
  },
  {
   "cell_type": "code",
   "execution_count": null,
   "metadata": {},
   "outputs": [],
   "source": [
    "df[\"tokenized_doc\"]=tokenized_doc"
   ]
  },
  {
   "cell_type": "code",
   "execution_count": null,
   "metadata": {},
   "outputs": [],
   "source": [
    "# Enregistrement du dataframe au format csv pour utilisations futures\n",
    "\n",
    "df.to_csv(\"df_nlp.csv\",encoding=\"utf-8\")"
   ]
  },
  {
   "cell_type": "code",
   "execution_count": null,
   "metadata": {},
   "outputs": [
    {
     "data": {
      "text/html": [
       "<div>\n",
       "<style scoped>\n",
       "    .dataframe tbody tr th:only-of-type {\n",
       "        vertical-align: middle;\n",
       "    }\n",
       "\n",
       "    .dataframe tbody tr th {\n",
       "        vertical-align: top;\n",
       "    }\n",
       "\n",
       "    .dataframe thead th {\n",
       "        text-align: right;\n",
       "    }\n",
       "</style>\n",
       "<table border=\"1\" class=\"dataframe\">\n",
       "  <thead>\n",
       "    <tr style=\"text-align: right;\">\n",
       "      <th></th>\n",
       "      <th>Unnamed: 0</th>\n",
       "      <th>book_id</th>\n",
       "      <th>book_nb_comm</th>\n",
       "      <th>title</th>\n",
       "      <th>name</th>\n",
       "      <th>surname</th>\n",
       "      <th>tags</th>\n",
       "      <th>img_url</th>\n",
       "      <th>comm_id</th>\n",
       "      <th>user_id</th>\n",
       "      <th>...</th>\n",
       "      <th>appreciations</th>\n",
       "      <th>commentaire</th>\n",
       "      <th>note_p</th>\n",
       "      <th>com_process</th>\n",
       "      <th>tokenized</th>\n",
       "      <th>filtre_sentiments</th>\n",
       "      <th>sentimentest</th>\n",
       "      <th>sentiments_final</th>\n",
       "      <th>com_final</th>\n",
       "      <th>tokenized_doc</th>\n",
       "    </tr>\n",
       "  </thead>\n",
       "  <tbody>\n",
       "    <tr>\n",
       "      <th>0</th>\n",
       "      <td>0</td>\n",
       "      <td>905033</td>\n",
       "      <td>137</td>\n",
       "      <td>Le gang de la clef à molette (Ne meurs pas, ô ...</td>\n",
       "      <td>Edward</td>\n",
       "      <td>Abbey</td>\n",
       "      <td>roman,romans policiers et polars,thriller,colo...</td>\n",
       "      <td>/couv/CVT_cvt_Le-gang-de-la-clef-a-molette_345...</td>\n",
       "      <td>2080694</td>\n",
       "      <td>706958</td>\n",
       "      <td>...</td>\n",
       "      <td>85</td>\n",
       "      <td>Roadtrip désertique dans l'Ouest Américain en ...</td>\n",
       "      <td>0.8</td>\n",
       "      <td>roadtrip désertique dans l'ouest américain en ...</td>\n",
       "      <td>[roadtrip, désertique, ouest, américain, compa...</td>\n",
       "      <td>[furieux, plaisir]</td>\n",
       "      <td>['colère', 'joie']</td>\n",
       "      <td>colère joie</td>\n",
       "      <td>roadtrip désertique dans l' ouest américain en...</td>\n",
       "      <td>roadtrip désertique dans l'ouest américain en ...</td>\n",
       "    </tr>\n",
       "    <tr>\n",
       "      <th>1</th>\n",
       "      <td>1</td>\n",
       "      <td>905033</td>\n",
       "      <td>137</td>\n",
       "      <td>Le gang de la clef à molette (Ne meurs pas, ô ...</td>\n",
       "      <td>Edward</td>\n",
       "      <td>Abbey</td>\n",
       "      <td>roman,romans policiers et polars,thriller,colo...</td>\n",
       "      <td>/couv/CVT_cvt_Le-gang-de-la-clef-a-molette_345...</td>\n",
       "      <td>1271915</td>\n",
       "      <td>319761</td>\n",
       "      <td>...</td>\n",
       "      <td>68</td>\n",
       "      <td>De temps en temps, j'aime bien revenir vers l'...</td>\n",
       "      <td>1.0</td>\n",
       "      <td>de temps en temps  j'aime bien revenir vers l'...</td>\n",
       "      <td>[temps, temps,  , aime, bien, revenir, oeuvre,...</td>\n",
       "      <td>[réflexion, intelligent, bonheur, plaisir, rir...</td>\n",
       "      <td>['réflexion', 'réflexion', 'joie', 'joie', 'jo...</td>\n",
       "      <td>réflexion réflexion joie joie joie peur joie</td>\n",
       "      <td>de temps en temps   j' aime bien revenir vers ...</td>\n",
       "      <td>de temps en temps  j'aime bien revenir vers l'...</td>\n",
       "    </tr>\n",
       "  </tbody>\n",
       "</table>\n",
       "<p>2 rows × 22 columns</p>\n",
       "</div>"
      ],
      "text/plain": [
       "   Unnamed: 0  book_id  book_nb_comm  \\\n",
       "0           0   905033           137   \n",
       "1           1   905033           137   \n",
       "\n",
       "                                               title    name surname  \\\n",
       "0  Le gang de la clef à molette (Ne meurs pas, ô ...  Edward   Abbey   \n",
       "1  Le gang de la clef à molette (Ne meurs pas, ô ...  Edward   Abbey   \n",
       "\n",
       "                                                tags  \\\n",
       "0  roman,romans policiers et polars,thriller,colo...   \n",
       "1  roman,romans policiers et polars,thriller,colo...   \n",
       "\n",
       "                                             img_url  comm_id  user_id  ...  \\\n",
       "0  /couv/CVT_cvt_Le-gang-de-la-clef-a-molette_345...  2080694   706958  ...   \n",
       "1  /couv/CVT_cvt_Le-gang-de-la-clef-a-molette_345...  1271915   319761  ...   \n",
       "\n",
       "   appreciations                                        commentaire  note_p  \\\n",
       "0             85  Roadtrip désertique dans l'Ouest Américain en ...     0.8   \n",
       "1             68  De temps en temps, j'aime bien revenir vers l'...     1.0   \n",
       "\n",
       "                                         com_process  \\\n",
       "0  roadtrip désertique dans l'ouest américain en ...   \n",
       "1  de temps en temps  j'aime bien revenir vers l'...   \n",
       "\n",
       "                                           tokenized  \\\n",
       "0  [roadtrip, désertique, ouest, américain, compa...   \n",
       "1  [temps, temps,  , aime, bien, revenir, oeuvre,...   \n",
       "\n",
       "                                   filtre_sentiments  \\\n",
       "0                                 [furieux, plaisir]   \n",
       "1  [réflexion, intelligent, bonheur, plaisir, rir...   \n",
       "\n",
       "                                        sentimentest  \\\n",
       "0                                 ['colère', 'joie']   \n",
       "1  ['réflexion', 'réflexion', 'joie', 'joie', 'jo...   \n",
       "\n",
       "                               sentiments_final  \\\n",
       "0                                   colère joie   \n",
       "1  réflexion réflexion joie joie joie peur joie   \n",
       "\n",
       "                                           com_final  \\\n",
       "0  roadtrip désertique dans l' ouest américain en...   \n",
       "1  de temps en temps   j' aime bien revenir vers ...   \n",
       "\n",
       "                                       tokenized_doc  \n",
       "0  roadtrip désertique dans l'ouest américain en ...  \n",
       "1  de temps en temps  j'aime bien revenir vers l'...  \n",
       "\n",
       "[2 rows x 22 columns]"
      ]
     },
     "execution_count": 29,
     "metadata": {},
     "output_type": "execute_result"
    }
   ],
   "source": [
    "dtest=pd.read_csv(\"df_nlp.csv\")\n",
    "dtest.head(2)"
   ]
  },
  {
   "cell_type": "code",
   "execution_count": null,
   "metadata": {},
   "outputs": [],
   "source": [
    "def return_POS(sentence):\n",
    "    # Tokeniser la phrase\n",
    "    doc = nlp(sentence)\n",
    "    # Retourner les étiquettes de chaque token\n",
    "    return [(X, X.pos_) for X in doc]"
   ]
  },
  {
   "cell_type": "code",
   "execution_count": null,
   "metadata": {},
   "outputs": [],
   "source": [
    "dict={pos[0].text:pos[1] for pos in return_POS(df.loc[0,\"com_final\"])}"
   ]
  },
  {
   "cell_type": "code",
   "execution_count": null,
   "metadata": {},
   "outputs": [],
   "source": [
    "adjectifs=[m for m in dict if dict[m]==\"ADJ\"]"
   ]
  },
  {
   "cell_type": "markdown",
   "metadata": {},
   "source": [
    "## Analyse exploratoire"
   ]
  },
  {
   "cell_type": "code",
   "execution_count": null,
   "metadata": {},
   "outputs": [],
   "source": [
    "import matplotlib.pyplot as plt\n",
    "import wordcloud"
   ]
  },
  {
   "cell_type": "code",
   "execution_count": null,
   "metadata": {},
   "outputs": [],
   "source": [
    "doc=nlp(df.loc[0,\"com_final\"])"
   ]
  },
  {
   "cell_type": "code",
   "execution_count": null,
   "metadata": {},
   "outputs": [
    {
     "data": {
      "text/plain": [
       "'Le gone du Chaâba'"
      ]
     },
     "execution_count": 93,
     "metadata": {},
     "output_type": "execute_result"
    }
   ],
   "source": [
    "random_title = np.random.choice(df[\"title\"].unique())\n",
    "random_title"
   ]
  },
  {
   "cell_type": "code",
   "execution_count": null,
   "metadata": {},
   "outputs": [],
   "source": [
    "ndm = nlp(\" \".join(df[df[\"title\"]==random_title].loc[:,\"sentiments_final\"].tolist()))"
   ]
  },
  {
   "cell_type": "code",
   "execution_count": null,
   "metadata": {},
   "outputs": [
    {
     "data": {
      "image/png": "[encoded data removed]",
      "text/plain": [
       "<Figure size 2000x2000 with 1 Axes>"
      ]
     },
     "metadata": {},
     "output_type": "display_data"
    }
   ],
   "source": [
    "wd = wordcloud.WordCloud()\n",
    "cloud = wd.generate(ndm.text)\n",
    "\n",
    "# Show word cloud with matplotlib \n",
    "plt.figure(figsize=(20,20))\n",
    "plt.imshow(cloud)\n",
    "plt.title(random_title,fontsize=20)\n",
    "\n",
    "\n",
    "# Remove trailing logs \n",
    "plt.show()"
   ]
  },
  {
   "cell_type": "markdown",
   "metadata": {},
   "source": [
    "## Création des vecteurs de sentiments"
   ]
  },
  {
   "cell_type": "code",
   "execution_count": null,
   "metadata": {},
   "outputs": [],
   "source": [
    "# Import de TfidfVectorizer\n",
    "\n",
    "from sklearn.feature_extraction.text import CountVectorizer, TfidfVectorizer"
   ]
  },
  {
   "cell_type": "code",
   "execution_count": null,
   "metadata": {},
   "outputs": [],
   "source": [
    "tfidf_vectorizer = TfidfVectorizer()"
   ]
  },
  {
   "cell_type": "code",
   "execution_count": null,
   "metadata": {},
   "outputs": [],
   "source": [
    "liste_emotions=[\"joie\",\"confiance\",\"surprise\",\"peur\",\"tristesse\",\"colère\",\"honte\",\"réflexion\"]\n",
    "\n",
    "dict_vect = {}\n",
    "\n",
    "for title in df[\"title\"].unique():\n",
    "    tfidf = tfidf_vectorizer.fit_transform(df[df[\"title\"] == title].loc[:, \"sentiments_final\"].tolist())\n",
    "    tfidf_feature_names = tfidf_vectorizer.get_feature_names_out()\n",
    "    df_tfidf = pd.DataFrame(tfidf.toarray(), columns=[x for x in tfidf_vectorizer.get_feature_names_out()]).reset_index()\n",
    "    df_def = df_tfidf.describe().T.iloc[1:,:][\"mean\"]\n",
    "    df_to_vec = pd.DataFrame({\"title\":[title]*len(liste_emotions),\n",
    "                              \"emotion\":liste_emotions,\n",
    "                              \"valeur\":[df_def.loc[em] if em in df_def.index else 0 for em in liste_emotions]\n",
    "                             })\n",
    "    df_to_vec[\"poids_valeur\"] = df_to_vec[\"valeur\"]/df_to_vec[\"valeur\"].sum()\n",
    "    dict_vect[title] = df_to_vec\n",
    "\n"
   ]
  },
  {
   "cell_type": "code",
   "execution_count": null,
   "metadata": {},
   "outputs": [
    {
     "data": {
      "text/html": [
       "<div>\n",
       "<style scoped>\n",
       "    .dataframe tbody tr th:only-of-type {\n",
       "        vertical-align: middle;\n",
       "    }\n",
       "\n",
       "    .dataframe tbody tr th {\n",
       "        vertical-align: top;\n",
       "    }\n",
       "\n",
       "    .dataframe thead th {\n",
       "        text-align: right;\n",
       "    }\n",
       "</style>\n",
       "<table border=\"1\" class=\"dataframe\">\n",
       "  <thead>\n",
       "    <tr style=\"text-align: right;\">\n",
       "      <th></th>\n",
       "      <th>count</th>\n",
       "      <th>mean</th>\n",
       "      <th>std</th>\n",
       "      <th>min</th>\n",
       "      <th>25%</th>\n",
       "      <th>50%</th>\n",
       "      <th>75%</th>\n",
       "      <th>max</th>\n",
       "    </tr>\n",
       "  </thead>\n",
       "  <tbody>\n",
       "    <tr>\n",
       "      <th>index</th>\n",
       "      <td>44.0</td>\n",
       "      <td>21.500000</td>\n",
       "      <td>12.845233</td>\n",
       "      <td>0.0</td>\n",
       "      <td>10.750000</td>\n",
       "      <td>21.500000</td>\n",
       "      <td>32.250000</td>\n",
       "      <td>43.000000</td>\n",
       "    </tr>\n",
       "    <tr>\n",
       "      <th>colère</th>\n",
       "      <td>44.0</td>\n",
       "      <td>0.109015</td>\n",
       "      <td>0.243614</td>\n",
       "      <td>0.0</td>\n",
       "      <td>0.000000</td>\n",
       "      <td>0.000000</td>\n",
       "      <td>0.000000</td>\n",
       "      <td>0.922298</td>\n",
       "    </tr>\n",
       "    <tr>\n",
       "      <th>confiance</th>\n",
       "      <td>44.0</td>\n",
       "      <td>0.212537</td>\n",
       "      <td>0.267561</td>\n",
       "      <td>0.0</td>\n",
       "      <td>0.000000</td>\n",
       "      <td>0.000000</td>\n",
       "      <td>0.387312</td>\n",
       "      <td>0.941942</td>\n",
       "    </tr>\n",
       "    <tr>\n",
       "      <th>dégoût</th>\n",
       "      <td>44.0</td>\n",
       "      <td>0.047456</td>\n",
       "      <td>0.186436</td>\n",
       "      <td>0.0</td>\n",
       "      <td>0.000000</td>\n",
       "      <td>0.000000</td>\n",
       "      <td>0.000000</td>\n",
       "      <td>1.000000</td>\n",
       "    </tr>\n",
       "    <tr>\n",
       "      <th>joie</th>\n",
       "      <td>44.0</td>\n",
       "      <td>0.517813</td>\n",
       "      <td>0.338768</td>\n",
       "      <td>0.0</td>\n",
       "      <td>0.287931</td>\n",
       "      <td>0.582902</td>\n",
       "      <td>0.779871</td>\n",
       "      <td>1.000000</td>\n",
       "    </tr>\n",
       "    <tr>\n",
       "      <th>peur</th>\n",
       "      <td>44.0</td>\n",
       "      <td>0.100873</td>\n",
       "      <td>0.230049</td>\n",
       "      <td>0.0</td>\n",
       "      <td>0.000000</td>\n",
       "      <td>0.000000</td>\n",
       "      <td>0.000000</td>\n",
       "      <td>0.835581</td>\n",
       "    </tr>\n",
       "    <tr>\n",
       "      <th>réflexion</th>\n",
       "      <td>44.0</td>\n",
       "      <td>0.151471</td>\n",
       "      <td>0.236434</td>\n",
       "      <td>0.0</td>\n",
       "      <td>0.000000</td>\n",
       "      <td>0.000000</td>\n",
       "      <td>0.312203</td>\n",
       "      <td>0.941184</td>\n",
       "    </tr>\n",
       "    <tr>\n",
       "      <th>surprise</th>\n",
       "      <td>44.0</td>\n",
       "      <td>0.206700</td>\n",
       "      <td>0.329050</td>\n",
       "      <td>0.0</td>\n",
       "      <td>0.000000</td>\n",
       "      <td>0.000000</td>\n",
       "      <td>0.368468</td>\n",
       "      <td>1.000000</td>\n",
       "    </tr>\n",
       "    <tr>\n",
       "      <th>tristesse</th>\n",
       "      <td>44.0</td>\n",
       "      <td>0.155295</td>\n",
       "      <td>0.255157</td>\n",
       "      <td>0.0</td>\n",
       "      <td>0.000000</td>\n",
       "      <td>0.000000</td>\n",
       "      <td>0.284228</td>\n",
       "      <td>0.899894</td>\n",
       "    </tr>\n",
       "  </tbody>\n",
       "</table>\n",
       "</div>"
      ],
      "text/plain": [
       "           count       mean        std  min        25%        50%        75%  \\\n",
       "index       44.0  21.500000  12.845233  0.0  10.750000  21.500000  32.250000   \n",
       "colère      44.0   0.109015   0.243614  0.0   0.000000   0.000000   0.000000   \n",
       "confiance   44.0   0.212537   0.267561  0.0   0.000000   0.000000   0.387312   \n",
       "dégoût      44.0   0.047456   0.186436  0.0   0.000000   0.000000   0.000000   \n",
       "joie        44.0   0.517813   0.338768  0.0   0.287931   0.582902   0.779871   \n",
       "peur        44.0   0.100873   0.230049  0.0   0.000000   0.000000   0.000000   \n",
       "réflexion   44.0   0.151471   0.236434  0.0   0.000000   0.000000   0.312203   \n",
       "surprise    44.0   0.206700   0.329050  0.0   0.000000   0.000000   0.368468   \n",
       "tristesse   44.0   0.155295   0.255157  0.0   0.000000   0.000000   0.284228   \n",
       "\n",
       "                 max  \n",
       "index      43.000000  \n",
       "colère      0.922298  \n",
       "confiance   0.941942  \n",
       "dégoût      1.000000  \n",
       "joie        1.000000  \n",
       "peur        0.835581  \n",
       "réflexion   0.941184  \n",
       "surprise    1.000000  \n",
       "tristesse   0.899894  "
      ]
     },
     "execution_count": 112,
     "metadata": {},
     "output_type": "execute_result"
    }
   ],
   "source": [
    "df_tfidf.describe().T"
   ]
  },
  {
   "cell_type": "code",
   "execution_count": null,
   "metadata": {},
   "outputs": [],
   "source": [
    "df_vect = pd.concat(dict_vect.values())\n"
   ]
  },
  {
   "cell_type": "code",
   "execution_count": null,
   "metadata": {},
   "outputs": [
    {
     "data": {
      "text/html": [
       "<div>\n",
       "<style scoped>\n",
       "    .dataframe tbody tr th:only-of-type {\n",
       "        vertical-align: middle;\n",
       "    }\n",
       "\n",
       "    .dataframe tbody tr th {\n",
       "        vertical-align: top;\n",
       "    }\n",
       "\n",
       "    .dataframe thead th {\n",
       "        text-align: right;\n",
       "    }\n",
       "</style>\n",
       "<table border=\"1\" class=\"dataframe\">\n",
       "  <thead>\n",
       "    <tr style=\"text-align: right;\">\n",
       "      <th></th>\n",
       "      <th>title</th>\n",
       "      <th>emotion</th>\n",
       "      <th>valeur</th>\n",
       "      <th>poids_valeur</th>\n",
       "    </tr>\n",
       "  </thead>\n",
       "  <tbody>\n",
       "    <tr>\n",
       "      <th>0</th>\n",
       "      <td>Le gang de la clef à molette (Ne meurs pas, ô ...</td>\n",
       "      <td>joie</td>\n",
       "      <td>0.501351</td>\n",
       "      <td>0.309961</td>\n",
       "    </tr>\n",
       "    <tr>\n",
       "      <th>1</th>\n",
       "      <td>Le gang de la clef à molette (Ne meurs pas, ô ...</td>\n",
       "      <td>confiance</td>\n",
       "      <td>0.195264</td>\n",
       "      <td>0.120722</td>\n",
       "    </tr>\n",
       "    <tr>\n",
       "      <th>2</th>\n",
       "      <td>Le gang de la clef à molette (Ne meurs pas, ô ...</td>\n",
       "      <td>surprise</td>\n",
       "      <td>0.090716</td>\n",
       "      <td>0.056086</td>\n",
       "    </tr>\n",
       "    <tr>\n",
       "      <th>3</th>\n",
       "      <td>Le gang de la clef à molette (Ne meurs pas, ô ...</td>\n",
       "      <td>peur</td>\n",
       "      <td>0.088190</td>\n",
       "      <td>0.054523</td>\n",
       "    </tr>\n",
       "    <tr>\n",
       "      <th>4</th>\n",
       "      <td>Le gang de la clef à molette (Ne meurs pas, ô ...</td>\n",
       "      <td>tristesse</td>\n",
       "      <td>0.174443</td>\n",
       "      <td>0.107850</td>\n",
       "    </tr>\n",
       "    <tr>\n",
       "      <th>...</th>\n",
       "      <td>...</td>\n",
       "      <td>...</td>\n",
       "      <td>...</td>\n",
       "      <td>...</td>\n",
       "    </tr>\n",
       "    <tr>\n",
       "      <th>3</th>\n",
       "      <td>Une enquête de William Wisting, tome 5 : Le co...</td>\n",
       "      <td>peur</td>\n",
       "      <td>0.100873</td>\n",
       "      <td>0.069390</td>\n",
       "    </tr>\n",
       "    <tr>\n",
       "      <th>4</th>\n",
       "      <td>Une enquête de William Wisting, tome 5 : Le co...</td>\n",
       "      <td>tristesse</td>\n",
       "      <td>0.155295</td>\n",
       "      <td>0.106827</td>\n",
       "    </tr>\n",
       "    <tr>\n",
       "      <th>5</th>\n",
       "      <td>Une enquête de William Wisting, tome 5 : Le co...</td>\n",
       "      <td>colère</td>\n",
       "      <td>0.109015</td>\n",
       "      <td>0.074991</td>\n",
       "    </tr>\n",
       "    <tr>\n",
       "      <th>6</th>\n",
       "      <td>Une enquête de William Wisting, tome 5 : Le co...</td>\n",
       "      <td>honte</td>\n",
       "      <td>0.000000</td>\n",
       "      <td>0.000000</td>\n",
       "    </tr>\n",
       "    <tr>\n",
       "      <th>7</th>\n",
       "      <td>Une enquête de William Wisting, tome 5 : Le co...</td>\n",
       "      <td>réflexion</td>\n",
       "      <td>0.151471</td>\n",
       "      <td>0.104197</td>\n",
       "    </tr>\n",
       "  </tbody>\n",
       "</table>\n",
       "<p>8816 rows × 4 columns</p>\n",
       "</div>"
      ],
      "text/plain": [
       "                                                title    emotion    valeur  \\\n",
       "0   Le gang de la clef à molette (Ne meurs pas, ô ...       joie  0.501351   \n",
       "1   Le gang de la clef à molette (Ne meurs pas, ô ...  confiance  0.195264   \n",
       "2   Le gang de la clef à molette (Ne meurs pas, ô ...   surprise  0.090716   \n",
       "3   Le gang de la clef à molette (Ne meurs pas, ô ...       peur  0.088190   \n",
       "4   Le gang de la clef à molette (Ne meurs pas, ô ...  tristesse  0.174443   \n",
       "..                                                ...        ...       ...   \n",
       "3   Une enquête de William Wisting, tome 5 : Le co...       peur  0.100873   \n",
       "4   Une enquête de William Wisting, tome 5 : Le co...  tristesse  0.155295   \n",
       "5   Une enquête de William Wisting, tome 5 : Le co...     colère  0.109015   \n",
       "6   Une enquête de William Wisting, tome 5 : Le co...      honte  0.000000   \n",
       "7   Une enquête de William Wisting, tome 5 : Le co...  réflexion  0.151471   \n",
       "\n",
       "    poids_valeur  \n",
       "0       0.309961  \n",
       "1       0.120722  \n",
       "2       0.056086  \n",
       "3       0.054523  \n",
       "4       0.107850  \n",
       "..           ...  \n",
       "3       0.069390  \n",
       "4       0.106827  \n",
       "5       0.074991  \n",
       "6       0.000000  \n",
       "7       0.104197  \n",
       "\n",
       "[8816 rows x 4 columns]"
      ]
     },
     "execution_count": 114,
     "metadata": {},
     "output_type": "execute_result"
    }
   ],
   "source": [
    "df_vect"
   ]
  },
  {
   "cell_type": "code",
   "execution_count": null,
   "metadata": {},
   "outputs": [],
   "source": [
    "from scipy import spatial"
   ]
  },
  {
   "cell_type": "code",
   "execution_count": null,
   "metadata": {},
   "outputs": [],
   "source": [
    "\"Comment braquer une banque sans perdre son dentier\"\n",
    "\"Rebecca Kean, tome 5 : L'armée des âmes\""
   ]
  },
  {
   "cell_type": "code",
   "execution_count": null,
   "metadata": {},
   "outputs": [
    {
     "name": "stdout",
     "output_type": "stream",
     "text": [
      "[0.3525728923278647, 0.09458627021510715, 0.10211107970813056, 0.019075493659031176, 0.14703831340830734, 0.04221628384694447, 0.0, 0.24239966683461456]\n",
      "[0.3791257035005228, 0.12963805071697757, 0.11012607314329811, 0.03894663207377297, 0.1244840036768519, 0.09726075629176774, 0.013346052759951968, 0.10707272783685697]\n"
     ]
    },
    {
     "data": {
      "text/plain": [
       "0.944699474171264"
      ]
     },
     "execution_count": 115,
     "metadata": {},
     "output_type": "execute_result"
    }
   ],
   "source": [
    "v1 = df_vect[df_vect[\"title\"]==\"Comment braquer une banque sans perdre son dentier\"][\"poids_valeur\"].tolist()\n",
    "v2 = df_vect[df_vect[\"title\"]==\"Rebecca Kean, tome 5 : L'armée des âmes\"][\"poids_valeur\"].tolist()\n",
    "print(v1)\n",
    "print(v2)\n",
    "1 - spatial.distance.cosine(v1, v2)"
   ]
  },
  {
   "cell_type": "code",
   "execution_count": null,
   "metadata": {},
   "outputs": [
    {
     "name": "stdout",
     "output_type": "stream",
     "text": [
      "La fissure\n",
      "Où bat le coeur du monde\n",
      "[0.281279814605877, 0.09461435622376607, 0.1417607828526777, 0.026503417744123514, 0.09763056791052624, 0.08456929774253419, 0.0, 0.2736417629204953]\n",
      "[0.3396758820149665, 0.11694280274546727, 0.09351191566964537, 0.04521460584157959, 0.1407335239948127, 0.09000185767945182, 0.0, 0.17391941205407682]\n"
     ]
    },
    {
     "data": {
      "text/plain": [
       "0.9537898097671899"
      ]
     },
     "execution_count": 116,
     "metadata": {},
     "output_type": "execute_result"
    }
   ],
   "source": [
    "random_title = np.random.choice(df_vect[\"title\"].unique())\n",
    "print(random_title)\n",
    "random_title2 = np.random.choice(df_vect[\"title\"].unique())\n",
    "print(random_title2)\n",
    "v1 = df_vect[df_vect[\"title\"]==random_title][\"poids_valeur\"].tolist()\n",
    "v2 = df_vect[df_vect[\"title\"]==random_title2][\"poids_valeur\"].tolist()\n",
    "print(v1)\n",
    "print(v2)\n",
    "1 - spatial.distance.cosine(v1, v2)"
   ]
  },
  {
   "cell_type": "code",
   "execution_count": null,
   "metadata": {},
   "outputs": [
    {
     "name": "stdout",
     "output_type": "stream",
     "text": [
      "[0.45903686980357045, 0.154406664339895, 0.23134765682626843, 0.04325246707591036, 0.15932899541187517, 0.1380135498582199, 0.0, 0.4465718895419465]\n",
      "[0.5906423142355575, 0.20334492763231193, 0.16260234301028778, 0.07862100562777795, 0.2447132066301929, 0.15649891063784285, 0.0, 0.3024181858798597]\n"
     ]
    },
    {
     "data": {
      "text/plain": [
       "0.95378980976719"
      ]
     },
     "execution_count": 117,
     "metadata": {},
     "output_type": "execute_result"
    }
   ],
   "source": [
    "v1 = df_vect[df_vect[\"title\"]==random_title][\"valeur\"].tolist()\n",
    "v2 = df_vect[df_vect[\"title\"]==random_title2][\"valeur\"].tolist()\n",
    "print(v1)\n",
    "print(v2)\n",
    "1 - spatial.distance.cosine(v1, v2)"
   ]
  },
  {
   "cell_type": "code",
   "execution_count": null,
   "metadata": {},
   "outputs": [
    {
     "name": "stderr",
     "output_type": "stream",
     "text": [
      "c:\\Users\\antoi\\anaconda3\\lib\\site-packages\\plotly\\express\\_core.py:271: FutureWarning:\n",
      "\n",
      "The frame.append method is deprecated and will be removed from pandas in a future version. Use pandas.concat instead.\n",
      "\n"
     ]
    },
    {
     "data": {
      "application/vnd.plotly.v1+json": {
       "config": {
        "plotlyServerURL": "https://plot.ly"
       },
       "data": [
        {
         "hovertemplate": "r=%{r}<br>theta=%{theta}<extra></extra>",
         "legendgroup": "",
         "line": {
          "color": "#636efa",
          "dash": "solid"
         },
         "marker": {
          "symbol": "circle"
         },
         "mode": "lines",
         "name": "",
         "r": [
          0.45903686980357045,
          0.154406664339895,
          0.23134765682626843,
          0.04325246707591036,
          0.15932899541187517,
          0.1380135498582199,
          0,
          0.4465718895419465,
          0.45903686980357045
         ],
         "showlegend": false,
         "subplot": "polar",
         "theta": [
          "joie",
          "confiance",
          "surprise",
          "peur",
          "tristesse",
          "colère",
          "honte",
          "réflexion",
          "joie"
         ],
         "type": "scatterpolar"
        }
       ],
       "layout": {
        "legend": {
         "tracegroupgap": 0
        },
        "polar": {
         "angularaxis": {
          "direction": "clockwise",
          "rotation": 90
         },
         "domain": {
          "x": [
           0,
           1
          ],
          "y": [
           0,
           1
          ]
         },
         "radialaxis": {
          "range": [
           0,
           0.5590368698035705
          ]
         }
        },
        "template": {
         "data": {
          "bar": [
           {
            "error_x": {
             "color": "#2a3f5f"
            },
            "error_y": {
             "color": "#2a3f5f"
            },
            "marker": {
             "line": {
              "color": "#E5ECF6",
              "width": 0.5
             },
             "pattern": {
              "fillmode": "overlay",
              "size": 10,
              "solidity": 0.2
             }
            },
            "type": "bar"
           }
          ],
          "barpolar": [
           {
            "marker": {
             "line": {
              "color": "#E5ECF6",
              "width": 0.5
             },
             "pattern": {
              "fillmode": "overlay",
              "size": 10,
              "solidity": 0.2
             }
            },
            "type": "barpolar"
           }
          ],
          "carpet": [
           {
            "aaxis": {
             "endlinecolor": "#2a3f5f",
             "gridcolor": "white",
             "linecolor": "white",
             "minorgridcolor": "white",
             "startlinecolor": "#2a3f5f"
            },
            "baxis": {
             "endlinecolor": "#2a3f5f",
             "gridcolor": "white",
             "linecolor": "white",
             "minorgridcolor": "white",
             "startlinecolor": "#2a3f5f"
            },
            "type": "carpet"
           }
          ],
          "choropleth": [
           {
            "colorbar": {
             "outlinewidth": 0,
             "ticks": ""
            },
            "type": "choropleth"
           }
          ],
          "contour": [
           {
            "colorbar": {
             "outlinewidth": 0,
             "ticks": ""
            },
            "colorscale": [
             [
              0,
              "#0d0887"
             ],
             [
              0.1111111111111111,
              "#46039f"
             ],
             [
              0.2222222222222222,
              "#7201a8"
             ],
             [
              0.3333333333333333,
              "#9c179e"
             ],
             [
              0.4444444444444444,
              "#bd3786"
             ],
             [
              0.5555555555555556,
              "#d8576b"
             ],
             [
              0.6666666666666666,
              "#ed7953"
             ],
             [
              0.7777777777777778,
              "#fb9f3a"
             ],
             [
              0.8888888888888888,
              "#fdca26"
             ],
             [
              1,
              "#f0f921"
             ]
            ],
            "type": "contour"
           }
          ],
          "contourcarpet": [
           {
            "colorbar": {
             "outlinewidth": 0,
             "ticks": ""
            },
            "type": "contourcarpet"
           }
          ],
          "heatmap": [
           {
            "colorbar": {
             "outlinewidth": 0,
             "ticks": ""
            },
            "colorscale": [
             [
              0,
              "#0d0887"
             ],
             [
              0.1111111111111111,
              "#46039f"
             ],
             [
              0.2222222222222222,
              "#7201a8"
             ],
             [
              0.3333333333333333,
              "#9c179e"
             ],
             [
              0.4444444444444444,
              "#bd3786"
             ],
             [
              0.5555555555555556,
              "#d8576b"
             ],
             [
              0.6666666666666666,
              "#ed7953"
             ],
             [
              0.7777777777777778,
              "#fb9f3a"
             ],
             [
              0.8888888888888888,
              "#fdca26"
             ],
             [
              1,
              "#f0f921"
             ]
            ],
            "type": "heatmap"
           }
          ],
          "heatmapgl": [
           {
            "colorbar": {
             "outlinewidth": 0,
             "ticks": ""
            },
            "colorscale": [
             [
              0,
              "#0d0887"
             ],
             [
              0.1111111111111111,
              "#46039f"
             ],
             [
              0.2222222222222222,
              "#7201a8"
             ],
             [
              0.3333333333333333,
              "#9c179e"
             ],
             [
              0.4444444444444444,
              "#bd3786"
             ],
             [
              0.5555555555555556,
              "#d8576b"
             ],
             [
              0.6666666666666666,
              "#ed7953"
             ],
             [
              0.7777777777777778,
              "#fb9f3a"
             ],
             [
              0.8888888888888888,
              "#fdca26"
             ],
             [
              1,
              "#f0f921"
             ]
            ],
            "type": "heatmapgl"
           }
          ],
          "histogram": [
           {
            "marker": {
             "pattern": {
              "fillmode": "overlay",
              "size": 10,
              "solidity": 0.2
             }
            },
            "type": "histogram"
           }
          ],
          "histogram2d": [
           {
            "colorbar": {
             "outlinewidth": 0,
             "ticks": ""
            },
            "colorscale": [
             [
              0,
              "#0d0887"
             ],
             [
              0.1111111111111111,
              "#46039f"
             ],
             [
              0.2222222222222222,
              "#7201a8"
             ],
             [
              0.3333333333333333,
              "#9c179e"
             ],
             [
              0.4444444444444444,
              "#bd3786"
             ],
             [
              0.5555555555555556,
              "#d8576b"
             ],
             [
              0.6666666666666666,
              "#ed7953"
             ],
             [
              0.7777777777777778,
              "#fb9f3a"
             ],
             [
              0.8888888888888888,
              "#fdca26"
             ],
             [
              1,
              "#f0f921"
             ]
            ],
            "type": "histogram2d"
           }
          ],
          "histogram2dcontour": [
           {
            "colorbar": {
             "outlinewidth": 0,
             "ticks": ""
            },
            "colorscale": [
             [
              0,
              "#0d0887"
             ],
             [
              0.1111111111111111,
              "#46039f"
             ],
             [
              0.2222222222222222,
              "#7201a8"
             ],
             [
              0.3333333333333333,
              "#9c179e"
             ],
             [
              0.4444444444444444,
              "#bd3786"
             ],
             [
              0.5555555555555556,
              "#d8576b"
             ],
             [
              0.6666666666666666,
              "#ed7953"
             ],
             [
              0.7777777777777778,
              "#fb9f3a"
             ],
             [
              0.8888888888888888,
              "#fdca26"
             ],
             [
              1,
              "#f0f921"
             ]
            ],
            "type": "histogram2dcontour"
           }
          ],
          "mesh3d": [
           {
            "colorbar": {
             "outlinewidth": 0,
             "ticks": ""
            },
            "type": "mesh3d"
           }
          ],
          "parcoords": [
           {
            "line": {
             "colorbar": {
              "outlinewidth": 0,
              "ticks": ""
             }
            },
            "type": "parcoords"
           }
          ],
          "pie": [
           {
            "automargin": true,
            "type": "pie"
           }
          ],
          "scatter": [
           {
            "fillpattern": {
             "fillmode": "overlay",
             "size": 10,
             "solidity": 0.2
            },
            "type": "scatter"
           }
          ],
          "scatter3d": [
           {
            "line": {
             "colorbar": {
              "outlinewidth": 0,
              "ticks": ""
             }
            },
            "marker": {
             "colorbar": {
              "outlinewidth": 0,
              "ticks": ""
             }
            },
            "type": "scatter3d"
           }
          ],
          "scattercarpet": [
           {
            "marker": {
             "colorbar": {
              "outlinewidth": 0,
              "ticks": ""
             }
            },
            "type": "scattercarpet"
           }
          ],
          "scattergeo": [
           {
            "marker": {
             "colorbar": {
              "outlinewidth": 0,
              "ticks": ""
             }
            },
            "type": "scattergeo"
           }
          ],
          "scattergl": [
           {
            "marker": {
             "colorbar": {
              "outlinewidth": 0,
              "ticks": ""
             }
            },
            "type": "scattergl"
           }
          ],
          "scattermapbox": [
           {
            "marker": {
             "colorbar": {
              "outlinewidth": 0,
              "ticks": ""
             }
            },
            "type": "scattermapbox"
           }
          ],
          "scatterpolar": [
           {
            "marker": {
             "colorbar": {
              "outlinewidth": 0,
              "ticks": ""
             }
            },
            "type": "scatterpolar"
           }
          ],
          "scatterpolargl": [
           {
            "marker": {
             "colorbar": {
              "outlinewidth": 0,
              "ticks": ""
             }
            },
            "type": "scatterpolargl"
           }
          ],
          "scatterternary": [
           {
            "marker": {
             "colorbar": {
              "outlinewidth": 0,
              "ticks": ""
             }
            },
            "type": "scatterternary"
           }
          ],
          "surface": [
           {
            "colorbar": {
             "outlinewidth": 0,
             "ticks": ""
            },
            "colorscale": [
             [
              0,
              "#0d0887"
             ],
             [
              0.1111111111111111,
              "#46039f"
             ],
             [
              0.2222222222222222,
              "#7201a8"
             ],
             [
              0.3333333333333333,
              "#9c179e"
             ],
             [
              0.4444444444444444,
              "#bd3786"
             ],
             [
              0.5555555555555556,
              "#d8576b"
             ],
             [
              0.6666666666666666,
              "#ed7953"
             ],
             [
              0.7777777777777778,
              "#fb9f3a"
             ],
             [
              0.8888888888888888,
              "#fdca26"
             ],
             [
              1,
              "#f0f921"
             ]
            ],
            "type": "surface"
           }
          ],
          "table": [
           {
            "cells": {
             "fill": {
              "color": "#EBF0F8"
             },
             "line": {
              "color": "white"
             }
            },
            "header": {
             "fill": {
              "color": "#C8D4E3"
             },
             "line": {
              "color": "white"
             }
            },
            "type": "table"
           }
          ]
         },
         "layout": {
          "annotationdefaults": {
           "arrowcolor": "#2a3f5f",
           "arrowhead": 0,
           "arrowwidth": 1
          },
          "autotypenumbers": "strict",
          "coloraxis": {
           "colorbar": {
            "outlinewidth": 0,
            "ticks": ""
           }
          },
          "colorscale": {
           "diverging": [
            [
             0,
             "#8e0152"
            ],
            [
             0.1,
             "#c51b7d"
            ],
            [
             0.2,
             "#de77ae"
            ],
            [
             0.3,
             "#f1b6da"
            ],
            [
             0.4,
             "#fde0ef"
            ],
            [
             0.5,
             "#f7f7f7"
            ],
            [
             0.6,
             "#e6f5d0"
            ],
            [
             0.7,
             "#b8e186"
            ],
            [
             0.8,
             "#7fbc41"
            ],
            [
             0.9,
             "#4d9221"
            ],
            [
             1,
             "#276419"
            ]
           ],
           "sequential": [
            [
             0,
             "#0d0887"
            ],
            [
             0.1111111111111111,
             "#46039f"
            ],
            [
             0.2222222222222222,
             "#7201a8"
            ],
            [
             0.3333333333333333,
             "#9c179e"
            ],
            [
             0.4444444444444444,
             "#bd3786"
            ],
            [
             0.5555555555555556,
             "#d8576b"
            ],
            [
             0.6666666666666666,
             "#ed7953"
            ],
            [
             0.7777777777777778,
             "#fb9f3a"
            ],
            [
             0.8888888888888888,
             "#fdca26"
            ],
            [
             1,
             "#f0f921"
            ]
           ],
           "sequentialminus": [
            [
             0,
             "#0d0887"
            ],
            [
             0.1111111111111111,
             "#46039f"
            ],
            [
             0.2222222222222222,
             "#7201a8"
            ],
            [
             0.3333333333333333,
             "#9c179e"
            ],
            [
             0.4444444444444444,
             "#bd3786"
            ],
            [
             0.5555555555555556,
             "#d8576b"
            ],
            [
             0.6666666666666666,
             "#ed7953"
            ],
            [
             0.7777777777777778,
             "#fb9f3a"
            ],
            [
             0.8888888888888888,
             "#fdca26"
            ],
            [
             1,
             "#f0f921"
            ]
           ]
          },
          "colorway": [
           "#636efa",
           "#EF553B",
           "#00cc96",
           "#ab63fa",
           "#FFA15A",
           "#19d3f3",
           "#FF6692",
           "#B6E880",
           "#FF97FF",
           "#FECB52"
          ],
          "font": {
           "color": "#2a3f5f"
          },
          "geo": {
           "bgcolor": "white",
           "lakecolor": "white",
           "landcolor": "#E5ECF6",
           "showlakes": true,
           "showland": true,
           "subunitcolor": "white"
          },
          "hoverlabel": {
           "align": "left"
          },
          "hovermode": "closest",
          "mapbox": {
           "style": "light"
          },
          "paper_bgcolor": "white",
          "plot_bgcolor": "#E5ECF6",
          "polar": {
           "angularaxis": {
            "gridcolor": "white",
            "linecolor": "white",
            "ticks": ""
           },
           "bgcolor": "#E5ECF6",
           "radialaxis": {
            "gridcolor": "white",
            "linecolor": "white",
            "ticks": ""
           }
          },
          "scene": {
           "xaxis": {
            "backgroundcolor": "#E5ECF6",
            "gridcolor": "white",
            "gridwidth": 2,
            "linecolor": "white",
            "showbackground": true,
            "ticks": "",
            "zerolinecolor": "white"
           },
           "yaxis": {
            "backgroundcolor": "#E5ECF6",
            "gridcolor": "white",
            "gridwidth": 2,
            "linecolor": "white",
            "showbackground": true,
            "ticks": "",
            "zerolinecolor": "white"
           },
           "zaxis": {
            "backgroundcolor": "#E5ECF6",
            "gridcolor": "white",
            "gridwidth": 2,
            "linecolor": "white",
            "showbackground": true,
            "ticks": "",
            "zerolinecolor": "white"
           }
          },
          "shapedefaults": {
           "line": {
            "color": "#2a3f5f"
           }
          },
          "ternary": {
           "aaxis": {
            "gridcolor": "white",
            "linecolor": "white",
            "ticks": ""
           },
           "baxis": {
            "gridcolor": "white",
            "linecolor": "white",
            "ticks": ""
           },
           "bgcolor": "#E5ECF6",
           "caxis": {
            "gridcolor": "white",
            "linecolor": "white",
            "ticks": ""
           }
          },
          "title": {
           "x": 0.05
          },
          "xaxis": {
           "automargin": true,
           "gridcolor": "white",
           "linecolor": "white",
           "ticks": "",
           "title": {
            "standoff": 15
           },
           "zerolinecolor": "white",
           "zerolinewidth": 2
          },
          "yaxis": {
           "automargin": true,
           "gridcolor": "white",
           "linecolor": "white",
           "ticks": "",
           "title": {
            "standoff": 15
           },
           "zerolinecolor": "white",
           "zerolinewidth": 2
          }
         }
        },
        "title": {
         "text": "La fissure"
        }
       }
      }
     },
     "metadata": {},
     "output_type": "display_data"
    }
   ],
   "source": [
    "fig = px.line_polar(df_vect[df_vect[\"title\"]==\"random_title\"],r=df_vect[df_vect[\"title\"]==random_title][\"valeur\"],theta=df_vect[df_vect[\"title\"]==random_title][\"emotion\"],\n",
    "                    line_close=True, range_r=[0,max(df_vect[df_vect[\"title\"]==random_title][\"valeur\"])+0.1],title=random_title)\n",
    "fig.show()"
   ]
  }
 ],
 "metadata": {
  "kernelspec": {
   "display_name": "Python 3.9.13 ('base')",
   "language": "python",
   "name": "python3"
  },
  "language_info": {
   "codemirror_mode": {
    "name": "ipython",
    "version": 3
   },
   "file_extension": ".py",
   "mimetype": "text/x-python",
   "name": "python",
   "nbconvert_exporter": "python",
   "pygments_lexer": "ipython3",
   "version": "3.9.13"
  },
  "orig_nbformat": 4,
  "vscode": {
   "interpreter": {
    "hash": "45bb1cb4637e4034484920e5cfb24c9afd84b0847d6c36e39edd3067d3a05462"
   }
  }
 },
 "nbformat": 4,
 "nbformat_minor": 2
}
